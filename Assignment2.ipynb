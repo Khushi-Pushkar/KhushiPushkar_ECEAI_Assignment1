{
  "nbformat": 4,
  "nbformat_minor": 0,
  "metadata": {
    "colab": {
      "provenance": [],
      "authorship_tag": "ABX9TyOqvu1HYCTDi4l+1wFUPo+y",
      "include_colab_link": true
    },
    "kernelspec": {
      "name": "python3",
      "display_name": "Python 3"
    },
    "language_info": {
      "name": "python"
    }
  },
  "cells": [
    {
      "cell_type": "markdown",
      "metadata": {
        "id": "view-in-github",
        "colab_type": "text"
      },
      "source": [
        "<a href=\"https://colab.research.google.com/github/Khushi-Pushkar/KhushiPushkar_ECEAI_Assignment1/blob/main/Assignment2.ipynb\" target=\"_parent\"><img src=\"https://colab.research.google.com/assets/colab-badge.svg\" alt=\"Open In Colab\"/></a>"
      ]
    },
    {
      "cell_type": "markdown",
      "source": [
        "\n",
        "\n",
        "# CAR PRICE ASSIGNMENT\n",
        "\n"
      ],
      "metadata": {
        "id": "Vhh5XVTTCv-9"
      }
    },
    {
      "cell_type": "markdown",
      "source": [
        "***LINEAR REGRESSION***"
      ],
      "metadata": {
        "id": "R5sVJKzqO6Nt"
      }
    },
    {
      "cell_type": "code",
      "execution_count": null,
      "metadata": {
        "id": "1hbCNfRuyUgg"
      },
      "outputs": [],
      "source": [
        "import pandas as pd\n",
        "import numpy as np\n",
        "import matplotlib.pyplot as plt\n",
        "import seaborn as sns"
      ]
    },
    {
      "cell_type": "code",
      "source": [
        "df=pd.read_csv(\"CarPrice_Assignment.csv\")"
      ],
      "metadata": {
        "id": "DYLmmKLfyocQ"
      },
      "execution_count": null,
      "outputs": []
    },
    {
      "cell_type": "code",
      "source": [
        "df"
      ],
      "metadata": {
        "colab": {
          "base_uri": "https://localhost:8080/",
          "height": 513
        },
        "id": "hziNbCxZzgW3",
        "outputId": "85b28056-de2e-46d8-86fa-e085c588ff7b"
      },
      "execution_count": null,
      "outputs": [
        {
          "output_type": "execute_result",
          "data": {
            "text/plain": [
              "     car_ID  symboling                   CarName fueltype aspiration  \\\n",
              "0         1          3        alfa-romero giulia      gas        std   \n",
              "1         2          3       alfa-romero stelvio      gas        std   \n",
              "2         3          1  alfa-romero Quadrifoglio      gas        std   \n",
              "3         4          2               audi 100 ls      gas        std   \n",
              "4         5          2                audi 100ls      gas        std   \n",
              "..      ...        ...                       ...      ...        ...   \n",
              "200     201         -1           volvo 145e (sw)      gas        std   \n",
              "201     202         -1               volvo 144ea      gas      turbo   \n",
              "202     203         -1               volvo 244dl      gas        std   \n",
              "203     204         -1                 volvo 246   diesel      turbo   \n",
              "204     205         -1               volvo 264gl      gas      turbo   \n",
              "\n",
              "    doornumber      carbody drivewheel enginelocation  wheelbase  ...  \\\n",
              "0          two  convertible        rwd          front       88.6  ...   \n",
              "1          two  convertible        rwd          front       88.6  ...   \n",
              "2          two    hatchback        rwd          front       94.5  ...   \n",
              "3         four        sedan        fwd          front       99.8  ...   \n",
              "4         four        sedan        4wd          front       99.4  ...   \n",
              "..         ...          ...        ...            ...        ...  ...   \n",
              "200       four        sedan        rwd          front      109.1  ...   \n",
              "201       four        sedan        rwd          front      109.1  ...   \n",
              "202       four        sedan        rwd          front      109.1  ...   \n",
              "203       four        sedan        rwd          front      109.1  ...   \n",
              "204       four        sedan        rwd          front      109.1  ...   \n",
              "\n",
              "     enginesize  fuelsystem  boreratio  stroke compressionratio horsepower  \\\n",
              "0           130        mpfi       3.47    2.68              9.0        111   \n",
              "1           130        mpfi       3.47    2.68              9.0        111   \n",
              "2           152        mpfi       2.68    3.47              9.0        154   \n",
              "3           109        mpfi       3.19    3.40             10.0        102   \n",
              "4           136        mpfi       3.19    3.40              8.0        115   \n",
              "..          ...         ...        ...     ...              ...        ...   \n",
              "200         141        mpfi       3.78    3.15              9.5        114   \n",
              "201         141        mpfi       3.78    3.15              8.7        160   \n",
              "202         173        mpfi       3.58    2.87              8.8        134   \n",
              "203         145         idi       3.01    3.40             23.0        106   \n",
              "204         141        mpfi       3.78    3.15              9.5        114   \n",
              "\n",
              "     peakrpm citympg  highwaympg    price  \n",
              "0       5000      21          27  13495.0  \n",
              "1       5000      21          27  16500.0  \n",
              "2       5000      19          26  16500.0  \n",
              "3       5500      24          30  13950.0  \n",
              "4       5500      18          22  17450.0  \n",
              "..       ...     ...         ...      ...  \n",
              "200     5400      23          28  16845.0  \n",
              "201     5300      19          25  19045.0  \n",
              "202     5500      18          23  21485.0  \n",
              "203     4800      26          27  22470.0  \n",
              "204     5400      19          25  22625.0  \n",
              "\n",
              "[205 rows x 26 columns]"
            ],
            "text/html": [
              "\n",
              "  <div id=\"df-08b80046-b031-45e4-a9f0-f7c75e8cf83d\" class=\"colab-df-container\">\n",
              "    <div>\n",
              "<style scoped>\n",
              "    .dataframe tbody tr th:only-of-type {\n",
              "        vertical-align: middle;\n",
              "    }\n",
              "\n",
              "    .dataframe tbody tr th {\n",
              "        vertical-align: top;\n",
              "    }\n",
              "\n",
              "    .dataframe thead th {\n",
              "        text-align: right;\n",
              "    }\n",
              "</style>\n",
              "<table border=\"1\" class=\"dataframe\">\n",
              "  <thead>\n",
              "    <tr style=\"text-align: right;\">\n",
              "      <th></th>\n",
              "      <th>car_ID</th>\n",
              "      <th>symboling</th>\n",
              "      <th>CarName</th>\n",
              "      <th>fueltype</th>\n",
              "      <th>aspiration</th>\n",
              "      <th>doornumber</th>\n",
              "      <th>carbody</th>\n",
              "      <th>drivewheel</th>\n",
              "      <th>enginelocation</th>\n",
              "      <th>wheelbase</th>\n",
              "      <th>...</th>\n",
              "      <th>enginesize</th>\n",
              "      <th>fuelsystem</th>\n",
              "      <th>boreratio</th>\n",
              "      <th>stroke</th>\n",
              "      <th>compressionratio</th>\n",
              "      <th>horsepower</th>\n",
              "      <th>peakrpm</th>\n",
              "      <th>citympg</th>\n",
              "      <th>highwaympg</th>\n",
              "      <th>price</th>\n",
              "    </tr>\n",
              "  </thead>\n",
              "  <tbody>\n",
              "    <tr>\n",
              "      <th>0</th>\n",
              "      <td>1</td>\n",
              "      <td>3</td>\n",
              "      <td>alfa-romero giulia</td>\n",
              "      <td>gas</td>\n",
              "      <td>std</td>\n",
              "      <td>two</td>\n",
              "      <td>convertible</td>\n",
              "      <td>rwd</td>\n",
              "      <td>front</td>\n",
              "      <td>88.6</td>\n",
              "      <td>...</td>\n",
              "      <td>130</td>\n",
              "      <td>mpfi</td>\n",
              "      <td>3.47</td>\n",
              "      <td>2.68</td>\n",
              "      <td>9.0</td>\n",
              "      <td>111</td>\n",
              "      <td>5000</td>\n",
              "      <td>21</td>\n",
              "      <td>27</td>\n",
              "      <td>13495.0</td>\n",
              "    </tr>\n",
              "    <tr>\n",
              "      <th>1</th>\n",
              "      <td>2</td>\n",
              "      <td>3</td>\n",
              "      <td>alfa-romero stelvio</td>\n",
              "      <td>gas</td>\n",
              "      <td>std</td>\n",
              "      <td>two</td>\n",
              "      <td>convertible</td>\n",
              "      <td>rwd</td>\n",
              "      <td>front</td>\n",
              "      <td>88.6</td>\n",
              "      <td>...</td>\n",
              "      <td>130</td>\n",
              "      <td>mpfi</td>\n",
              "      <td>3.47</td>\n",
              "      <td>2.68</td>\n",
              "      <td>9.0</td>\n",
              "      <td>111</td>\n",
              "      <td>5000</td>\n",
              "      <td>21</td>\n",
              "      <td>27</td>\n",
              "      <td>16500.0</td>\n",
              "    </tr>\n",
              "    <tr>\n",
              "      <th>2</th>\n",
              "      <td>3</td>\n",
              "      <td>1</td>\n",
              "      <td>alfa-romero Quadrifoglio</td>\n",
              "      <td>gas</td>\n",
              "      <td>std</td>\n",
              "      <td>two</td>\n",
              "      <td>hatchback</td>\n",
              "      <td>rwd</td>\n",
              "      <td>front</td>\n",
              "      <td>94.5</td>\n",
              "      <td>...</td>\n",
              "      <td>152</td>\n",
              "      <td>mpfi</td>\n",
              "      <td>2.68</td>\n",
              "      <td>3.47</td>\n",
              "      <td>9.0</td>\n",
              "      <td>154</td>\n",
              "      <td>5000</td>\n",
              "      <td>19</td>\n",
              "      <td>26</td>\n",
              "      <td>16500.0</td>\n",
              "    </tr>\n",
              "    <tr>\n",
              "      <th>3</th>\n",
              "      <td>4</td>\n",
              "      <td>2</td>\n",
              "      <td>audi 100 ls</td>\n",
              "      <td>gas</td>\n",
              "      <td>std</td>\n",
              "      <td>four</td>\n",
              "      <td>sedan</td>\n",
              "      <td>fwd</td>\n",
              "      <td>front</td>\n",
              "      <td>99.8</td>\n",
              "      <td>...</td>\n",
              "      <td>109</td>\n",
              "      <td>mpfi</td>\n",
              "      <td>3.19</td>\n",
              "      <td>3.40</td>\n",
              "      <td>10.0</td>\n",
              "      <td>102</td>\n",
              "      <td>5500</td>\n",
              "      <td>24</td>\n",
              "      <td>30</td>\n",
              "      <td>13950.0</td>\n",
              "    </tr>\n",
              "    <tr>\n",
              "      <th>4</th>\n",
              "      <td>5</td>\n",
              "      <td>2</td>\n",
              "      <td>audi 100ls</td>\n",
              "      <td>gas</td>\n",
              "      <td>std</td>\n",
              "      <td>four</td>\n",
              "      <td>sedan</td>\n",
              "      <td>4wd</td>\n",
              "      <td>front</td>\n",
              "      <td>99.4</td>\n",
              "      <td>...</td>\n",
              "      <td>136</td>\n",
              "      <td>mpfi</td>\n",
              "      <td>3.19</td>\n",
              "      <td>3.40</td>\n",
              "      <td>8.0</td>\n",
              "      <td>115</td>\n",
              "      <td>5500</td>\n",
              "      <td>18</td>\n",
              "      <td>22</td>\n",
              "      <td>17450.0</td>\n",
              "    </tr>\n",
              "    <tr>\n",
              "      <th>...</th>\n",
              "      <td>...</td>\n",
              "      <td>...</td>\n",
              "      <td>...</td>\n",
              "      <td>...</td>\n",
              "      <td>...</td>\n",
              "      <td>...</td>\n",
              "      <td>...</td>\n",
              "      <td>...</td>\n",
              "      <td>...</td>\n",
              "      <td>...</td>\n",
              "      <td>...</td>\n",
              "      <td>...</td>\n",
              "      <td>...</td>\n",
              "      <td>...</td>\n",
              "      <td>...</td>\n",
              "      <td>...</td>\n",
              "      <td>...</td>\n",
              "      <td>...</td>\n",
              "      <td>...</td>\n",
              "      <td>...</td>\n",
              "      <td>...</td>\n",
              "    </tr>\n",
              "    <tr>\n",
              "      <th>200</th>\n",
              "      <td>201</td>\n",
              "      <td>-1</td>\n",
              "      <td>volvo 145e (sw)</td>\n",
              "      <td>gas</td>\n",
              "      <td>std</td>\n",
              "      <td>four</td>\n",
              "      <td>sedan</td>\n",
              "      <td>rwd</td>\n",
              "      <td>front</td>\n",
              "      <td>109.1</td>\n",
              "      <td>...</td>\n",
              "      <td>141</td>\n",
              "      <td>mpfi</td>\n",
              "      <td>3.78</td>\n",
              "      <td>3.15</td>\n",
              "      <td>9.5</td>\n",
              "      <td>114</td>\n",
              "      <td>5400</td>\n",
              "      <td>23</td>\n",
              "      <td>28</td>\n",
              "      <td>16845.0</td>\n",
              "    </tr>\n",
              "    <tr>\n",
              "      <th>201</th>\n",
              "      <td>202</td>\n",
              "      <td>-1</td>\n",
              "      <td>volvo 144ea</td>\n",
              "      <td>gas</td>\n",
              "      <td>turbo</td>\n",
              "      <td>four</td>\n",
              "      <td>sedan</td>\n",
              "      <td>rwd</td>\n",
              "      <td>front</td>\n",
              "      <td>109.1</td>\n",
              "      <td>...</td>\n",
              "      <td>141</td>\n",
              "      <td>mpfi</td>\n",
              "      <td>3.78</td>\n",
              "      <td>3.15</td>\n",
              "      <td>8.7</td>\n",
              "      <td>160</td>\n",
              "      <td>5300</td>\n",
              "      <td>19</td>\n",
              "      <td>25</td>\n",
              "      <td>19045.0</td>\n",
              "    </tr>\n",
              "    <tr>\n",
              "      <th>202</th>\n",
              "      <td>203</td>\n",
              "      <td>-1</td>\n",
              "      <td>volvo 244dl</td>\n",
              "      <td>gas</td>\n",
              "      <td>std</td>\n",
              "      <td>four</td>\n",
              "      <td>sedan</td>\n",
              "      <td>rwd</td>\n",
              "      <td>front</td>\n",
              "      <td>109.1</td>\n",
              "      <td>...</td>\n",
              "      <td>173</td>\n",
              "      <td>mpfi</td>\n",
              "      <td>3.58</td>\n",
              "      <td>2.87</td>\n",
              "      <td>8.8</td>\n",
              "      <td>134</td>\n",
              "      <td>5500</td>\n",
              "      <td>18</td>\n",
              "      <td>23</td>\n",
              "      <td>21485.0</td>\n",
              "    </tr>\n",
              "    <tr>\n",
              "      <th>203</th>\n",
              "      <td>204</td>\n",
              "      <td>-1</td>\n",
              "      <td>volvo 246</td>\n",
              "      <td>diesel</td>\n",
              "      <td>turbo</td>\n",
              "      <td>four</td>\n",
              "      <td>sedan</td>\n",
              "      <td>rwd</td>\n",
              "      <td>front</td>\n",
              "      <td>109.1</td>\n",
              "      <td>...</td>\n",
              "      <td>145</td>\n",
              "      <td>idi</td>\n",
              "      <td>3.01</td>\n",
              "      <td>3.40</td>\n",
              "      <td>23.0</td>\n",
              "      <td>106</td>\n",
              "      <td>4800</td>\n",
              "      <td>26</td>\n",
              "      <td>27</td>\n",
              "      <td>22470.0</td>\n",
              "    </tr>\n",
              "    <tr>\n",
              "      <th>204</th>\n",
              "      <td>205</td>\n",
              "      <td>-1</td>\n",
              "      <td>volvo 264gl</td>\n",
              "      <td>gas</td>\n",
              "      <td>turbo</td>\n",
              "      <td>four</td>\n",
              "      <td>sedan</td>\n",
              "      <td>rwd</td>\n",
              "      <td>front</td>\n",
              "      <td>109.1</td>\n",
              "      <td>...</td>\n",
              "      <td>141</td>\n",
              "      <td>mpfi</td>\n",
              "      <td>3.78</td>\n",
              "      <td>3.15</td>\n",
              "      <td>9.5</td>\n",
              "      <td>114</td>\n",
              "      <td>5400</td>\n",
              "      <td>19</td>\n",
              "      <td>25</td>\n",
              "      <td>22625.0</td>\n",
              "    </tr>\n",
              "  </tbody>\n",
              "</table>\n",
              "<p>205 rows × 26 columns</p>\n",
              "</div>\n",
              "    <div class=\"colab-df-buttons\">\n",
              "\n",
              "  <div class=\"colab-df-container\">\n",
              "    <button class=\"colab-df-convert\" onclick=\"convertToInteractive('df-08b80046-b031-45e4-a9f0-f7c75e8cf83d')\"\n",
              "            title=\"Convert this dataframe to an interactive table.\"\n",
              "            style=\"display:none;\">\n",
              "\n",
              "  <svg xmlns=\"http://www.w3.org/2000/svg\" height=\"24px\" viewBox=\"0 -960 960 960\">\n",
              "    <path d=\"M120-120v-720h720v720H120Zm60-500h600v-160H180v160Zm220 220h160v-160H400v160Zm0 220h160v-160H400v160ZM180-400h160v-160H180v160Zm440 0h160v-160H620v160ZM180-180h160v-160H180v160Zm440 0h160v-160H620v160Z\"/>\n",
              "  </svg>\n",
              "    </button>\n",
              "\n",
              "  <style>\n",
              "    .colab-df-container {\n",
              "      display:flex;\n",
              "      gap: 12px;\n",
              "    }\n",
              "\n",
              "    .colab-df-convert {\n",
              "      background-color: #E8F0FE;\n",
              "      border: none;\n",
              "      border-radius: 50%;\n",
              "      cursor: pointer;\n",
              "      display: none;\n",
              "      fill: #1967D2;\n",
              "      height: 32px;\n",
              "      padding: 0 0 0 0;\n",
              "      width: 32px;\n",
              "    }\n",
              "\n",
              "    .colab-df-convert:hover {\n",
              "      background-color: #E2EBFA;\n",
              "      box-shadow: 0px 1px 2px rgba(60, 64, 67, 0.3), 0px 1px 3px 1px rgba(60, 64, 67, 0.15);\n",
              "      fill: #174EA6;\n",
              "    }\n",
              "\n",
              "    .colab-df-buttons div {\n",
              "      margin-bottom: 4px;\n",
              "    }\n",
              "\n",
              "    [theme=dark] .colab-df-convert {\n",
              "      background-color: #3B4455;\n",
              "      fill: #D2E3FC;\n",
              "    }\n",
              "\n",
              "    [theme=dark] .colab-df-convert:hover {\n",
              "      background-color: #434B5C;\n",
              "      box-shadow: 0px 1px 3px 1px rgba(0, 0, 0, 0.15);\n",
              "      filter: drop-shadow(0px 1px 2px rgba(0, 0, 0, 0.3));\n",
              "      fill: #FFFFFF;\n",
              "    }\n",
              "  </style>\n",
              "\n",
              "    <script>\n",
              "      const buttonEl =\n",
              "        document.querySelector('#df-08b80046-b031-45e4-a9f0-f7c75e8cf83d button.colab-df-convert');\n",
              "      buttonEl.style.display =\n",
              "        google.colab.kernel.accessAllowed ? 'block' : 'none';\n",
              "\n",
              "      async function convertToInteractive(key) {\n",
              "        const element = document.querySelector('#df-08b80046-b031-45e4-a9f0-f7c75e8cf83d');\n",
              "        const dataTable =\n",
              "          await google.colab.kernel.invokeFunction('convertToInteractive',\n",
              "                                                    [key], {});\n",
              "        if (!dataTable) return;\n",
              "\n",
              "        const docLinkHtml = 'Like what you see? Visit the ' +\n",
              "          '<a target=\"_blank\" href=https://colab.research.google.com/notebooks/data_table.ipynb>data table notebook</a>'\n",
              "          + ' to learn more about interactive tables.';\n",
              "        element.innerHTML = '';\n",
              "        dataTable['output_type'] = 'display_data';\n",
              "        await google.colab.output.renderOutput(dataTable, element);\n",
              "        const docLink = document.createElement('div');\n",
              "        docLink.innerHTML = docLinkHtml;\n",
              "        element.appendChild(docLink);\n",
              "      }\n",
              "    </script>\n",
              "  </div>\n",
              "\n",
              "\n",
              "<div id=\"df-ce3ba410-14dd-4ca7-85a2-d48683aa8a12\">\n",
              "  <button class=\"colab-df-quickchart\" onclick=\"quickchart('df-ce3ba410-14dd-4ca7-85a2-d48683aa8a12')\"\n",
              "            title=\"Suggest charts.\"\n",
              "            style=\"display:none;\">\n",
              "\n",
              "<svg xmlns=\"http://www.w3.org/2000/svg\" height=\"24px\"viewBox=\"0 0 24 24\"\n",
              "     width=\"24px\">\n",
              "    <g>\n",
              "        <path d=\"M19 3H5c-1.1 0-2 .9-2 2v14c0 1.1.9 2 2 2h14c1.1 0 2-.9 2-2V5c0-1.1-.9-2-2-2zM9 17H7v-7h2v7zm4 0h-2V7h2v10zm4 0h-2v-4h2v4z\"/>\n",
              "    </g>\n",
              "</svg>\n",
              "  </button>\n",
              "\n",
              "<style>\n",
              "  .colab-df-quickchart {\n",
              "      --bg-color: #E8F0FE;\n",
              "      --fill-color: #1967D2;\n",
              "      --hover-bg-color: #E2EBFA;\n",
              "      --hover-fill-color: #174EA6;\n",
              "      --disabled-fill-color: #AAA;\n",
              "      --disabled-bg-color: #DDD;\n",
              "  }\n",
              "\n",
              "  [theme=dark] .colab-df-quickchart {\n",
              "      --bg-color: #3B4455;\n",
              "      --fill-color: #D2E3FC;\n",
              "      --hover-bg-color: #434B5C;\n",
              "      --hover-fill-color: #FFFFFF;\n",
              "      --disabled-bg-color: #3B4455;\n",
              "      --disabled-fill-color: #666;\n",
              "  }\n",
              "\n",
              "  .colab-df-quickchart {\n",
              "    background-color: var(--bg-color);\n",
              "    border: none;\n",
              "    border-radius: 50%;\n",
              "    cursor: pointer;\n",
              "    display: none;\n",
              "    fill: var(--fill-color);\n",
              "    height: 32px;\n",
              "    padding: 0;\n",
              "    width: 32px;\n",
              "  }\n",
              "\n",
              "  .colab-df-quickchart:hover {\n",
              "    background-color: var(--hover-bg-color);\n",
              "    box-shadow: 0 1px 2px rgba(60, 64, 67, 0.3), 0 1px 3px 1px rgba(60, 64, 67, 0.15);\n",
              "    fill: var(--button-hover-fill-color);\n",
              "  }\n",
              "\n",
              "  .colab-df-quickchart-complete:disabled,\n",
              "  .colab-df-quickchart-complete:disabled:hover {\n",
              "    background-color: var(--disabled-bg-color);\n",
              "    fill: var(--disabled-fill-color);\n",
              "    box-shadow: none;\n",
              "  }\n",
              "\n",
              "  .colab-df-spinner {\n",
              "    border: 2px solid var(--fill-color);\n",
              "    border-color: transparent;\n",
              "    border-bottom-color: var(--fill-color);\n",
              "    animation:\n",
              "      spin 1s steps(1) infinite;\n",
              "  }\n",
              "\n",
              "  @keyframes spin {\n",
              "    0% {\n",
              "      border-color: transparent;\n",
              "      border-bottom-color: var(--fill-color);\n",
              "      border-left-color: var(--fill-color);\n",
              "    }\n",
              "    20% {\n",
              "      border-color: transparent;\n",
              "      border-left-color: var(--fill-color);\n",
              "      border-top-color: var(--fill-color);\n",
              "    }\n",
              "    30% {\n",
              "      border-color: transparent;\n",
              "      border-left-color: var(--fill-color);\n",
              "      border-top-color: var(--fill-color);\n",
              "      border-right-color: var(--fill-color);\n",
              "    }\n",
              "    40% {\n",
              "      border-color: transparent;\n",
              "      border-right-color: var(--fill-color);\n",
              "      border-top-color: var(--fill-color);\n",
              "    }\n",
              "    60% {\n",
              "      border-color: transparent;\n",
              "      border-right-color: var(--fill-color);\n",
              "    }\n",
              "    80% {\n",
              "      border-color: transparent;\n",
              "      border-right-color: var(--fill-color);\n",
              "      border-bottom-color: var(--fill-color);\n",
              "    }\n",
              "    90% {\n",
              "      border-color: transparent;\n",
              "      border-bottom-color: var(--fill-color);\n",
              "    }\n",
              "  }\n",
              "</style>\n",
              "\n",
              "  <script>\n",
              "    async function quickchart(key) {\n",
              "      const quickchartButtonEl =\n",
              "        document.querySelector('#' + key + ' button');\n",
              "      quickchartButtonEl.disabled = true;  // To prevent multiple clicks.\n",
              "      quickchartButtonEl.classList.add('colab-df-spinner');\n",
              "      try {\n",
              "        const charts = await google.colab.kernel.invokeFunction(\n",
              "            'suggestCharts', [key], {});\n",
              "      } catch (error) {\n",
              "        console.error('Error during call to suggestCharts:', error);\n",
              "      }\n",
              "      quickchartButtonEl.classList.remove('colab-df-spinner');\n",
              "      quickchartButtonEl.classList.add('colab-df-quickchart-complete');\n",
              "    }\n",
              "    (() => {\n",
              "      let quickchartButtonEl =\n",
              "        document.querySelector('#df-ce3ba410-14dd-4ca7-85a2-d48683aa8a12 button');\n",
              "      quickchartButtonEl.style.display =\n",
              "        google.colab.kernel.accessAllowed ? 'block' : 'none';\n",
              "    })();\n",
              "  </script>\n",
              "</div>\n",
              "    </div>\n",
              "  </div>\n"
            ]
          },
          "metadata": {},
          "execution_count": 220
        }
      ]
    },
    {
      "cell_type": "code",
      "source": [
        "df.isnull().sum()"
      ],
      "metadata": {
        "colab": {
          "base_uri": "https://localhost:8080/"
        },
        "id": "F8lPkxqi0dHh",
        "outputId": "f7d24673-276e-4a45-f150-dca1121b5258"
      },
      "execution_count": null,
      "outputs": [
        {
          "output_type": "execute_result",
          "data": {
            "text/plain": [
              "car_ID              0\n",
              "symboling           0\n",
              "CarName             0\n",
              "fueltype            0\n",
              "aspiration          0\n",
              "doornumber          0\n",
              "carbody             0\n",
              "drivewheel          0\n",
              "enginelocation      0\n",
              "wheelbase           0\n",
              "carlength           0\n",
              "carwidth            0\n",
              "carheight           0\n",
              "curbweight          0\n",
              "enginetype          0\n",
              "cylindernumber      0\n",
              "enginesize          0\n",
              "fuelsystem          0\n",
              "boreratio           0\n",
              "stroke              0\n",
              "compressionratio    0\n",
              "horsepower          0\n",
              "peakrpm             0\n",
              "citympg             0\n",
              "highwaympg          0\n",
              "price               0\n",
              "dtype: int64"
            ]
          },
          "metadata": {},
          "execution_count": 221
        }
      ]
    },
    {
      "cell_type": "code",
      "source": [
        "X=df[\"car_ID\"]\n",
        "Y=df[\"price\"]"
      ],
      "metadata": {
        "id": "Z91c-isD0n5W"
      },
      "execution_count": null,
      "outputs": []
    },
    {
      "cell_type": "code",
      "source": [
        "import matplotlib.pyplot as plt\n",
        "plt.scatter(X,Y)\n",
        "plt.xlabel(\"carID\")\n",
        "plt.ylabel(\"price\")"
      ],
      "metadata": {
        "colab": {
          "base_uri": "https://localhost:8080/",
          "height": 467
        },
        "id": "VHlhwd3q_-6-",
        "outputId": "874e8bcd-3ce3-4028-8bd8-a99421b38ed1"
      },
      "execution_count": null,
      "outputs": [
        {
          "output_type": "execute_result",
          "data": {
            "text/plain": [
              "Text(0, 0.5, 'price')"
            ]
          },
          "metadata": {},
          "execution_count": 223
        },
        {
          "output_type": "display_data",
          "data": {
            "text/plain": [
              "<Figure size 640x480 with 1 Axes>"
            ],
            "image/png": "[encoded data removed]"
          },
          "metadata": {}
        }
      ]
    },
    {
      "cell_type": "code",
      "source": [
        "from sklearn.model_selection import train_test_split\n",
        "X_train,X_test ,y_train,y_test= train_test_split(X,Y , test_size=0.3, random_state=26)\n",
        "X_train"
      ],
      "metadata": {
        "colab": {
          "base_uri": "https://localhost:8080/"
        },
        "id": "OGefKgUE2nGM",
        "outputId": "71a43330-e87d-4168-c036-7c681843e780"
      },
      "execution_count": null,
      "outputs": [
        {
          "output_type": "execute_result",
          "data": {
            "text/plain": [
              "43      44\n",
              "171    172\n",
              "28      29\n",
              "18      19\n",
              "118    119\n",
              "      ... \n",
              "193    194\n",
              "176    177\n",
              "6        7\n",
              "62      63\n",
              "53      54\n",
              "Name: car_ID, Length: 143, dtype: int64"
            ]
          },
          "metadata": {},
          "execution_count": 224
        }
      ]
    },
    {
      "cell_type": "code",
      "source": [
        "X_train = np.array(X_train).reshape(-1,1)\n",
        "X_train.flatten()"
      ],
      "metadata": {
        "colab": {
          "base_uri": "https://localhost:8080/"
        },
        "id": "cGPm7kDB4hSF",
        "outputId": "82b38166-067e-4a11-cbdf-ad8e9cef2734"
      },
      "execution_count": null,
      "outputs": [
        {
          "output_type": "execute_result",
          "data": {
            "text/plain": [
              "array([ 44, 172,  29,  19, 119, 175, 196,  14,  85,  73, 189, 195,  30,\n",
              "        59, 149,   9,  70, 199,  18, 140, 164, 104, 170,  98,  37, 183,\n",
              "        74,  95,  92, 137, 128,  20,  38, 182,  75,  42,  39,  90, 187,\n",
              "       114, 204,  76,  50, 193,  10, 133,  28,  16,   5, 127, 145,  40,\n",
              "        93, 136,   4, 121,  69, 203,  33,   1,  36,  56,  46, 186, 135,\n",
              "        62, 198, 185,  34, 124,   8, 107,  87, 167,  24,  12,  65,  58,\n",
              "        60,  23, 102,  25, 153,  55, 162, 122,  64, 169,  41,  47, 163,\n",
              "       141,  53,  80, 200, 120,  97,  79, 129,  71, 113, 201,  45,  82,\n",
              "       157, 100,  52, 158, 148,  84,  77, 115, 178,  17, 180,  13, 118,\n",
              "        48,  83,  57, 176, 152, 171, 144, 159, 150, 111, 181, 205, 116,\n",
              "       184, 146, 174,  99, 197, 161,  78, 103, 194, 177,   7,  63,  54])"
            ]
          },
          "metadata": {},
          "execution_count": 225
        }
      ]
    },
    {
      "cell_type": "code",
      "source": [
        "\n",
        "X_test = np.array(X_test).reshape(-1,1)\n",
        "X_test\n",
        "X_test.flatten()\n"
      ],
      "metadata": {
        "colab": {
          "base_uri": "https://localhost:8080/"
        },
        "id": "eOxJ53ZvEpWW",
        "outputId": "e577922f-d389-4447-b4ef-229667820689"
      },
      "execution_count": null,
      "outputs": [
        {
          "output_type": "execute_result",
          "data": {
            "text/plain": [
              "array([ 72,  26,  61, 109, 125, 112,  35,  88,  91, 191, 156, 165, 168,\n",
              "       108,  81, 173, 190, 132,  43, 126,  22,  31, 142, 202, 139,  94,\n",
              "       130, 154,  68, 138,  67,  51, 110,   2,  89,  27, 123,  21, 188,\n",
              "       192, 117, 155,   6, 179, 106, 147, 134, 151,  86, 131,  15, 105,\n",
              "        49, 101,  32, 160, 166,  66,   3,  11, 143,  96])"
            ]
          },
          "metadata": {},
          "execution_count": 226
        }
      ]
    },
    {
      "cell_type": "code",
      "source": [
        "from sklearn.linear_model import LinearRegression\n",
        "lr = LinearRegression()\n",
        "lr.fit(X_train,y_train)"
      ],
      "metadata": {
        "colab": {
          "base_uri": "https://localhost:8080/",
          "height": 74
        },
        "id": "BOfIEHw85_1w",
        "outputId": "a6211d25-93b1-4bed-9778-aae160f6163b"
      },
      "execution_count": null,
      "outputs": [
        {
          "output_type": "execute_result",
          "data": {
            "text/plain": [
              "LinearRegression()"
            ],
            "text/html": [
              "<style>#sk-container-id-13 {color: black;background-color: white;}#sk-container-id-13 pre{padding: 0;}#sk-container-id-13 div.sk-toggleable {background-color: white;}#sk-container-id-13 label.sk-toggleable__label {cursor: pointer;display: block;width: 100%;margin-bottom: 0;padding: 0.3em;box-sizing: border-box;text-align: center;}#sk-container-id-13 label.sk-toggleable__label-arrow:before {content: \"▸\";float: left;margin-right: 0.25em;color: #696969;}#sk-container-id-13 label.sk-toggleable__label-arrow:hover:before {color: black;}#sk-container-id-13 div.sk-estimator:hover label.sk-toggleable__label-arrow:before {color: black;}#sk-container-id-13 div.sk-toggleable__content {max-height: 0;max-width: 0;overflow: hidden;text-align: left;background-color: #f0f8ff;}#sk-container-id-13 div.sk-toggleable__content pre {margin: 0.2em;color: black;border-radius: 0.25em;background-color: #f0f8ff;}#sk-container-id-13 input.sk-toggleable__control:checked~div.sk-toggleable__content {max-height: 200px;max-width: 100%;overflow: auto;}#sk-container-id-13 input.sk-toggleable__control:checked~label.sk-toggleable__label-arrow:before {content: \"▾\";}#sk-container-id-13 div.sk-estimator input.sk-toggleable__control:checked~label.sk-toggleable__label {background-color: #d4ebff;}#sk-container-id-13 div.sk-label input.sk-toggleable__control:checked~label.sk-toggleable__label {background-color: #d4ebff;}#sk-container-id-13 input.sk-hidden--visually {border: 0;clip: rect(1px 1px 1px 1px);clip: rect(1px, 1px, 1px, 1px);height: 1px;margin: -1px;overflow: hidden;padding: 0;position: absolute;width: 1px;}#sk-container-id-13 div.sk-estimator {font-family: monospace;background-color: #f0f8ff;border: 1px dotted black;border-radius: 0.25em;box-sizing: border-box;margin-bottom: 0.5em;}#sk-container-id-13 div.sk-estimator:hover {background-color: #d4ebff;}#sk-container-id-13 div.sk-parallel-item::after {content: \"\";width: 100%;border-bottom: 1px solid gray;flex-grow: 1;}#sk-container-id-13 div.sk-label:hover label.sk-toggleable__label {background-color: #d4ebff;}#sk-container-id-13 div.sk-serial::before {content: \"\";position: absolute;border-left: 1px solid gray;box-sizing: border-box;top: 0;bottom: 0;left: 50%;z-index: 0;}#sk-container-id-13 div.sk-serial {display: flex;flex-direction: column;align-items: center;background-color: white;padding-right: 0.2em;padding-left: 0.2em;position: relative;}#sk-container-id-13 div.sk-item {position: relative;z-index: 1;}#sk-container-id-13 div.sk-parallel {display: flex;align-items: stretch;justify-content: center;background-color: white;position: relative;}#sk-container-id-13 div.sk-item::before, #sk-container-id-13 div.sk-parallel-item::before {content: \"\";position: absolute;border-left: 1px solid gray;box-sizing: border-box;top: 0;bottom: 0;left: 50%;z-index: -1;}#sk-container-id-13 div.sk-parallel-item {display: flex;flex-direction: column;z-index: 1;position: relative;background-color: white;}#sk-container-id-13 div.sk-parallel-item:first-child::after {align-self: flex-end;width: 50%;}#sk-container-id-13 div.sk-parallel-item:last-child::after {align-self: flex-start;width: 50%;}#sk-container-id-13 div.sk-parallel-item:only-child::after {width: 0;}#sk-container-id-13 div.sk-dashed-wrapped {border: 1px dashed gray;margin: 0 0.4em 0.5em 0.4em;box-sizing: border-box;padding-bottom: 0.4em;background-color: white;}#sk-container-id-13 div.sk-label label {font-family: monospace;font-weight: bold;display: inline-block;line-height: 1.2em;}#sk-container-id-13 div.sk-label-container {text-align: center;}#sk-container-id-13 div.sk-container {/* jupyter's `normalize.less` sets `[hidden] { display: none; }` but bootstrap.min.css set `[hidden] { display: none !important; }` so we also need the `!important` here to be able to override the default hidden behavior on the sphinx rendered scikit-learn.org. See: https://github.com/scikit-learn/scikit-learn/issues/21755 */display: inline-block !important;position: relative;}#sk-container-id-13 div.sk-text-repr-fallback {display: none;}</style><div id=\"sk-container-id-13\" class=\"sk-top-container\"><div class=\"sk-text-repr-fallback\"><pre>LinearRegression()</pre><b>In a Jupyter environment, please rerun this cell to show the HTML representation or trust the notebook. <br />On GitHub, the HTML representation is unable to render, please try loading this page with nbviewer.org.</b></div><div class=\"sk-container\" hidden><div class=\"sk-item\"><div class=\"sk-estimator sk-toggleable\"><input class=\"sk-toggleable__control sk-hidden--visually\" id=\"sk-estimator-id-13\" type=\"checkbox\" checked><label for=\"sk-estimator-id-13\" class=\"sk-toggleable__label sk-toggleable__label-arrow\">LinearRegression</label><div class=\"sk-toggleable__content\"><pre>LinearRegression()</pre></div></div></div></div></div>"
            ]
          },
          "metadata": {},
          "execution_count": 227
        }
      ]
    },
    {
      "cell_type": "code",
      "source": [
        "c=lr.intercept_\n",
        "c"
      ],
      "metadata": {
        "colab": {
          "base_uri": "https://localhost:8080/"
        },
        "id": "EI1Qmxta7Bb9",
        "outputId": "86b1bf96-298c-4dee-e4c9-63902357f593"
      },
      "execution_count": null,
      "outputs": [
        {
          "output_type": "execute_result",
          "data": {
            "text/plain": [
              "15165.697744488109"
            ]
          },
          "metadata": {},
          "execution_count": 228
        }
      ]
    },
    {
      "cell_type": "code",
      "source": [
        "m=lr.coef_\n",
        "m"
      ],
      "metadata": {
        "colab": {
          "base_uri": "https://localhost:8080/"
        },
        "id": "mDB70tQf7z0t",
        "outputId": "177e9997-0b15-4133-8400-0e7a6659b5c9"
      },
      "execution_count": null,
      "outputs": [
        {
          "output_type": "execute_result",
          "data": {
            "text/plain": [
              "array([-15.3558251])"
            ]
          },
          "metadata": {},
          "execution_count": 229
        }
      ]
    },
    {
      "cell_type": "code",
      "source": [
        "Y_pred_train = m*X_train + c\n",
        "Y_pred_train.flatten()"
      ],
      "metadata": {
        "colab": {
          "base_uri": "https://localhost:8080/"
        },
        "id": "0u-p7eaC74Oc",
        "outputId": "a3ac3727-fd57-4970-d85a-c6e80ac82133"
      },
      "execution_count": null,
      "outputs": [
        {
          "output_type": "execute_result",
          "data": {
            "text/plain": [
              "array([14490.04144027, 12524.49582798, 14720.37881671, 14873.93706767,\n",
              "       13338.35455807, 12478.4283527 , 12155.95602568, 14950.71619314,\n",
              "       13860.45261133, 14044.72251248, 12263.44680135, 12171.31185078,\n",
              "       14705.02299161, 14259.70406383, 12877.67980519, 15027.49531862,\n",
              "       14090.78998777, 12109.88855039, 14889.29289276, 13015.88223106,\n",
              "       12647.34242875, 13568.69193451, 12555.20747818, 13660.82688509,\n",
              "       14597.53221594, 12355.58175193, 14029.36668739, 13706.89436037,\n",
              "       13752.96183566, 13061.94970634, 13200.15213221, 14858.58124257,\n",
              "       14582.17639084, 12370.93757703, 14014.01086229, 14520.75309046,\n",
              "       14566.82056575, 13783.67348585, 12294.15845155, 13415.13368355,\n",
              "       12033.10942491, 13998.6550372 , 14397.90648969, 12202.02350097,\n",
              "       15012.13949353, 13123.37300673, 14735.7346418 , 14920.00454295,\n",
              "       15088.91861901, 13215.5079573 , 12939.10310558, 14551.46474065,\n",
              "       13737.60601056, 13077.30553144, 15104.2744441 , 13307.64290788,\n",
              "       14106.14581287, 12048.46525001, 14658.95551632, 15150.34191939,\n",
              "       14612.88804103, 14305.77153911, 14459.32979007, 12309.51427664,\n",
              "       13092.66135653, 14213.63658854, 12125.24437549, 12324.87010174,\n",
              "       14643.59969123, 13261.57543259, 15042.85114372, 13522.62445922,\n",
              "       13829.74096114, 12601.27495346, 14797.15794219, 14981.42784334,\n",
              "       14167.56911325, 14275.05988892, 14244.34823873, 14812.51376728,\n",
              "       13599.4035847 , 14781.80211709, 12816.25650481, 14321.12736421,\n",
              "       12678.05407894, 13292.28708278, 14182.92493835, 12570.56330327,\n",
              "       14536.10891555, 14443.97396498, 12662.69825385, 13000.52640596,\n",
              "       14351.8390144 , 13937.23173681, 12094.5327253 , 13322.99873297,\n",
              "       13676.18271018, 13952.58756191, 13184.79630711, 14075.43416268,\n",
              "       13430.48950865, 12079.1769002 , 14474.68561517, 13906.52008662,\n",
              "       12754.83320442, 13630.11523489, 14367.1948395 , 12739.47737933,\n",
              "       12893.03563029, 13875.80843643, 13983.2992121 , 13399.77785845,\n",
              "       12432.36087741, 14904.64871786, 12401.64922722, 14966.07201824,\n",
              "       13353.71038317, 14428.61813988, 13891.16426152, 14290.41571402,\n",
              "       12463.0725276 , 12831.6123299 , 12539.85165308, 12954.45893067,\n",
              "       12724.12155423, 12862.3239801 , 13461.20115884, 12386.29340212,\n",
              "       12017.75359982, 13384.42203336, 12340.22592683, 12923.74728048,\n",
              "       12493.78417779, 13645.47105999, 12140.60020059, 12693.40990404,\n",
              "       13967.943387  , 13584.04775961, 12186.66767587, 12447.71670251,\n",
              "       15058.20696882, 14198.28076344, 14336.48318931])"
            ]
          },
          "metadata": {},
          "execution_count": 230
        }
      ]
    },
    {
      "cell_type": "code",
      "source": [
        "Y_pred_train1=lr.predict(X_train)\n",
        "Y_pred_train1.flatten()"
      ],
      "metadata": {
        "colab": {
          "base_uri": "https://localhost:8080/"
        },
        "id": "lPoGcU4p8FZh",
        "outputId": "fdba0690-0e0b-46b4-d48b-c9c495df6ed5"
      },
      "execution_count": null,
      "outputs": [
        {
          "output_type": "execute_result",
          "data": {
            "text/plain": [
              "array([14490.04144027, 12524.49582798, 14720.37881671, 14873.93706767,\n",
              "       13338.35455807, 12478.4283527 , 12155.95602568, 14950.71619314,\n",
              "       13860.45261133, 14044.72251248, 12263.44680135, 12171.31185078,\n",
              "       14705.02299161, 14259.70406383, 12877.67980519, 15027.49531862,\n",
              "       14090.78998777, 12109.88855039, 14889.29289276, 13015.88223106,\n",
              "       12647.34242875, 13568.69193451, 12555.20747818, 13660.82688509,\n",
              "       14597.53221594, 12355.58175193, 14029.36668739, 13706.89436037,\n",
              "       13752.96183566, 13061.94970634, 13200.15213221, 14858.58124257,\n",
              "       14582.17639084, 12370.93757703, 14014.01086229, 14520.75309046,\n",
              "       14566.82056575, 13783.67348585, 12294.15845155, 13415.13368355,\n",
              "       12033.10942491, 13998.6550372 , 14397.90648969, 12202.02350097,\n",
              "       15012.13949353, 13123.37300673, 14735.7346418 , 14920.00454295,\n",
              "       15088.91861901, 13215.5079573 , 12939.10310558, 14551.46474065,\n",
              "       13737.60601056, 13077.30553144, 15104.2744441 , 13307.64290788,\n",
              "       14106.14581287, 12048.46525001, 14658.95551632, 15150.34191939,\n",
              "       14612.88804103, 14305.77153911, 14459.32979007, 12309.51427664,\n",
              "       13092.66135653, 14213.63658854, 12125.24437549, 12324.87010174,\n",
              "       14643.59969123, 13261.57543259, 15042.85114372, 13522.62445922,\n",
              "       13829.74096114, 12601.27495346, 14797.15794219, 14981.42784334,\n",
              "       14167.56911325, 14275.05988892, 14244.34823873, 14812.51376728,\n",
              "       13599.4035847 , 14781.80211709, 12816.25650481, 14321.12736421,\n",
              "       12678.05407894, 13292.28708278, 14182.92493835, 12570.56330327,\n",
              "       14536.10891555, 14443.97396498, 12662.69825385, 13000.52640596,\n",
              "       14351.8390144 , 13937.23173681, 12094.5327253 , 13322.99873297,\n",
              "       13676.18271018, 13952.58756191, 13184.79630711, 14075.43416268,\n",
              "       13430.48950865, 12079.1769002 , 14474.68561517, 13906.52008662,\n",
              "       12754.83320442, 13630.11523489, 14367.1948395 , 12739.47737933,\n",
              "       12893.03563029, 13875.80843643, 13983.2992121 , 13399.77785845,\n",
              "       12432.36087741, 14904.64871786, 12401.64922722, 14966.07201824,\n",
              "       13353.71038317, 14428.61813988, 13891.16426152, 14290.41571402,\n",
              "       12463.0725276 , 12831.6123299 , 12539.85165308, 12954.45893067,\n",
              "       12724.12155423, 12862.3239801 , 13461.20115884, 12386.29340212,\n",
              "       12017.75359982, 13384.42203336, 12340.22592683, 12923.74728048,\n",
              "       12493.78417779, 13645.47105999, 12140.60020059, 12693.40990404,\n",
              "       13967.943387  , 13584.04775961, 12186.66767587, 12447.71670251,\n",
              "       15058.20696882, 14198.28076344, 14336.48318931])"
            ]
          },
          "metadata": {},
          "execution_count": 231
        }
      ]
    },
    {
      "cell_type": "code",
      "source": [
        "import matplotlib.pyplot as plt\n",
        "plt.scatter(X_train, y_train)\n",
        "plt.plot(X_train, Y_pred_train1, color='k')\n",
        "plt.xlabel(\"carID\")\n",
        "plt.ylabel(\"price\")"
      ],
      "metadata": {
        "colab": {
          "base_uri": "https://localhost:8080/",
          "height": 467
        },
        "id": "m2pZDM438V6I",
        "outputId": "1bc8ce06-5ce3-4c9c-8179-39ec3ef26e7c"
      },
      "execution_count": null,
      "outputs": [
        {
          "output_type": "execute_result",
          "data": {
            "text/plain": [
              "Text(0, 0.5, 'price')"
            ]
          },
          "metadata": {},
          "execution_count": 232
        },
        {
          "output_type": "display_data",
          "data": {
            "text/plain": [
              "<Figure size 640x480 with 1 Axes>"
            ],
            "image/png": "[encoded data removed]"
          },
          "metadata": {}
        }
      ]
    },
    {
      "cell_type": "code",
      "source": [
        "Y_pred_test1= lr.predict(X_test)\n",
        "Y_pred_test1.flatten()"
      ],
      "metadata": {
        "colab": {
          "base_uri": "https://localhost:8080/"
        },
        "id": "szpDK0nzBhGN",
        "outputId": "4deb9ffe-fd33-4b16-adf2-423deb48f68d"
      },
      "execution_count": null,
      "outputs": [
        {
          "output_type": "execute_result",
          "data": {
            "text/plain": [
              "array([14060.07833758, 14766.44629199, 14228.99241364, 13491.91280903,\n",
              "       13246.21960749, 13445.84533374, 14628.24386613, 13814.38513604,\n",
              "       13768.31766076, 12232.73515116, 12770.18902952, 12631.98660366,\n",
              "       12585.91912837, 13507.26863413, 13921.87591172, 12509.14000289,\n",
              "       12248.09097626, 13138.72883182, 14505.39726536, 13230.8637824 ,\n",
              "       14827.86959238, 14689.66716651, 12985.17058086, 12063.82107511,\n",
              "       13031.23805615, 13722.25018547, 13169.44048201, 12800.90067971,\n",
              "       14121.50163796, 13046.59388125, 14136.85746306, 14382.55066459,\n",
              "       13476.55698393, 15134.9860943 , 13799.02931095, 14751.0904669 ,\n",
              "       13276.93125769, 14843.22541747, 12278.80262645, 12217.37932607,\n",
              "       13369.06620826, 12785.54485462, 15073.56279391, 12417.00505231,\n",
              "       13537.98028432, 12908.39145538, 13108.01718163, 12846.968155  ,\n",
              "       13845.09678624, 13154.08465692, 14935.36036805, 13553.33610941,\n",
              "       14413.26231479, 13614.7594098 , 14674.31134142, 12708.76572914,\n",
              "       12616.63077856, 14152.21328816, 15119.6302692 , 14996.78366843,\n",
              "       12969.81475577, 13691.53853528])"
            ]
          },
          "metadata": {},
          "execution_count": 236
        }
      ]
    },
    {
      "cell_type": "code",
      "source": [
        "import matplotlib.pyplot as plt\n",
        "plt.scatter(X_test, y_test)\n",
        "plt.plot(X_test, Y_pred_test1,color=\"r\")\n",
        "plt.xlabel(\"carID\")\n",
        "plt.ylabel(\"price\")"
      ],
      "metadata": {
        "colab": {
          "base_uri": "https://localhost:8080/",
          "height": 467
        },
        "id": "7cRbqscvCUFo",
        "outputId": "ee5bad24-9c5c-4b3b-f792-ac0361aae88f"
      },
      "execution_count": null,
      "outputs": [
        {
          "output_type": "execute_result",
          "data": {
            "text/plain": [
              "Text(0, 0.5, 'price')"
            ]
          },
          "metadata": {},
          "execution_count": 235
        },
        {
          "output_type": "display_data",
          "data": {
            "text/plain": [
              "<Figure size 640x480 with 1 Axes>"
            ],
            "image/png": "[encoded data removed]"
          },
          "metadata": {}
        }
      ]
    },
    {
      "cell_type": "markdown",
      "source": [
        "***MULTIPLE REGRESSION***"
      ],
      "metadata": {
        "id": "yCjlzYCkO_Yq"
      }
    },
    {
      "cell_type": "code",
      "source": [
        "df['CarName']=df['CarName'].astype('category')\n",
        "df['CarName']=df['CarName'].cat.codes\n",
        "df['fueltype']=df['fueltype'].astype('category')\n",
        "df['fueltype']=df['fueltype'].cat.codes\n",
        "df['aspiration']=df['aspiration'].astype('category')\n",
        "df['aspiration']=df['aspiration'].cat.codes\n",
        "df['doornumber']=df['doornumber'].astype('category')\n",
        "df['doornumber']=df['doornumber'].cat.codes\n",
        "df['carbody']=df['carbody'].astype('category')\n",
        "df['carbody']=df['carbody'].cat.codes\n",
        "df['drivewheel']=df['drivewheel'].astype('category')\n",
        "df['drivewheel']=df['drivewheel'].cat.codes\n",
        "df['enginelocation']=df['enginelocation'].astype('category')\n",
        "df['enginelocation']=df['enginelocation'].cat.codes\n",
        "df['fuelsystem']=df['fuelsystem'].astype('category')\n",
        "df['fuelsystem']=df['fuelsystem'].cat.codes\n",
        "df['cylindernumber']=df['cylindernumber'].astype('category')\n",
        "df['cylindernumber']=df['cylindernumber'].cat.codes\n",
        "df['enginetype']=df['enginetype'].astype('category')\n",
        "df['enginetype']=df['enginetype'].cat.codes\n"
      ],
      "metadata": {
        "id": "l-DFJJtaQqBW"
      },
      "execution_count": null,
      "outputs": []
    },
    {
      "cell_type": "code",
      "source": [
        "X2=df.drop(['price'],axis=1).values\n",
        "Y2=df['price'].values"
      ],
      "metadata": {
        "id": "7yU4IiYtPHGP"
      },
      "execution_count": null,
      "outputs": []
    },
    {
      "cell_type": "code",
      "source": [
        "print(X2)"
      ],
      "metadata": {
        "colab": {
          "base_uri": "https://localhost:8080/"
        },
        "id": "Dhetd8CyPHCw",
        "outputId": "1a413517-91c0-4753-c7fd-512ce3cefb2d"
      },
      "execution_count": null,
      "outputs": [
        {
          "output_type": "stream",
          "name": "stdout",
          "text": [
            "[[ 1.00e+00  3.00e+00  2.00e+00 ...  5.00e+03  2.10e+01  2.70e+01]\n",
            " [ 2.00e+00  3.00e+00  3.00e+00 ...  5.00e+03  2.10e+01  2.70e+01]\n",
            " [ 3.00e+00  1.00e+00  1.00e+00 ...  5.00e+03  1.90e+01  2.60e+01]\n",
            " ...\n",
            " [ 2.03e+02 -1.00e+00  1.40e+02 ...  5.50e+03  1.80e+01  2.30e+01]\n",
            " [ 2.04e+02 -1.00e+00  1.42e+02 ...  4.80e+03  2.60e+01  2.70e+01]\n",
            " [ 2.05e+02 -1.00e+00  1.43e+02 ...  5.40e+03  1.90e+01  2.50e+01]]\n"
          ]
        }
      ]
    },
    {
      "cell_type": "code",
      "source": [
        "print(Y2)"
      ],
      "metadata": {
        "colab": {
          "base_uri": "https://localhost:8080/"
        },
        "id": "yuz4EgP9PG_m",
        "outputId": "9b40961e-e7ed-4a8f-aaf7-9d4cb390d9a1"
      },
      "execution_count": null,
      "outputs": [
        {
          "output_type": "stream",
          "name": "stdout",
          "text": [
            "[13495.    16500.    16500.    13950.    17450.    15250.    17710.\n",
            " 18920.    23875.    17859.167 16430.    16925.    20970.    21105.\n",
            " 24565.    30760.    41315.    36880.     5151.     6295.     6575.\n",
            "  5572.     6377.     7957.     6229.     6692.     7609.     8558.\n",
            "  8921.    12964.     6479.     6855.     5399.     6529.     7129.\n",
            "  7295.     7295.     7895.     9095.     8845.    10295.    12945.\n",
            " 10345.     6785.     8916.5    8916.5   11048.    32250.    35550.\n",
            " 36000.     5195.     6095.     6795.     6695.     7395.    10945.\n",
            " 11845.    13645.    15645.     8845.     8495.    10595.    10245.\n",
            " 10795.    11245.    18280.    18344.    25552.    28248.    28176.\n",
            " 31600.    34184.    35056.    40960.    45400.    16503.     5389.\n",
            "  6189.     6669.     7689.     9959.     8499.    12629.    14869.\n",
            " 14489.     6989.     8189.     9279.     9279.     5499.     7099.\n",
            "  6649.     6849.     7349.     7299.     7799.     7499.     7999.\n",
            "  8249.     8949.     9549.    13499.    14399.    13499.    17199.\n",
            " 19699.    18399.    11900.    13200.    12440.    13860.    15580.\n",
            " 16900.    16695.    17075.    16630.    17950.    18150.     5572.\n",
            "  7957.     6229.     6692.     7609.     8921.    12764.    22018.\n",
            " 32528.    34028.    37028.    31400.5    9295.     9895.    11850.\n",
            " 12170.    15040.    15510.    18150.    18620.     5118.     7053.\n",
            "  7603.     7126.     7775.     9960.     9233.    11259.     7463.\n",
            " 10198.     8013.    11694.     5348.     6338.     6488.     6918.\n",
            "  7898.     8778.     6938.     7198.     7898.     7788.     7738.\n",
            "  8358.     9258.     8058.     8238.     9298.     9538.     8449.\n",
            "  9639.     9989.    11199.    11549.    17669.     8948.    10698.\n",
            "  9988.    10898.    11248.    16558.    15998.    15690.    15750.\n",
            "  7775.     7975.     7995.     8195.     8495.     9495.     9995.\n",
            " 11595.     9980.    13295.    13845.    12290.    12940.    13415.\n",
            " 15985.    16515.    18420.    18950.    16845.    19045.    21485.\n",
            " 22470.    22625.   ]\n"
          ]
        }
      ]
    },
    {
      "cell_type": "code",
      "source": [
        "from sklearn.model_selection import train_test_split\n",
        "X2_train,X2_test ,Y2_train,Y2_test= train_test_split(X2,Y2, test_size=0.3, random_state=0)\n"
      ],
      "metadata": {
        "id": "AfP9eog4PG9g"
      },
      "execution_count": null,
      "outputs": []
    },
    {
      "cell_type": "code",
      "source": [
        "from sklearn.linear_model import LinearRegression\n",
        "lr = LinearRegression()\n",
        "lr.fit(X2_train, Y2_train)"
      ],
      "metadata": {
        "colab": {
          "base_uri": "https://localhost:8080/",
          "height": 74
        },
        "id": "-2WLpLMBPG7V",
        "outputId": "b5dec281-0041-4fe2-c0b9-d8019b8d8306"
      },
      "execution_count": null,
      "outputs": [
        {
          "output_type": "execute_result",
          "data": {
            "text/plain": [
              "LinearRegression()"
            ],
            "text/html": [
              "<style>#sk-container-id-16 {color: black;background-color: white;}#sk-container-id-16 pre{padding: 0;}#sk-container-id-16 div.sk-toggleable {background-color: white;}#sk-container-id-16 label.sk-toggleable__label {cursor: pointer;display: block;width: 100%;margin-bottom: 0;padding: 0.3em;box-sizing: border-box;text-align: center;}#sk-container-id-16 label.sk-toggleable__label-arrow:before {content: \"▸\";float: left;margin-right: 0.25em;color: #696969;}#sk-container-id-16 label.sk-toggleable__label-arrow:hover:before {color: black;}#sk-container-id-16 div.sk-estimator:hover label.sk-toggleable__label-arrow:before {color: black;}#sk-container-id-16 div.sk-toggleable__content {max-height: 0;max-width: 0;overflow: hidden;text-align: left;background-color: #f0f8ff;}#sk-container-id-16 div.sk-toggleable__content pre {margin: 0.2em;color: black;border-radius: 0.25em;background-color: #f0f8ff;}#sk-container-id-16 input.sk-toggleable__control:checked~div.sk-toggleable__content {max-height: 200px;max-width: 100%;overflow: auto;}#sk-container-id-16 input.sk-toggleable__control:checked~label.sk-toggleable__label-arrow:before {content: \"▾\";}#sk-container-id-16 div.sk-estimator input.sk-toggleable__control:checked~label.sk-toggleable__label {background-color: #d4ebff;}#sk-container-id-16 div.sk-label input.sk-toggleable__control:checked~label.sk-toggleable__label {background-color: #d4ebff;}#sk-container-id-16 input.sk-hidden--visually {border: 0;clip: rect(1px 1px 1px 1px);clip: rect(1px, 1px, 1px, 1px);height: 1px;margin: -1px;overflow: hidden;padding: 0;position: absolute;width: 1px;}#sk-container-id-16 div.sk-estimator {font-family: monospace;background-color: #f0f8ff;border: 1px dotted black;border-radius: 0.25em;box-sizing: border-box;margin-bottom: 0.5em;}#sk-container-id-16 div.sk-estimator:hover {background-color: #d4ebff;}#sk-container-id-16 div.sk-parallel-item::after {content: \"\";width: 100%;border-bottom: 1px solid gray;flex-grow: 1;}#sk-container-id-16 div.sk-label:hover label.sk-toggleable__label {background-color: #d4ebff;}#sk-container-id-16 div.sk-serial::before {content: \"\";position: absolute;border-left: 1px solid gray;box-sizing: border-box;top: 0;bottom: 0;left: 50%;z-index: 0;}#sk-container-id-16 div.sk-serial {display: flex;flex-direction: column;align-items: center;background-color: white;padding-right: 0.2em;padding-left: 0.2em;position: relative;}#sk-container-id-16 div.sk-item {position: relative;z-index: 1;}#sk-container-id-16 div.sk-parallel {display: flex;align-items: stretch;justify-content: center;background-color: white;position: relative;}#sk-container-id-16 div.sk-item::before, #sk-container-id-16 div.sk-parallel-item::before {content: \"\";position: absolute;border-left: 1px solid gray;box-sizing: border-box;top: 0;bottom: 0;left: 50%;z-index: -1;}#sk-container-id-16 div.sk-parallel-item {display: flex;flex-direction: column;z-index: 1;position: relative;background-color: white;}#sk-container-id-16 div.sk-parallel-item:first-child::after {align-self: flex-end;width: 50%;}#sk-container-id-16 div.sk-parallel-item:last-child::after {align-self: flex-start;width: 50%;}#sk-container-id-16 div.sk-parallel-item:only-child::after {width: 0;}#sk-container-id-16 div.sk-dashed-wrapped {border: 1px dashed gray;margin: 0 0.4em 0.5em 0.4em;box-sizing: border-box;padding-bottom: 0.4em;background-color: white;}#sk-container-id-16 div.sk-label label {font-family: monospace;font-weight: bold;display: inline-block;line-height: 1.2em;}#sk-container-id-16 div.sk-label-container {text-align: center;}#sk-container-id-16 div.sk-container {/* jupyter's `normalize.less` sets `[hidden] { display: none; }` but bootstrap.min.css set `[hidden] { display: none !important; }` so we also need the `!important` here to be able to override the default hidden behavior on the sphinx rendered scikit-learn.org. See: https://github.com/scikit-learn/scikit-learn/issues/21755 */display: inline-block !important;position: relative;}#sk-container-id-16 div.sk-text-repr-fallback {display: none;}</style><div id=\"sk-container-id-16\" class=\"sk-top-container\"><div class=\"sk-text-repr-fallback\"><pre>LinearRegression()</pre><b>In a Jupyter environment, please rerun this cell to show the HTML representation or trust the notebook. <br />On GitHub, the HTML representation is unable to render, please try loading this page with nbviewer.org.</b></div><div class=\"sk-container\" hidden><div class=\"sk-item\"><div class=\"sk-estimator sk-toggleable\"><input class=\"sk-toggleable__control sk-hidden--visually\" id=\"sk-estimator-id-16\" type=\"checkbox\" checked><label for=\"sk-estimator-id-16\" class=\"sk-toggleable__label sk-toggleable__label-arrow\">LinearRegression</label><div class=\"sk-toggleable__content\"><pre>LinearRegression()</pre></div></div></div></div></div>"
            ]
          },
          "metadata": {},
          "execution_count": 290
        }
      ]
    },
    {
      "cell_type": "code",
      "source": [
        "Y2_pred=lr.predict(X2_test)\n",
        "print(Y2_pred)"
      ],
      "metadata": {
        "colab": {
          "base_uri": "https://localhost:8080/"
        },
        "id": "LqvbLwCJPG5K",
        "outputId": "1ffadd6c-b89c-47b8-c78d-132c3df21c39"
      },
      "execution_count": null,
      "outputs": [
        {
          "output_type": "stream",
          "name": "stdout",
          "text": [
            "[ 4892.38237559 17948.77680365 13436.86696928  4260.56959143\n",
            " 10183.50054958 12095.55135398  6975.40443827  5041.60982065\n",
            " 19294.1104416   7908.9267982  17235.68249768 22449.94679794\n",
            " 12125.68125529 12296.0885611   7087.60108809 10850.92600657\n",
            "  8917.57616638 19653.28850345  9893.3651494   7308.11292865\n",
            " 10658.04025805 19918.71194518  8920.25885007 13127.8217426\n",
            " 21151.97167137  7195.38847472  5484.34814439 20533.95553172\n",
            "  8106.65375748 15251.95424203  7864.56211431 10718.00484462\n",
            " 15632.03930507  9610.93424968  6627.55237506 24530.59837772\n",
            "  8555.85823509 14614.22320329  7409.64667866 37914.79615534\n",
            "  5818.34161714 15285.8764862  33727.94609429 17424.25396079\n",
            "  9529.95567282  8403.61730424  8669.83324185 14215.16771346\n",
            "  9113.92654453  9746.4237669  21755.01557536  4380.53725232\n",
            "  6321.97806001  9972.75138402 17015.2138317  21708.42406292\n",
            " 10031.1207807  14623.99911737  9848.21098976  8441.78564403\n",
            "  3991.7583163  12892.7795125 ]\n"
          ]
        }
      ]
    },
    {
      "cell_type": "code",
      "source": [
        "Y2_pred_train=lr.predict(X2_train)"
      ],
      "metadata": {
        "id": "MYie3q6UUq7C"
      },
      "execution_count": null,
      "outputs": []
    },
    {
      "cell_type": "code",
      "source": [
        "from sklearn.metrics import r2_score\n",
        "r2_score(Y2_test, Y2_pred)"
      ],
      "metadata": {
        "colab": {
          "base_uri": "https://localhost:8080/"
        },
        "id": "ikO2w-J9PGtN",
        "outputId": "c4ea669f-d67c-445a-c817-a651d393c0f6"
      },
      "execution_count": null,
      "outputs": [
        {
          "output_type": "execute_result",
          "data": {
            "text/plain": [
              "0.7961110382079515"
            ]
          },
          "metadata": {},
          "execution_count": 304
        }
      ]
    },
    {
      "cell_type": "code",
      "source": [
        "plt.scatter(Y2_train, Y2_pred_train,color='m')\n",
        "plt.xlabel(\"Actual\")\n",
        "plt.ylabel(\"Predicted\")\n",
        "plt.title(\"Actual vs Predicted (Training)\")\n",
        "plt.show()"
      ],
      "metadata": {
        "colab": {
          "base_uri": "https://localhost:8080/",
          "height": 472
        },
        "id": "f5SH6mWWUQ6E",
        "outputId": "ddbfffde-b183-42e0-c72b-00b99b6e6eee"
      },
      "execution_count": null,
      "outputs": [
        {
          "output_type": "display_data",
          "data": {
            "text/plain": [
              "<Figure size 640x480 with 1 Axes>"
            ],
            "image/png": "[encoded data removed]"
          },
          "metadata": {}
        }
      ]
    },
    {
      "cell_type": "code",
      "source": [
        "plt.scatter(Y2_test, Y2_pred,color='c')\n",
        "plt.xlabel(\"Actual \")\n",
        "plt.ylabel(\"Predicted\")\n",
        "plt.title(\"Actual vs Predicted (Testing)\")\n",
        "plt.show()"
      ],
      "metadata": {
        "colab": {
          "base_uri": "https://localhost:8080/",
          "height": 472
        },
        "id": "vlR4D06YPGRh",
        "outputId": "0b829e47-ff8e-4088-afa1-329c75cad29c"
      },
      "execution_count": null,
      "outputs": [
        {
          "output_type": "display_data",
          "data": {
            "text/plain": [
              "<Figure size 640x480 with 1 Axes>"
            ],
            "image/png": "[encoded data removed]"
          },
          "metadata": {}
        }
      ]
    },
    {
      "cell_type": "code",
      "source": [
        "pred_Y2_df=pd.DataFrame({\"Actual Value\":Y2_test,'Predicted Value':Y2_pred,'Difference':Y2_test-Y2_pred})\n",
        "pred_Y2_df[0:20]"
      ],
      "metadata": {
        "colab": {
          "base_uri": "https://localhost:8080/",
          "height": 676
        },
        "id": "ppKKGmG_VNTe",
        "outputId": "ab493652-ad93-425c-a846-6de7ee835701"
      },
      "execution_count": null,
      "outputs": [
        {
          "output_type": "execute_result",
          "data": {
            "text/plain": [
              "    Actual Value  Predicted Value   Difference\n",
              "0         6795.0      4892.382376  1902.617624\n",
              "1        15750.0     17948.776804 -2198.776804\n",
              "2        15250.0     13436.866969  1813.133031\n",
              "3         5151.0      4260.569591   890.430409\n",
              "4         9995.0     10183.500550  -188.500550\n",
              "5        11199.0     12095.551354  -896.551354\n",
              "6         5389.0      6975.404438 -1586.404438\n",
              "7         7898.0      5041.609821  2856.390179\n",
              "8        17199.0     19294.110442 -2095.110442\n",
              "9         6529.0      7908.926798 -1379.926798\n",
              "10       20970.0     17235.682498  3734.317502\n",
              "11       31400.5     22449.946798  8950.553202\n",
              "12       10945.0     12125.681255 -1180.681255\n",
              "13       18344.0     12296.088561  6047.911439\n",
              "14        8916.5      7087.601088  1828.898912\n",
              "15        9989.0     10850.926007  -861.926007\n",
              "16        9295.0      8917.576166   377.423834\n",
              "17       18920.0     19653.288503  -733.288503\n",
              "18        7895.0      9893.365149 -1998.365149\n",
              "19        6488.0      7308.112929  -820.112929"
            ],
            "text/html": [
              "\n",
              "  <div id=\"df-fe628c51-db7f-4f51-b062-92fce5bc841d\" class=\"colab-df-container\">\n",
              "    <div>\n",
              "<style scoped>\n",
              "    .dataframe tbody tr th:only-of-type {\n",
              "        vertical-align: middle;\n",
              "    }\n",
              "\n",
              "    .dataframe tbody tr th {\n",
              "        vertical-align: top;\n",
              "    }\n",
              "\n",
              "    .dataframe thead th {\n",
              "        text-align: right;\n",
              "    }\n",
              "</style>\n",
              "<table border=\"1\" class=\"dataframe\">\n",
              "  <thead>\n",
              "    <tr style=\"text-align: right;\">\n",
              "      <th></th>\n",
              "      <th>Actual Value</th>\n",
              "      <th>Predicted Value</th>\n",
              "      <th>Difference</th>\n",
              "    </tr>\n",
              "  </thead>\n",
              "  <tbody>\n",
              "    <tr>\n",
              "      <th>0</th>\n",
              "      <td>6795.0</td>\n",
              "      <td>4892.382376</td>\n",
              "      <td>1902.617624</td>\n",
              "    </tr>\n",
              "    <tr>\n",
              "      <th>1</th>\n",
              "      <td>15750.0</td>\n",
              "      <td>17948.776804</td>\n",
              "      <td>-2198.776804</td>\n",
              "    </tr>\n",
              "    <tr>\n",
              "      <th>2</th>\n",
              "      <td>15250.0</td>\n",
              "      <td>13436.866969</td>\n",
              "      <td>1813.133031</td>\n",
              "    </tr>\n",
              "    <tr>\n",
              "      <th>3</th>\n",
              "      <td>5151.0</td>\n",
              "      <td>4260.569591</td>\n",
              "      <td>890.430409</td>\n",
              "    </tr>\n",
              "    <tr>\n",
              "      <th>4</th>\n",
              "      <td>9995.0</td>\n",
              "      <td>10183.500550</td>\n",
              "      <td>-188.500550</td>\n",
              "    </tr>\n",
              "    <tr>\n",
              "      <th>5</th>\n",
              "      <td>11199.0</td>\n",
              "      <td>12095.551354</td>\n",
              "      <td>-896.551354</td>\n",
              "    </tr>\n",
              "    <tr>\n",
              "      <th>6</th>\n",
              "      <td>5389.0</td>\n",
              "      <td>6975.404438</td>\n",
              "      <td>-1586.404438</td>\n",
              "    </tr>\n",
              "    <tr>\n",
              "      <th>7</th>\n",
              "      <td>7898.0</td>\n",
              "      <td>5041.609821</td>\n",
              "      <td>2856.390179</td>\n",
              "    </tr>\n",
              "    <tr>\n",
              "      <th>8</th>\n",
              "      <td>17199.0</td>\n",
              "      <td>19294.110442</td>\n",
              "      <td>-2095.110442</td>\n",
              "    </tr>\n",
              "    <tr>\n",
              "      <th>9</th>\n",
              "      <td>6529.0</td>\n",
              "      <td>7908.926798</td>\n",
              "      <td>-1379.926798</td>\n",
              "    </tr>\n",
              "    <tr>\n",
              "      <th>10</th>\n",
              "      <td>20970.0</td>\n",
              "      <td>17235.682498</td>\n",
              "      <td>3734.317502</td>\n",
              "    </tr>\n",
              "    <tr>\n",
              "      <th>11</th>\n",
              "      <td>31400.5</td>\n",
              "      <td>22449.946798</td>\n",
              "      <td>8950.553202</td>\n",
              "    </tr>\n",
              "    <tr>\n",
              "      <th>12</th>\n",
              "      <td>10945.0</td>\n",
              "      <td>12125.681255</td>\n",
              "      <td>-1180.681255</td>\n",
              "    </tr>\n",
              "    <tr>\n",
              "      <th>13</th>\n",
              "      <td>18344.0</td>\n",
              "      <td>12296.088561</td>\n",
              "      <td>6047.911439</td>\n",
              "    </tr>\n",
              "    <tr>\n",
              "      <th>14</th>\n",
              "      <td>8916.5</td>\n",
              "      <td>7087.601088</td>\n",
              "      <td>1828.898912</td>\n",
              "    </tr>\n",
              "    <tr>\n",
              "      <th>15</th>\n",
              "      <td>9989.0</td>\n",
              "      <td>10850.926007</td>\n",
              "      <td>-861.926007</td>\n",
              "    </tr>\n",
              "    <tr>\n",
              "      <th>16</th>\n",
              "      <td>9295.0</td>\n",
              "      <td>8917.576166</td>\n",
              "      <td>377.423834</td>\n",
              "    </tr>\n",
              "    <tr>\n",
              "      <th>17</th>\n",
              "      <td>18920.0</td>\n",
              "      <td>19653.288503</td>\n",
              "      <td>-733.288503</td>\n",
              "    </tr>\n",
              "    <tr>\n",
              "      <th>18</th>\n",
              "      <td>7895.0</td>\n",
              "      <td>9893.365149</td>\n",
              "      <td>-1998.365149</td>\n",
              "    </tr>\n",
              "    <tr>\n",
              "      <th>19</th>\n",
              "      <td>6488.0</td>\n",
              "      <td>7308.112929</td>\n",
              "      <td>-820.112929</td>\n",
              "    </tr>\n",
              "  </tbody>\n",
              "</table>\n",
              "</div>\n",
              "    <div class=\"colab-df-buttons\">\n",
              "\n",
              "  <div class=\"colab-df-container\">\n",
              "    <button class=\"colab-df-convert\" onclick=\"convertToInteractive('df-fe628c51-db7f-4f51-b062-92fce5bc841d')\"\n",
              "            title=\"Convert this dataframe to an interactive table.\"\n",
              "            style=\"display:none;\">\n",
              "\n",
              "  <svg xmlns=\"http://www.w3.org/2000/svg\" height=\"24px\" viewBox=\"0 -960 960 960\">\n",
              "    <path d=\"M120-120v-720h720v720H120Zm60-500h600v-160H180v160Zm220 220h160v-160H400v160Zm0 220h160v-160H400v160ZM180-400h160v-160H180v160Zm440 0h160v-160H620v160ZM180-180h160v-160H180v160Zm440 0h160v-160H620v160Z\"/>\n",
              "  </svg>\n",
              "    </button>\n",
              "\n",
              "  <style>\n",
              "    .colab-df-container {\n",
              "      display:flex;\n",
              "      gap: 12px;\n",
              "    }\n",
              "\n",
              "    .colab-df-convert {\n",
              "      background-color: #E8F0FE;\n",
              "      border: none;\n",
              "      border-radius: 50%;\n",
              "      cursor: pointer;\n",
              "      display: none;\n",
              "      fill: #1967D2;\n",
              "      height: 32px;\n",
              "      padding: 0 0 0 0;\n",
              "      width: 32px;\n",
              "    }\n",
              "\n",
              "    .colab-df-convert:hover {\n",
              "      background-color: #E2EBFA;\n",
              "      box-shadow: 0px 1px 2px rgba(60, 64, 67, 0.3), 0px 1px 3px 1px rgba(60, 64, 67, 0.15);\n",
              "      fill: #174EA6;\n",
              "    }\n",
              "\n",
              "    .colab-df-buttons div {\n",
              "      margin-bottom: 4px;\n",
              "    }\n",
              "\n",
              "    [theme=dark] .colab-df-convert {\n",
              "      background-color: #3B4455;\n",
              "      fill: #D2E3FC;\n",
              "    }\n",
              "\n",
              "    [theme=dark] .colab-df-convert:hover {\n",
              "      background-color: #434B5C;\n",
              "      box-shadow: 0px 1px 3px 1px rgba(0, 0, 0, 0.15);\n",
              "      filter: drop-shadow(0px 1px 2px rgba(0, 0, 0, 0.3));\n",
              "      fill: #FFFFFF;\n",
              "    }\n",
              "  </style>\n",
              "\n",
              "    <script>\n",
              "      const buttonEl =\n",
              "        document.querySelector('#df-fe628c51-db7f-4f51-b062-92fce5bc841d button.colab-df-convert');\n",
              "      buttonEl.style.display =\n",
              "        google.colab.kernel.accessAllowed ? 'block' : 'none';\n",
              "\n",
              "      async function convertToInteractive(key) {\n",
              "        const element = document.querySelector('#df-fe628c51-db7f-4f51-b062-92fce5bc841d');\n",
              "        const dataTable =\n",
              "          await google.colab.kernel.invokeFunction('convertToInteractive',\n",
              "                                                    [key], {});\n",
              "        if (!dataTable) return;\n",
              "\n",
              "        const docLinkHtml = 'Like what you see? Visit the ' +\n",
              "          '<a target=\"_blank\" href=https://colab.research.google.com/notebooks/data_table.ipynb>data table notebook</a>'\n",
              "          + ' to learn more about interactive tables.';\n",
              "        element.innerHTML = '';\n",
              "        dataTable['output_type'] = 'display_data';\n",
              "        await google.colab.output.renderOutput(dataTable, element);\n",
              "        const docLink = document.createElement('div');\n",
              "        docLink.innerHTML = docLinkHtml;\n",
              "        element.appendChild(docLink);\n",
              "      }\n",
              "    </script>\n",
              "  </div>\n",
              "\n",
              "\n",
              "<div id=\"df-11080a83-dd40-437d-852c-eaef3fe0d50e\">\n",
              "  <button class=\"colab-df-quickchart\" onclick=\"quickchart('df-11080a83-dd40-437d-852c-eaef3fe0d50e')\"\n",
              "            title=\"Suggest charts.\"\n",
              "            style=\"display:none;\">\n",
              "\n",
              "<svg xmlns=\"http://www.w3.org/2000/svg\" height=\"24px\"viewBox=\"0 0 24 24\"\n",
              "     width=\"24px\">\n",
              "    <g>\n",
              "        <path d=\"M19 3H5c-1.1 0-2 .9-2 2v14c0 1.1.9 2 2 2h14c1.1 0 2-.9 2-2V5c0-1.1-.9-2-2-2zM9 17H7v-7h2v7zm4 0h-2V7h2v10zm4 0h-2v-4h2v4z\"/>\n",
              "    </g>\n",
              "</svg>\n",
              "  </button>\n",
              "\n",
              "<style>\n",
              "  .colab-df-quickchart {\n",
              "      --bg-color: #E8F0FE;\n",
              "      --fill-color: #1967D2;\n",
              "      --hover-bg-color: #E2EBFA;\n",
              "      --hover-fill-color: #174EA6;\n",
              "      --disabled-fill-color: #AAA;\n",
              "      --disabled-bg-color: #DDD;\n",
              "  }\n",
              "\n",
              "  [theme=dark] .colab-df-quickchart {\n",
              "      --bg-color: #3B4455;\n",
              "      --fill-color: #D2E3FC;\n",
              "      --hover-bg-color: #434B5C;\n",
              "      --hover-fill-color: #FFFFFF;\n",
              "      --disabled-bg-color: #3B4455;\n",
              "      --disabled-fill-color: #666;\n",
              "  }\n",
              "\n",
              "  .colab-df-quickchart {\n",
              "    background-color: var(--bg-color);\n",
              "    border: none;\n",
              "    border-radius: 50%;\n",
              "    cursor: pointer;\n",
              "    display: none;\n",
              "    fill: var(--fill-color);\n",
              "    height: 32px;\n",
              "    padding: 0;\n",
              "    width: 32px;\n",
              "  }\n",
              "\n",
              "  .colab-df-quickchart:hover {\n",
              "    background-color: var(--hover-bg-color);\n",
              "    box-shadow: 0 1px 2px rgba(60, 64, 67, 0.3), 0 1px 3px 1px rgba(60, 64, 67, 0.15);\n",
              "    fill: var(--button-hover-fill-color);\n",
              "  }\n",
              "\n",
              "  .colab-df-quickchart-complete:disabled,\n",
              "  .colab-df-quickchart-complete:disabled:hover {\n",
              "    background-color: var(--disabled-bg-color);\n",
              "    fill: var(--disabled-fill-color);\n",
              "    box-shadow: none;\n",
              "  }\n",
              "\n",
              "  .colab-df-spinner {\n",
              "    border: 2px solid var(--fill-color);\n",
              "    border-color: transparent;\n",
              "    border-bottom-color: var(--fill-color);\n",
              "    animation:\n",
              "      spin 1s steps(1) infinite;\n",
              "  }\n",
              "\n",
              "  @keyframes spin {\n",
              "    0% {\n",
              "      border-color: transparent;\n",
              "      border-bottom-color: var(--fill-color);\n",
              "      border-left-color: var(--fill-color);\n",
              "    }\n",
              "    20% {\n",
              "      border-color: transparent;\n",
              "      border-left-color: var(--fill-color);\n",
              "      border-top-color: var(--fill-color);\n",
              "    }\n",
              "    30% {\n",
              "      border-color: transparent;\n",
              "      border-left-color: var(--fill-color);\n",
              "      border-top-color: var(--fill-color);\n",
              "      border-right-color: var(--fill-color);\n",
              "    }\n",
              "    40% {\n",
              "      border-color: transparent;\n",
              "      border-right-color: var(--fill-color);\n",
              "      border-top-color: var(--fill-color);\n",
              "    }\n",
              "    60% {\n",
              "      border-color: transparent;\n",
              "      border-right-color: var(--fill-color);\n",
              "    }\n",
              "    80% {\n",
              "      border-color: transparent;\n",
              "      border-right-color: var(--fill-color);\n",
              "      border-bottom-color: var(--fill-color);\n",
              "    }\n",
              "    90% {\n",
              "      border-color: transparent;\n",
              "      border-bottom-color: var(--fill-color);\n",
              "    }\n",
              "  }\n",
              "</style>\n",
              "\n",
              "  <script>\n",
              "    async function quickchart(key) {\n",
              "      const quickchartButtonEl =\n",
              "        document.querySelector('#' + key + ' button');\n",
              "      quickchartButtonEl.disabled = true;  // To prevent multiple clicks.\n",
              "      quickchartButtonEl.classList.add('colab-df-spinner');\n",
              "      try {\n",
              "        const charts = await google.colab.kernel.invokeFunction(\n",
              "            'suggestCharts', [key], {});\n",
              "      } catch (error) {\n",
              "        console.error('Error during call to suggestCharts:', error);\n",
              "      }\n",
              "      quickchartButtonEl.classList.remove('colab-df-spinner');\n",
              "      quickchartButtonEl.classList.add('colab-df-quickchart-complete');\n",
              "    }\n",
              "    (() => {\n",
              "      let quickchartButtonEl =\n",
              "        document.querySelector('#df-11080a83-dd40-437d-852c-eaef3fe0d50e button');\n",
              "      quickchartButtonEl.style.display =\n",
              "        google.colab.kernel.accessAllowed ? 'block' : 'none';\n",
              "    })();\n",
              "  </script>\n",
              "</div>\n",
              "    </div>\n",
              "  </div>\n"
            ]
          },
          "metadata": {},
          "execution_count": 310
        }
      ]
    },
    {
      "cell_type": "markdown",
      "source": [
        "# FAST FOOD ASSIGNMENT"
      ],
      "metadata": {
        "id": "MGXKKBs2Eyl_"
      }
    },
    {
      "cell_type": "markdown",
      "source": [
        "***LINEAR REGRESSION***"
      ],
      "metadata": {
        "id": "48nA9R5PLcFu"
      }
    },
    {
      "cell_type": "code",
      "source": [
        "df1=pd.read_csv(\"fastfood.csv\")"
      ],
      "metadata": {
        "id": "flrj4h5wFaES"
      },
      "execution_count": null,
      "outputs": []
    },
    {
      "cell_type": "code",
      "source": [
        "df1.head()"
      ],
      "metadata": {
        "colab": {
          "base_uri": "https://localhost:8080/",
          "height": 206
        },
        "id": "ieFy4Mq6F3gb",
        "outputId": "d8f9ec41-8c40-4230-abed-895ebae7d0a3"
      },
      "execution_count": null,
      "outputs": [
        {
          "output_type": "execute_result",
          "data": {
            "text/plain": [
              "  restaurant                                       item  calories  cal_fat  \\\n",
              "0  Mcdonalds           Artisan Grilled Chicken Sandwich       380       60   \n",
              "1  Mcdonalds             Single Bacon Smokehouse Burger       840      410   \n",
              "2  Mcdonalds             Double Bacon Smokehouse Burger      1130      600   \n",
              "3  Mcdonalds  Grilled Bacon Smokehouse Chicken Sandwich       750      280   \n",
              "4  Mcdonalds   Crispy Bacon Smokehouse Chicken Sandwich       920      410   \n",
              "\n",
              "   total_fat  sat_fat  trans_fat  cholesterol  sodium  total_carb  fiber  \\\n",
              "0          7      2.0        0.0           95    1110          44    3.0   \n",
              "1         45     17.0        1.5          130    1580          62    2.0   \n",
              "2         67     27.0        3.0          220    1920          63    3.0   \n",
              "3         31     10.0        0.5          155    1940          62    2.0   \n",
              "4         45     12.0        0.5          120    1980          81    4.0   \n",
              "\n",
              "   sugar  protein  vit_a  vit_c  calcium  Healthy  \n",
              "0     11     37.0    4.0   20.0     20.0        1  \n",
              "1     18     46.0    6.0   20.0     20.0        0  \n",
              "2     18     70.0   10.0   20.0     50.0        0  \n",
              "3     18     55.0    6.0   25.0     20.0        1  \n",
              "4     18     46.0    6.0   20.0     20.0        0  "
            ],
            "text/html": [
              "\n",
              "  <div id=\"df-b0f4f278-3ce8-4865-a269-b77126422c44\" class=\"colab-df-container\">\n",
              "    <div>\n",
              "<style scoped>\n",
              "    .dataframe tbody tr th:only-of-type {\n",
              "        vertical-align: middle;\n",
              "    }\n",
              "\n",
              "    .dataframe tbody tr th {\n",
              "        vertical-align: top;\n",
              "    }\n",
              "\n",
              "    .dataframe thead th {\n",
              "        text-align: right;\n",
              "    }\n",
              "</style>\n",
              "<table border=\"1\" class=\"dataframe\">\n",
              "  <thead>\n",
              "    <tr style=\"text-align: right;\">\n",
              "      <th></th>\n",
              "      <th>restaurant</th>\n",
              "      <th>item</th>\n",
              "      <th>calories</th>\n",
              "      <th>cal_fat</th>\n",
              "      <th>total_fat</th>\n",
              "      <th>sat_fat</th>\n",
              "      <th>trans_fat</th>\n",
              "      <th>cholesterol</th>\n",
              "      <th>sodium</th>\n",
              "      <th>total_carb</th>\n",
              "      <th>fiber</th>\n",
              "      <th>sugar</th>\n",
              "      <th>protein</th>\n",
              "      <th>vit_a</th>\n",
              "      <th>vit_c</th>\n",
              "      <th>calcium</th>\n",
              "      <th>Healthy</th>\n",
              "    </tr>\n",
              "  </thead>\n",
              "  <tbody>\n",
              "    <tr>\n",
              "      <th>0</th>\n",
              "      <td>Mcdonalds</td>\n",
              "      <td>Artisan Grilled Chicken Sandwich</td>\n",
              "      <td>380</td>\n",
              "      <td>60</td>\n",
              "      <td>7</td>\n",
              "      <td>2.0</td>\n",
              "      <td>0.0</td>\n",
              "      <td>95</td>\n",
              "      <td>1110</td>\n",
              "      <td>44</td>\n",
              "      <td>3.0</td>\n",
              "      <td>11</td>\n",
              "      <td>37.0</td>\n",
              "      <td>4.0</td>\n",
              "      <td>20.0</td>\n",
              "      <td>20.0</td>\n",
              "      <td>1</td>\n",
              "    </tr>\n",
              "    <tr>\n",
              "      <th>1</th>\n",
              "      <td>Mcdonalds</td>\n",
              "      <td>Single Bacon Smokehouse Burger</td>\n",
              "      <td>840</td>\n",
              "      <td>410</td>\n",
              "      <td>45</td>\n",
              "      <td>17.0</td>\n",
              "      <td>1.5</td>\n",
              "      <td>130</td>\n",
              "      <td>1580</td>\n",
              "      <td>62</td>\n",
              "      <td>2.0</td>\n",
              "      <td>18</td>\n",
              "      <td>46.0</td>\n",
              "      <td>6.0</td>\n",
              "      <td>20.0</td>\n",
              "      <td>20.0</td>\n",
              "      <td>0</td>\n",
              "    </tr>\n",
              "    <tr>\n",
              "      <th>2</th>\n",
              "      <td>Mcdonalds</td>\n",
              "      <td>Double Bacon Smokehouse Burger</td>\n",
              "      <td>1130</td>\n",
              "      <td>600</td>\n",
              "      <td>67</td>\n",
              "      <td>27.0</td>\n",
              "      <td>3.0</td>\n",
              "      <td>220</td>\n",
              "      <td>1920</td>\n",
              "      <td>63</td>\n",
              "      <td>3.0</td>\n",
              "      <td>18</td>\n",
              "      <td>70.0</td>\n",
              "      <td>10.0</td>\n",
              "      <td>20.0</td>\n",
              "      <td>50.0</td>\n",
              "      <td>0</td>\n",
              "    </tr>\n",
              "    <tr>\n",
              "      <th>3</th>\n",
              "      <td>Mcdonalds</td>\n",
              "      <td>Grilled Bacon Smokehouse Chicken Sandwich</td>\n",
              "      <td>750</td>\n",
              "      <td>280</td>\n",
              "      <td>31</td>\n",
              "      <td>10.0</td>\n",
              "      <td>0.5</td>\n",
              "      <td>155</td>\n",
              "      <td>1940</td>\n",
              "      <td>62</td>\n",
              "      <td>2.0</td>\n",
              "      <td>18</td>\n",
              "      <td>55.0</td>\n",
              "      <td>6.0</td>\n",
              "      <td>25.0</td>\n",
              "      <td>20.0</td>\n",
              "      <td>1</td>\n",
              "    </tr>\n",
              "    <tr>\n",
              "      <th>4</th>\n",
              "      <td>Mcdonalds</td>\n",
              "      <td>Crispy Bacon Smokehouse Chicken Sandwich</td>\n",
              "      <td>920</td>\n",
              "      <td>410</td>\n",
              "      <td>45</td>\n",
              "      <td>12.0</td>\n",
              "      <td>0.5</td>\n",
              "      <td>120</td>\n",
              "      <td>1980</td>\n",
              "      <td>81</td>\n",
              "      <td>4.0</td>\n",
              "      <td>18</td>\n",
              "      <td>46.0</td>\n",
              "      <td>6.0</td>\n",
              "      <td>20.0</td>\n",
              "      <td>20.0</td>\n",
              "      <td>0</td>\n",
              "    </tr>\n",
              "  </tbody>\n",
              "</table>\n",
              "</div>\n",
              "    <div class=\"colab-df-buttons\">\n",
              "\n",
              "  <div class=\"colab-df-container\">\n",
              "    <button class=\"colab-df-convert\" onclick=\"convertToInteractive('df-b0f4f278-3ce8-4865-a269-b77126422c44')\"\n",
              "            title=\"Convert this dataframe to an interactive table.\"\n",
              "            style=\"display:none;\">\n",
              "\n",
              "  <svg xmlns=\"http://www.w3.org/2000/svg\" height=\"24px\" viewBox=\"0 -960 960 960\">\n",
              "    <path d=\"M120-120v-720h720v720H120Zm60-500h600v-160H180v160Zm220 220h160v-160H400v160Zm0 220h160v-160H400v160ZM180-400h160v-160H180v160Zm440 0h160v-160H620v160ZM180-180h160v-160H180v160Zm440 0h160v-160H620v160Z\"/>\n",
              "  </svg>\n",
              "    </button>\n",
              "\n",
              "  <style>\n",
              "    .colab-df-container {\n",
              "      display:flex;\n",
              "      gap: 12px;\n",
              "    }\n",
              "\n",
              "    .colab-df-convert {\n",
              "      background-color: #E8F0FE;\n",
              "      border: none;\n",
              "      border-radius: 50%;\n",
              "      cursor: pointer;\n",
              "      display: none;\n",
              "      fill: #1967D2;\n",
              "      height: 32px;\n",
              "      padding: 0 0 0 0;\n",
              "      width: 32px;\n",
              "    }\n",
              "\n",
              "    .colab-df-convert:hover {\n",
              "      background-color: #E2EBFA;\n",
              "      box-shadow: 0px 1px 2px rgba(60, 64, 67, 0.3), 0px 1px 3px 1px rgba(60, 64, 67, 0.15);\n",
              "      fill: #174EA6;\n",
              "    }\n",
              "\n",
              "    .colab-df-buttons div {\n",
              "      margin-bottom: 4px;\n",
              "    }\n",
              "\n",
              "    [theme=dark] .colab-df-convert {\n",
              "      background-color: #3B4455;\n",
              "      fill: #D2E3FC;\n",
              "    }\n",
              "\n",
              "    [theme=dark] .colab-df-convert:hover {\n",
              "      background-color: #434B5C;\n",
              "      box-shadow: 0px 1px 3px 1px rgba(0, 0, 0, 0.15);\n",
              "      filter: drop-shadow(0px 1px 2px rgba(0, 0, 0, 0.3));\n",
              "      fill: #FFFFFF;\n",
              "    }\n",
              "  </style>\n",
              "\n",
              "    <script>\n",
              "      const buttonEl =\n",
              "        document.querySelector('#df-b0f4f278-3ce8-4865-a269-b77126422c44 button.colab-df-convert');\n",
              "      buttonEl.style.display =\n",
              "        google.colab.kernel.accessAllowed ? 'block' : 'none';\n",
              "\n",
              "      async function convertToInteractive(key) {\n",
              "        const element = document.querySelector('#df-b0f4f278-3ce8-4865-a269-b77126422c44');\n",
              "        const dataTable =\n",
              "          await google.colab.kernel.invokeFunction('convertToInteractive',\n",
              "                                                    [key], {});\n",
              "        if (!dataTable) return;\n",
              "\n",
              "        const docLinkHtml = 'Like what you see? Visit the ' +\n",
              "          '<a target=\"_blank\" href=https://colab.research.google.com/notebooks/data_table.ipynb>data table notebook</a>'\n",
              "          + ' to learn more about interactive tables.';\n",
              "        element.innerHTML = '';\n",
              "        dataTable['output_type'] = 'display_data';\n",
              "        await google.colab.output.renderOutput(dataTable, element);\n",
              "        const docLink = document.createElement('div');\n",
              "        docLink.innerHTML = docLinkHtml;\n",
              "        element.appendChild(docLink);\n",
              "      }\n",
              "    </script>\n",
              "  </div>\n",
              "\n",
              "\n",
              "<div id=\"df-ab231acb-4ae3-4d8d-b9b7-487c08b9af62\">\n",
              "  <button class=\"colab-df-quickchart\" onclick=\"quickchart('df-ab231acb-4ae3-4d8d-b9b7-487c08b9af62')\"\n",
              "            title=\"Suggest charts.\"\n",
              "            style=\"display:none;\">\n",
              "\n",
              "<svg xmlns=\"http://www.w3.org/2000/svg\" height=\"24px\"viewBox=\"0 0 24 24\"\n",
              "     width=\"24px\">\n",
              "    <g>\n",
              "        <path d=\"M19 3H5c-1.1 0-2 .9-2 2v14c0 1.1.9 2 2 2h14c1.1 0 2-.9 2-2V5c0-1.1-.9-2-2-2zM9 17H7v-7h2v7zm4 0h-2V7h2v10zm4 0h-2v-4h2v4z\"/>\n",
              "    </g>\n",
              "</svg>\n",
              "  </button>\n",
              "\n",
              "<style>\n",
              "  .colab-df-quickchart {\n",
              "      --bg-color: #E8F0FE;\n",
              "      --fill-color: #1967D2;\n",
              "      --hover-bg-color: #E2EBFA;\n",
              "      --hover-fill-color: #174EA6;\n",
              "      --disabled-fill-color: #AAA;\n",
              "      --disabled-bg-color: #DDD;\n",
              "  }\n",
              "\n",
              "  [theme=dark] .colab-df-quickchart {\n",
              "      --bg-color: #3B4455;\n",
              "      --fill-color: #D2E3FC;\n",
              "      --hover-bg-color: #434B5C;\n",
              "      --hover-fill-color: #FFFFFF;\n",
              "      --disabled-bg-color: #3B4455;\n",
              "      --disabled-fill-color: #666;\n",
              "  }\n",
              "\n",
              "  .colab-df-quickchart {\n",
              "    background-color: var(--bg-color);\n",
              "    border: none;\n",
              "    border-radius: 50%;\n",
              "    cursor: pointer;\n",
              "    display: none;\n",
              "    fill: var(--fill-color);\n",
              "    height: 32px;\n",
              "    padding: 0;\n",
              "    width: 32px;\n",
              "  }\n",
              "\n",
              "  .colab-df-quickchart:hover {\n",
              "    background-color: var(--hover-bg-color);\n",
              "    box-shadow: 0 1px 2px rgba(60, 64, 67, 0.3), 0 1px 3px 1px rgba(60, 64, 67, 0.15);\n",
              "    fill: var(--button-hover-fill-color);\n",
              "  }\n",
              "\n",
              "  .colab-df-quickchart-complete:disabled,\n",
              "  .colab-df-quickchart-complete:disabled:hover {\n",
              "    background-color: var(--disabled-bg-color);\n",
              "    fill: var(--disabled-fill-color);\n",
              "    box-shadow: none;\n",
              "  }\n",
              "\n",
              "  .colab-df-spinner {\n",
              "    border: 2px solid var(--fill-color);\n",
              "    border-color: transparent;\n",
              "    border-bottom-color: var(--fill-color);\n",
              "    animation:\n",
              "      spin 1s steps(1) infinite;\n",
              "  }\n",
              "\n",
              "  @keyframes spin {\n",
              "    0% {\n",
              "      border-color: transparent;\n",
              "      border-bottom-color: var(--fill-color);\n",
              "      border-left-color: var(--fill-color);\n",
              "    }\n",
              "    20% {\n",
              "      border-color: transparent;\n",
              "      border-left-color: var(--fill-color);\n",
              "      border-top-color: var(--fill-color);\n",
              "    }\n",
              "    30% {\n",
              "      border-color: transparent;\n",
              "      border-left-color: var(--fill-color);\n",
              "      border-top-color: var(--fill-color);\n",
              "      border-right-color: var(--fill-color);\n",
              "    }\n",
              "    40% {\n",
              "      border-color: transparent;\n",
              "      border-right-color: var(--fill-color);\n",
              "      border-top-color: var(--fill-color);\n",
              "    }\n",
              "    60% {\n",
              "      border-color: transparent;\n",
              "      border-right-color: var(--fill-color);\n",
              "    }\n",
              "    80% {\n",
              "      border-color: transparent;\n",
              "      border-right-color: var(--fill-color);\n",
              "      border-bottom-color: var(--fill-color);\n",
              "    }\n",
              "    90% {\n",
              "      border-color: transparent;\n",
              "      border-bottom-color: var(--fill-color);\n",
              "    }\n",
              "  }\n",
              "</style>\n",
              "\n",
              "  <script>\n",
              "    async function quickchart(key) {\n",
              "      const quickchartButtonEl =\n",
              "        document.querySelector('#' + key + ' button');\n",
              "      quickchartButtonEl.disabled = true;  // To prevent multiple clicks.\n",
              "      quickchartButtonEl.classList.add('colab-df-spinner');\n",
              "      try {\n",
              "        const charts = await google.colab.kernel.invokeFunction(\n",
              "            'suggestCharts', [key], {});\n",
              "      } catch (error) {\n",
              "        console.error('Error during call to suggestCharts:', error);\n",
              "      }\n",
              "      quickchartButtonEl.classList.remove('colab-df-spinner');\n",
              "      quickchartButtonEl.classList.add('colab-df-quickchart-complete');\n",
              "    }\n",
              "    (() => {\n",
              "      let quickchartButtonEl =\n",
              "        document.querySelector('#df-ab231acb-4ae3-4d8d-b9b7-487c08b9af62 button');\n",
              "      quickchartButtonEl.style.display =\n",
              "        google.colab.kernel.accessAllowed ? 'block' : 'none';\n",
              "    })();\n",
              "  </script>\n",
              "</div>\n",
              "    </div>\n",
              "  </div>\n"
            ]
          },
          "metadata": {},
          "execution_count": 217
        }
      ]
    },
    {
      "cell_type": "code",
      "source": [
        "df1.isnull().sum()"
      ],
      "metadata": {
        "colab": {
          "base_uri": "https://localhost:8080/"
        },
        "id": "VixjQLROJNN9",
        "outputId": "36b09f94-8a9a-4378-caad-0637e836c619"
      },
      "execution_count": null,
      "outputs": [
        {
          "output_type": "execute_result",
          "data": {
            "text/plain": [
              "restaurant       0\n",
              "item             0\n",
              "calories         0\n",
              "cal_fat          0\n",
              "total_fat        0\n",
              "sat_fat          0\n",
              "trans_fat        0\n",
              "cholesterol      0\n",
              "sodium           0\n",
              "total_carb       0\n",
              "fiber           12\n",
              "sugar            0\n",
              "protein          1\n",
              "vit_a          214\n",
              "vit_c          210\n",
              "calcium        210\n",
              "Healthy          0\n",
              "dtype: int64"
            ]
          },
          "metadata": {},
          "execution_count": 241
        }
      ]
    },
    {
      "cell_type": "code",
      "source": [
        "x1= df1[\"total_carb\"]\n",
        "y1= df1['total_fat']"
      ],
      "metadata": {
        "id": "4krWtFpTMMaO"
      },
      "execution_count": null,
      "outputs": []
    },
    {
      "cell_type": "code",
      "source": [
        "from sklearn.model_selection import train_test_split\n",
        "x1_train,x1_test ,y1_train,y1_test= train_test_split(x1,y1, test_size=0.3, random_state=32)\n",
        "x1_train"
      ],
      "metadata": {
        "colab": {
          "base_uri": "https://localhost:8080/"
        },
        "id": "2cvt-zNtK-2q",
        "outputId": "6b1bc924-e363-43ce-968d-cad77da72ead"
      },
      "execution_count": null,
      "outputs": [
        {
          "output_type": "execute_result",
          "data": {
            "text/plain": [
              "400    59\n",
              "182    21\n",
              "373    13\n",
              "389    10\n",
              "240    18\n",
              "       ..\n",
              "71     40\n",
              "252    19\n",
              "403    56\n",
              "88     32\n",
              "310    51\n",
              "Name: total_carb, Length: 360, dtype: int64"
            ]
          },
          "metadata": {},
          "execution_count": 261
        }
      ]
    },
    {
      "cell_type": "code",
      "source": [
        "x1_test"
      ],
      "metadata": {
        "colab": {
          "base_uri": "https://localhost:8080/"
        },
        "id": "anNRnHHZM9wE",
        "outputId": "60fd2cd3-6c55-4a94-ac20-5bb1d4088df1"
      },
      "execution_count": null,
      "outputs": [
        {
          "output_type": "execute_result",
          "data": {
            "text/plain": [
              "456    31\n",
              "144    53\n",
              "320    94\n",
              "111    16\n",
              "369    10\n",
              "       ..\n",
              "162    28\n",
              "298    11\n",
              "447    19\n",
              "45     63\n",
              "174    44\n",
              "Name: total_carb, Length: 155, dtype: int64"
            ]
          },
          "metadata": {},
          "execution_count": 262
        }
      ]
    },
    {
      "cell_type": "code",
      "source": [
        "x1_train = np.array(x1_train).reshape(-1,1)\n",
        "x1_train.flatten()"
      ],
      "metadata": {
        "colab": {
          "base_uri": "https://localhost:8080/"
        },
        "id": "0bp491DXNEMT",
        "outputId": "b1f9d327-505b-4b1f-f85b-00889a8ba7a5"
      },
      "execution_count": null,
      "outputs": [
        {
          "output_type": "execute_result",
          "data": {
            "text/plain": [
              "array([ 59,  21,  13,  10,  18,  51,  96,  44,  37,  55,  43,  64,  34,\n",
              "        48,  20,  92,  63,  66,  94,  53,  67,  53,  16,  35,  48,  92,\n",
              "        47,  62,  48,  92,  22,  46,  12,  33,  62, 105,  59,  69,  45,\n",
              "        50,  94,  49,  92,  45,  40,  49,  22,  21,   3,  35,  62,  44,\n",
              "        74,  85,   9,  18,  30,  67,  26,  34,  31,  94,  25,  59,  27,\n",
              "        14,  43,  56,   7,  43,  69,  95,  41,  46,  56,  13,  26,   1,\n",
              "        15, 118,  87,  40,  42,  96,  59,  68,  50,  62,  12,  50,  52,\n",
              "        46,  47,  35,  44,  23, 121,  30,  44,  34,  18,  31,  63,  46,\n",
              "        44,  13,  32,  48,   2,  23,  81,  14,  45,  98,  29,  41,  55,\n",
              "        46,  64,  30,  76,  30,  26,  27,  32,  31,  51,  57,  54,  44,\n",
              "        32,  44,  36,  49,  29,  58,  70,   5,  38,  18,  10,  79,  50,\n",
              "        19,  90,  46,  47, 102,  45,  15,  21,  51,  34,  69,  68,  43,\n",
              "        47,  17,  30,  52,  59,  30,  26,  27,  39,  17,  22,  75,  52,\n",
              "        66, 102,   8,  22,  38,  48,  26,  50,  39,  44,  15,  48,  45,\n",
              "        59,  68,  37,  34,  64,  12,  51,  96,   7,  46,  48,  34,  83,\n",
              "        28,  56,  39,   9,  11,  70,  41,  53,  40,  21,  92,  25,  16,\n",
              "        57,  34,  45,  92,  54,  28,  43,  92,  68,  26,  32,  39,  45,\n",
              "        11,  29,  13,  66,  33,  44,  18,  47,  35,  47,  65,  53,  80,\n",
              "        18,  52,   8,  28,  66,  64,  27,  32,  55,  40,  40, 126,  26,\n",
              "        46,  44,  42,  71, 118,  51,  36,  44,  44,  33,  40,  53,  13,\n",
              "        32,  44,  15,  90,  49,  39,  47,  52,  96,  49,  47,  94,  46,\n",
              "        62,  54,  62,  53,   9,  11,  25,  66,  51,  48,  28,  68,  45,\n",
              "        49,  28,   4,  90,  46,  91,  14,  44,  64,  44,  80,  50,  10,\n",
              "        91,  17, 112,  37,  45,  28,  13,  64,   2,  54,  47,  69,  46,\n",
              "        41,  49,  19,  59,  43,  11,  38,  42,  63,  35,  29,   9,  37,\n",
              "        29, 109,  62,  22,  34,  48,  79,  39,  28,  21,  53,  47,  36,\n",
              "        39,  58,  70,  26,  52,  21,  52,   5,  41,  13,  45,  81,  42,\n",
              "        57,  64,  35,  33,  40,  19,  56,  32,  51])"
            ]
          },
          "metadata": {},
          "execution_count": 263
        }
      ]
    },
    {
      "cell_type": "code",
      "source": [
        "x1_test = np.array(x1_test).reshape(-1,1)\n",
        "x1_test\n",
        "x1_test.flatten()"
      ],
      "metadata": {
        "colab": {
          "base_uri": "https://localhost:8080/"
        },
        "id": "FFdV6ky6NKaN",
        "outputId": "50e22f12-4509-49cd-a076-737cb4260fe7"
      },
      "execution_count": null,
      "outputs": [
        {
          "output_type": "execute_result",
          "data": {
            "text/plain": [
              "array([ 31,  53,  94,  16,  10,  52,  36,  34,  13,  70,  46,  53,  38,\n",
              "        29,  45,  22,  44, 105,  29,  36,  42,  40,  63,  51,  23,  98,\n",
              "        22,  46,   6,  59,  48,  40,  32,  41,  15,  56,  94, 118,  24,\n",
              "        88,  53,  74,  23,  92,  21,  46,  28,  75,  65,  82,  88,  62,\n",
              "        24,  40,   0,  11,  50,  12,  50,  48,  47,  97,  30,  41, 100,\n",
              "        50,  53,  40,  45,  37,  19, 103,  39,  26,  42,  28, 107,  73,\n",
              "        88,  41,  44,  29,  11,  38,   7,  34,  55,  40,  59,  40,  44,\n",
              "        11,  98,  29,  67,  80,  11,  94,  11,  41,  48,  53,  12,  46,\n",
              "        19,  48,  46,  62,  30,  42,  22,  65,  30,  65,  51, 156,  35,\n",
              "        31,  41,  86,  26,  30,  57,  21,  45,  47,  55,  10,  10,  75,\n",
              "        10,  61,  21,  46,  53,  70,  24,  30,  94,  37,  47,  32,  56,\n",
              "        28,  47,  16,  15,  36,  43,  52,  28,  11,  19,  63,  44])"
            ]
          },
          "metadata": {},
          "execution_count": 264
        }
      ]
    },
    {
      "cell_type": "code",
      "source": [
        "from sklearn.linear_model import LinearRegression\n",
        "lr = LinearRegression()\n",
        "lr.fit(x1_train, y1_train)"
      ],
      "metadata": {
        "colab": {
          "base_uri": "https://localhost:8080/",
          "height": 74
        },
        "id": "rJ9ueNEZNTbC",
        "outputId": "ff759a0f-f318-4c34-e34e-d2d4959235ff"
      },
      "execution_count": null,
      "outputs": [
        {
          "output_type": "execute_result",
          "data": {
            "text/plain": [
              "LinearRegression()"
            ],
            "text/html": [
              "<style>#sk-container-id-15 {color: black;background-color: white;}#sk-container-id-15 pre{padding: 0;}#sk-container-id-15 div.sk-toggleable {background-color: white;}#sk-container-id-15 label.sk-toggleable__label {cursor: pointer;display: block;width: 100%;margin-bottom: 0;padding: 0.3em;box-sizing: border-box;text-align: center;}#sk-container-id-15 label.sk-toggleable__label-arrow:before {content: \"▸\";float: left;margin-right: 0.25em;color: #696969;}#sk-container-id-15 label.sk-toggleable__label-arrow:hover:before {color: black;}#sk-container-id-15 div.sk-estimator:hover label.sk-toggleable__label-arrow:before {color: black;}#sk-container-id-15 div.sk-toggleable__content {max-height: 0;max-width: 0;overflow: hidden;text-align: left;background-color: #f0f8ff;}#sk-container-id-15 div.sk-toggleable__content pre {margin: 0.2em;color: black;border-radius: 0.25em;background-color: #f0f8ff;}#sk-container-id-15 input.sk-toggleable__control:checked~div.sk-toggleable__content {max-height: 200px;max-width: 100%;overflow: auto;}#sk-container-id-15 input.sk-toggleable__control:checked~label.sk-toggleable__label-arrow:before {content: \"▾\";}#sk-container-id-15 div.sk-estimator input.sk-toggleable__control:checked~label.sk-toggleable__label {background-color: #d4ebff;}#sk-container-id-15 div.sk-label input.sk-toggleable__control:checked~label.sk-toggleable__label {background-color: #d4ebff;}#sk-container-id-15 input.sk-hidden--visually {border: 0;clip: rect(1px 1px 1px 1px);clip: rect(1px, 1px, 1px, 1px);height: 1px;margin: -1px;overflow: hidden;padding: 0;position: absolute;width: 1px;}#sk-container-id-15 div.sk-estimator {font-family: monospace;background-color: #f0f8ff;border: 1px dotted black;border-radius: 0.25em;box-sizing: border-box;margin-bottom: 0.5em;}#sk-container-id-15 div.sk-estimator:hover {background-color: #d4ebff;}#sk-container-id-15 div.sk-parallel-item::after {content: \"\";width: 100%;border-bottom: 1px solid gray;flex-grow: 1;}#sk-container-id-15 div.sk-label:hover label.sk-toggleable__label {background-color: #d4ebff;}#sk-container-id-15 div.sk-serial::before {content: \"\";position: absolute;border-left: 1px solid gray;box-sizing: border-box;top: 0;bottom: 0;left: 50%;z-index: 0;}#sk-container-id-15 div.sk-serial {display: flex;flex-direction: column;align-items: center;background-color: white;padding-right: 0.2em;padding-left: 0.2em;position: relative;}#sk-container-id-15 div.sk-item {position: relative;z-index: 1;}#sk-container-id-15 div.sk-parallel {display: flex;align-items: stretch;justify-content: center;background-color: white;position: relative;}#sk-container-id-15 div.sk-item::before, #sk-container-id-15 div.sk-parallel-item::before {content: \"\";position: absolute;border-left: 1px solid gray;box-sizing: border-box;top: 0;bottom: 0;left: 50%;z-index: -1;}#sk-container-id-15 div.sk-parallel-item {display: flex;flex-direction: column;z-index: 1;position: relative;background-color: white;}#sk-container-id-15 div.sk-parallel-item:first-child::after {align-self: flex-end;width: 50%;}#sk-container-id-15 div.sk-parallel-item:last-child::after {align-self: flex-start;width: 50%;}#sk-container-id-15 div.sk-parallel-item:only-child::after {width: 0;}#sk-container-id-15 div.sk-dashed-wrapped {border: 1px dashed gray;margin: 0 0.4em 0.5em 0.4em;box-sizing: border-box;padding-bottom: 0.4em;background-color: white;}#sk-container-id-15 div.sk-label label {font-family: monospace;font-weight: bold;display: inline-block;line-height: 1.2em;}#sk-container-id-15 div.sk-label-container {text-align: center;}#sk-container-id-15 div.sk-container {/* jupyter's `normalize.less` sets `[hidden] { display: none; }` but bootstrap.min.css set `[hidden] { display: none !important; }` so we also need the `!important` here to be able to override the default hidden behavior on the sphinx rendered scikit-learn.org. See: https://github.com/scikit-learn/scikit-learn/issues/21755 */display: inline-block !important;position: relative;}#sk-container-id-15 div.sk-text-repr-fallback {display: none;}</style><div id=\"sk-container-id-15\" class=\"sk-top-container\"><div class=\"sk-text-repr-fallback\"><pre>LinearRegression()</pre><b>In a Jupyter environment, please rerun this cell to show the HTML representation or trust the notebook. <br />On GitHub, the HTML representation is unable to render, please try loading this page with nbviewer.org.</b></div><div class=\"sk-container\" hidden><div class=\"sk-item\"><div class=\"sk-estimator sk-toggleable\"><input class=\"sk-toggleable__control sk-hidden--visually\" id=\"sk-estimator-id-15\" type=\"checkbox\" checked><label for=\"sk-estimator-id-15\" class=\"sk-toggleable__label sk-toggleable__label-arrow\">LinearRegression</label><div class=\"sk-toggleable__content\"><pre>LinearRegression()</pre></div></div></div></div></div>"
            ]
          },
          "metadata": {},
          "execution_count": 265
        }
      ]
    },
    {
      "cell_type": "code",
      "source": [
        "c=lr.intercept_\n",
        "c"
      ],
      "metadata": {
        "colab": {
          "base_uri": "https://localhost:8080/"
        },
        "id": "J2_JPOX3NbO-",
        "outputId": "4d17ce0e-86f8-41c9-ff78-8d1bfc2a66f4"
      },
      "execution_count": null,
      "outputs": [
        {
          "output_type": "execute_result",
          "data": {
            "text/plain": [
              "12.409131794090044"
            ]
          },
          "metadata": {},
          "execution_count": 266
        }
      ]
    },
    {
      "cell_type": "code",
      "source": [
        "m=lr.coef_\n",
        "m"
      ],
      "metadata": {
        "colab": {
          "base_uri": "https://localhost:8080/"
        },
        "id": "vLjRSdpjLGHS",
        "outputId": "2d276468-f778-40d2-b1ff-8949863b398d"
      },
      "execution_count": null,
      "outputs": [
        {
          "output_type": "execute_result",
          "data": {
            "text/plain": [
              "array([0.29995203])"
            ]
          },
          "metadata": {},
          "execution_count": 267
        }
      ]
    },
    {
      "cell_type": "code",
      "source": [
        "y1_pred_train=m*x1_train+c\n",
        "y1_pred_train.flatten()\n"
      ],
      "metadata": {
        "colab": {
          "base_uri": "https://localhost:8080/"
        },
        "id": "MBBte75eNfgz",
        "outputId": "f56f4a21-833c-4600-cf4e-e4787890a169"
      },
      "execution_count": null,
      "outputs": [
        {
          "output_type": "execute_result",
          "data": {
            "text/plain": [
              "array([30.1063015 , 18.7081244 , 16.30850817, 15.40865208, 17.80826831,\n",
              "       27.70668527, 41.20452657, 25.60702106, 23.50735686, 28.90649338,\n",
              "       25.30706904, 31.60606164, 22.60750078, 26.80682918, 18.40817237,\n",
              "       40.00471845, 31.30610961, 32.2059657 , 40.60462251, 28.30658932,\n",
              "       32.50591773, 28.30658932, 17.20836426, 22.90745281, 26.80682918,\n",
              "       40.00471845, 26.50687715, 31.00615758, 26.80682918, 40.00471845,\n",
              "       19.00807643, 26.20692512, 16.00855614, 22.30754875, 31.00615758,\n",
              "       43.90409483, 30.1063015 , 33.10582179, 25.90697309, 27.40673324,\n",
              "       40.60462251, 27.10678121, 40.00471845, 25.90697309, 24.40721295,\n",
              "       27.10678121, 19.00807643, 18.7081244 , 13.30898788, 22.90745281,\n",
              "       31.00615758, 25.60702106, 34.60558193, 37.90505425, 15.10870005,\n",
              "       17.80826831, 21.40769266, 32.50591773, 20.20788455, 22.60750078,\n",
              "       21.70764469, 40.60462251, 19.90793252, 30.1063015 , 20.50783657,\n",
              "       16.6084602 , 25.30706904, 29.20644541, 14.508796  , 25.30706904,\n",
              "       33.10582179, 40.90457454, 24.70716498, 26.20692512, 29.20644541,\n",
              "       16.30850817, 20.20788455, 12.70908382, 16.90841223, 47.8034712 ,\n",
              "       38.50495831, 24.40721295, 25.00711701, 41.20452657, 30.1063015 ,\n",
              "       32.80586976, 27.40673324, 31.00615758, 16.00855614, 27.40673324,\n",
              "       28.0066373 , 26.20692512, 26.50687715, 22.90745281, 25.60702106,\n",
              "       19.30802846, 48.70332729, 21.40769266, 25.60702106, 22.60750078,\n",
              "       17.80826831, 21.70764469, 31.30610961, 26.20692512, 25.60702106,\n",
              "       16.30850817, 22.00759672, 26.80682918, 13.00903585, 19.30802846,\n",
              "       36.70524613, 16.6084602 , 25.90697309, 41.80443062, 21.10774063,\n",
              "       24.70716498, 28.90649338, 26.20692512, 31.60606164, 21.40769266,\n",
              "       35.20548599, 21.40769266, 20.20788455, 20.50783657, 22.00759672,\n",
              "       21.70764469, 27.70668527, 29.50639744, 28.60654135, 25.60702106,\n",
              "       22.00759672, 25.60702106, 23.20740483, 27.10678121, 21.10774063,\n",
              "       29.80634947, 33.40577382, 13.90889194, 23.80730889, 17.80826831,\n",
              "       15.40865208, 36.10534208, 27.40673324, 18.10822034, 39.40481439,\n",
              "       26.20692512, 26.50687715, 43.00423874, 25.90697309, 16.90841223,\n",
              "       18.7081244 , 27.70668527, 22.60750078, 33.10582179, 32.80586976,\n",
              "       25.30706904, 26.50687715, 17.50831629, 21.40769266, 28.0066373 ,\n",
              "       30.1063015 , 21.40769266, 20.20788455, 20.50783657, 24.10726092,\n",
              "       17.50831629, 19.00807643, 34.90553396, 28.0066373 , 32.2059657 ,\n",
              "       43.00423874, 14.80874803, 19.00807643, 23.80730889, 26.80682918,\n",
              "       20.20788455, 27.40673324, 24.10726092, 25.60702106, 16.90841223,\n",
              "       26.80682918, 25.90697309, 30.1063015 , 32.80586976, 23.50735686,\n",
              "       22.60750078, 31.60606164, 16.00855614, 27.70668527, 41.20452657,\n",
              "       14.508796  , 26.20692512, 26.80682918, 22.60750078, 37.30515019,\n",
              "       20.8077886 , 29.20644541, 24.10726092, 15.10870005, 15.70860411,\n",
              "       33.40577382, 24.70716498, 28.30658932, 24.40721295, 18.7081244 ,\n",
              "       40.00471845, 19.90793252, 17.20836426, 29.50639744, 22.60750078,\n",
              "       25.90697309, 40.00471845, 28.60654135, 20.8077886 , 25.30706904,\n",
              "       40.00471845, 32.80586976, 20.20788455, 22.00759672, 24.10726092,\n",
              "       25.90697309, 15.70860411, 21.10774063, 16.30850817, 32.2059657 ,\n",
              "       22.30754875, 25.60702106, 17.80826831, 26.50687715, 22.90745281,\n",
              "       26.50687715, 31.90601367, 28.30658932, 36.4052941 , 17.80826831,\n",
              "       28.0066373 , 14.80874803, 20.8077886 , 32.2059657 , 31.60606164,\n",
              "       20.50783657, 22.00759672, 28.90649338, 24.40721295, 24.40721295,\n",
              "       50.20308743, 20.20788455, 26.20692512, 25.60702106, 25.00711701,\n",
              "       33.70572584, 47.8034712 , 27.70668527, 23.20740483, 25.60702106,\n",
              "       25.60702106, 22.30754875, 24.40721295, 28.30658932, 16.30850817,\n",
              "       22.00759672, 25.60702106, 16.90841223, 39.40481439, 27.10678121,\n",
              "       24.10726092, 26.50687715, 28.0066373 , 41.20452657, 27.10678121,\n",
              "       26.50687715, 40.60462251, 26.20692512, 31.00615758, 28.60654135,\n",
              "       31.00615758, 28.30658932, 15.10870005, 15.70860411, 19.90793252,\n",
              "       32.2059657 , 27.70668527, 26.80682918, 20.8077886 , 32.80586976,\n",
              "       25.90697309, 27.10678121, 20.8077886 , 13.60893991, 39.40481439,\n",
              "       26.20692512, 39.70476642, 16.6084602 , 25.60702106, 31.60606164,\n",
              "       25.60702106, 36.4052941 , 27.40673324, 15.40865208, 39.70476642,\n",
              "       17.50831629, 46.00375903, 23.50735686, 25.90697309, 20.8077886 ,\n",
              "       16.30850817, 31.60606164, 13.00903585, 28.60654135, 26.50687715,\n",
              "       33.10582179, 26.20692512, 24.70716498, 27.10678121, 18.10822034,\n",
              "       30.1063015 , 25.30706904, 15.70860411, 23.80730889, 25.00711701,\n",
              "       31.30610961, 22.90745281, 21.10774063, 15.10870005, 23.50735686,\n",
              "       21.10774063, 45.10390294, 31.00615758, 19.00807643, 22.60750078,\n",
              "       26.80682918, 36.10534208, 24.10726092, 20.8077886 , 18.7081244 ,\n",
              "       28.30658932, 26.50687715, 23.20740483, 24.10726092, 29.80634947,\n",
              "       33.40577382, 20.20788455, 28.0066373 , 18.7081244 , 28.0066373 ,\n",
              "       13.90889194, 24.70716498, 16.30850817, 25.90697309, 36.70524613,\n",
              "       25.00711701, 29.50639744, 31.60606164, 22.90745281, 22.30754875,\n",
              "       24.40721295, 18.10822034, 29.20644541, 22.00759672, 27.70668527])"
            ]
          },
          "metadata": {},
          "execution_count": 268
        }
      ]
    },
    {
      "cell_type": "code",
      "source": [
        "y1_pred_train1= lr.predict(x1_train)\n",
        "y1_pred_train1.flatten()"
      ],
      "metadata": {
        "colab": {
          "base_uri": "https://localhost:8080/"
        },
        "id": "5xXoAPpZNklh",
        "outputId": "bde2cdcb-7c86-441d-fada-1939ae95b215"
      },
      "execution_count": null,
      "outputs": [
        {
          "output_type": "execute_result",
          "data": {
            "text/plain": [
              "array([30.1063015 , 18.7081244 , 16.30850817, 15.40865208, 17.80826831,\n",
              "       27.70668527, 41.20452657, 25.60702106, 23.50735686, 28.90649338,\n",
              "       25.30706904, 31.60606164, 22.60750078, 26.80682918, 18.40817237,\n",
              "       40.00471845, 31.30610961, 32.2059657 , 40.60462251, 28.30658932,\n",
              "       32.50591773, 28.30658932, 17.20836426, 22.90745281, 26.80682918,\n",
              "       40.00471845, 26.50687715, 31.00615758, 26.80682918, 40.00471845,\n",
              "       19.00807643, 26.20692512, 16.00855614, 22.30754875, 31.00615758,\n",
              "       43.90409483, 30.1063015 , 33.10582179, 25.90697309, 27.40673324,\n",
              "       40.60462251, 27.10678121, 40.00471845, 25.90697309, 24.40721295,\n",
              "       27.10678121, 19.00807643, 18.7081244 , 13.30898788, 22.90745281,\n",
              "       31.00615758, 25.60702106, 34.60558193, 37.90505425, 15.10870005,\n",
              "       17.80826831, 21.40769266, 32.50591773, 20.20788455, 22.60750078,\n",
              "       21.70764469, 40.60462251, 19.90793252, 30.1063015 , 20.50783657,\n",
              "       16.6084602 , 25.30706904, 29.20644541, 14.508796  , 25.30706904,\n",
              "       33.10582179, 40.90457454, 24.70716498, 26.20692512, 29.20644541,\n",
              "       16.30850817, 20.20788455, 12.70908382, 16.90841223, 47.8034712 ,\n",
              "       38.50495831, 24.40721295, 25.00711701, 41.20452657, 30.1063015 ,\n",
              "       32.80586976, 27.40673324, 31.00615758, 16.00855614, 27.40673324,\n",
              "       28.0066373 , 26.20692512, 26.50687715, 22.90745281, 25.60702106,\n",
              "       19.30802846, 48.70332729, 21.40769266, 25.60702106, 22.60750078,\n",
              "       17.80826831, 21.70764469, 31.30610961, 26.20692512, 25.60702106,\n",
              "       16.30850817, 22.00759672, 26.80682918, 13.00903585, 19.30802846,\n",
              "       36.70524613, 16.6084602 , 25.90697309, 41.80443062, 21.10774063,\n",
              "       24.70716498, 28.90649338, 26.20692512, 31.60606164, 21.40769266,\n",
              "       35.20548599, 21.40769266, 20.20788455, 20.50783657, 22.00759672,\n",
              "       21.70764469, 27.70668527, 29.50639744, 28.60654135, 25.60702106,\n",
              "       22.00759672, 25.60702106, 23.20740483, 27.10678121, 21.10774063,\n",
              "       29.80634947, 33.40577382, 13.90889194, 23.80730889, 17.80826831,\n",
              "       15.40865208, 36.10534208, 27.40673324, 18.10822034, 39.40481439,\n",
              "       26.20692512, 26.50687715, 43.00423874, 25.90697309, 16.90841223,\n",
              "       18.7081244 , 27.70668527, 22.60750078, 33.10582179, 32.80586976,\n",
              "       25.30706904, 26.50687715, 17.50831629, 21.40769266, 28.0066373 ,\n",
              "       30.1063015 , 21.40769266, 20.20788455, 20.50783657, 24.10726092,\n",
              "       17.50831629, 19.00807643, 34.90553396, 28.0066373 , 32.2059657 ,\n",
              "       43.00423874, 14.80874803, 19.00807643, 23.80730889, 26.80682918,\n",
              "       20.20788455, 27.40673324, 24.10726092, 25.60702106, 16.90841223,\n",
              "       26.80682918, 25.90697309, 30.1063015 , 32.80586976, 23.50735686,\n",
              "       22.60750078, 31.60606164, 16.00855614, 27.70668527, 41.20452657,\n",
              "       14.508796  , 26.20692512, 26.80682918, 22.60750078, 37.30515019,\n",
              "       20.8077886 , 29.20644541, 24.10726092, 15.10870005, 15.70860411,\n",
              "       33.40577382, 24.70716498, 28.30658932, 24.40721295, 18.7081244 ,\n",
              "       40.00471845, 19.90793252, 17.20836426, 29.50639744, 22.60750078,\n",
              "       25.90697309, 40.00471845, 28.60654135, 20.8077886 , 25.30706904,\n",
              "       40.00471845, 32.80586976, 20.20788455, 22.00759672, 24.10726092,\n",
              "       25.90697309, 15.70860411, 21.10774063, 16.30850817, 32.2059657 ,\n",
              "       22.30754875, 25.60702106, 17.80826831, 26.50687715, 22.90745281,\n",
              "       26.50687715, 31.90601367, 28.30658932, 36.4052941 , 17.80826831,\n",
              "       28.0066373 , 14.80874803, 20.8077886 , 32.2059657 , 31.60606164,\n",
              "       20.50783657, 22.00759672, 28.90649338, 24.40721295, 24.40721295,\n",
              "       50.20308743, 20.20788455, 26.20692512, 25.60702106, 25.00711701,\n",
              "       33.70572584, 47.8034712 , 27.70668527, 23.20740483, 25.60702106,\n",
              "       25.60702106, 22.30754875, 24.40721295, 28.30658932, 16.30850817,\n",
              "       22.00759672, 25.60702106, 16.90841223, 39.40481439, 27.10678121,\n",
              "       24.10726092, 26.50687715, 28.0066373 , 41.20452657, 27.10678121,\n",
              "       26.50687715, 40.60462251, 26.20692512, 31.00615758, 28.60654135,\n",
              "       31.00615758, 28.30658932, 15.10870005, 15.70860411, 19.90793252,\n",
              "       32.2059657 , 27.70668527, 26.80682918, 20.8077886 , 32.80586976,\n",
              "       25.90697309, 27.10678121, 20.8077886 , 13.60893991, 39.40481439,\n",
              "       26.20692512, 39.70476642, 16.6084602 , 25.60702106, 31.60606164,\n",
              "       25.60702106, 36.4052941 , 27.40673324, 15.40865208, 39.70476642,\n",
              "       17.50831629, 46.00375903, 23.50735686, 25.90697309, 20.8077886 ,\n",
              "       16.30850817, 31.60606164, 13.00903585, 28.60654135, 26.50687715,\n",
              "       33.10582179, 26.20692512, 24.70716498, 27.10678121, 18.10822034,\n",
              "       30.1063015 , 25.30706904, 15.70860411, 23.80730889, 25.00711701,\n",
              "       31.30610961, 22.90745281, 21.10774063, 15.10870005, 23.50735686,\n",
              "       21.10774063, 45.10390294, 31.00615758, 19.00807643, 22.60750078,\n",
              "       26.80682918, 36.10534208, 24.10726092, 20.8077886 , 18.7081244 ,\n",
              "       28.30658932, 26.50687715, 23.20740483, 24.10726092, 29.80634947,\n",
              "       33.40577382, 20.20788455, 28.0066373 , 18.7081244 , 28.0066373 ,\n",
              "       13.90889194, 24.70716498, 16.30850817, 25.90697309, 36.70524613,\n",
              "       25.00711701, 29.50639744, 31.60606164, 22.90745281, 22.30754875,\n",
              "       24.40721295, 18.10822034, 29.20644541, 22.00759672, 27.70668527])"
            ]
          },
          "metadata": {},
          "execution_count": 269
        }
      ]
    },
    {
      "cell_type": "code",
      "source": [
        "import matplotlib.pyplot as plt\n",
        "plt.scatter(x1_train, y1_train)\n",
        "plt.plot(x1_train, y1_pred_train1, color='k')\n",
        "plt.xlabel(\"total_carb\")\n",
        "plt.ylabel(\"total_fat\")"
      ],
      "metadata": {
        "colab": {
          "base_uri": "https://localhost:8080/",
          "height": 468
        },
        "id": "xpewO1ybNsac",
        "outputId": "464c4106-73e5-4cca-c37d-bb01a682123a"
      },
      "execution_count": null,
      "outputs": [
        {
          "output_type": "execute_result",
          "data": {
            "text/plain": [
              "Text(0, 0.5, 'total_fat')"
            ]
          },
          "metadata": {},
          "execution_count": 270
        },
        {
          "output_type": "display_data",
          "data": {
            "text/plain": [
              "<Figure size 640x480 with 1 Axes>"
            ],
            "image/png": "[encoded data removed]"
          },
          "metadata": {}
        }
      ]
    },
    {
      "cell_type": "code",
      "source": [
        "y1_pred_test1= lr.predict(x1_test)\n",
        "y1_pred_test1.flatten()"
      ],
      "metadata": {
        "colab": {
          "base_uri": "https://localhost:8080/"
        },
        "id": "Od7nait2OAaB",
        "outputId": "90ccc47f-ab09-4415-84a1-f0e6383f684c"
      },
      "execution_count": null,
      "outputs": [
        {
          "output_type": "execute_result",
          "data": {
            "text/plain": [
              "array([21.70764469, 28.30658932, 40.60462251, 17.20836426, 15.40865208,\n",
              "       28.0066373 , 23.20740483, 22.60750078, 16.30850817, 33.40577382,\n",
              "       26.20692512, 28.30658932, 23.80730889, 21.10774063, 25.90697309,\n",
              "       19.00807643, 25.60702106, 43.90409483, 21.10774063, 23.20740483,\n",
              "       25.00711701, 24.40721295, 31.30610961, 27.70668527, 19.30802846,\n",
              "       41.80443062, 19.00807643, 26.20692512, 14.20884397, 30.1063015 ,\n",
              "       26.80682918, 24.40721295, 22.00759672, 24.70716498, 16.90841223,\n",
              "       29.20644541, 40.60462251, 47.8034712 , 19.60798049, 38.80491034,\n",
              "       28.30658932, 34.60558193, 19.30802846, 40.00471845, 18.7081244 ,\n",
              "       26.20692512, 20.8077886 , 34.90553396, 31.90601367, 37.00519816,\n",
              "       38.80491034, 31.00615758, 19.60798049, 24.40721295, 12.40913179,\n",
              "       15.70860411, 27.40673324, 16.00855614, 27.40673324, 26.80682918,\n",
              "       26.50687715, 41.5044786 , 21.40769266, 24.70716498, 42.40433468,\n",
              "       27.40673324, 28.30658932, 24.40721295, 25.90697309, 23.50735686,\n",
              "       18.10822034, 43.30419077, 24.10726092, 20.20788455, 25.00711701,\n",
              "       20.8077886 , 44.50399888, 34.3056299 , 38.80491034, 24.70716498,\n",
              "       25.60702106, 21.10774063, 15.70860411, 23.80730889, 14.508796  ,\n",
              "       22.60750078, 28.90649338, 24.40721295, 30.1063015 , 24.40721295,\n",
              "       25.60702106, 15.70860411, 41.80443062, 21.10774063, 32.50591773,\n",
              "       36.4052941 , 15.70860411, 40.60462251, 15.70860411, 24.70716498,\n",
              "       26.80682918, 28.30658932, 16.00855614, 26.20692512, 18.10822034,\n",
              "       26.80682918, 26.20692512, 31.00615758, 21.40769266, 25.00711701,\n",
              "       19.00807643, 31.90601367, 21.40769266, 31.90601367, 27.70668527,\n",
              "       59.2016483 , 22.90745281, 21.70764469, 24.70716498, 38.20500628,\n",
              "       20.20788455, 21.40769266, 29.50639744, 18.7081244 , 25.90697309,\n",
              "       26.50687715, 28.90649338, 15.40865208, 15.40865208, 34.90553396,\n",
              "       15.40865208, 30.70620556, 18.7081244 , 26.20692512, 28.30658932,\n",
              "       33.40577382, 19.60798049, 21.40769266, 40.60462251, 23.50735686,\n",
              "       26.50687715, 22.00759672, 29.20644541, 20.8077886 , 26.50687715,\n",
              "       17.20836426, 16.90841223, 23.20740483, 25.30706904, 28.0066373 ,\n",
              "       20.8077886 , 15.70860411, 18.10822034, 31.30610961, 25.60702106])"
            ]
          },
          "metadata": {},
          "execution_count": 271
        }
      ]
    },
    {
      "cell_type": "code",
      "source": [
        "import matplotlib.pyplot as plt\n",
        "plt.scatter(x1_test, y1_test)\n",
        "plt.plot(x1_test, y1_pred_test1, color='red')\n",
        "plt.xlabel(\"total_carb\")\n",
        "plt.ylabel(\"total_fat\")"
      ],
      "metadata": {
        "colab": {
          "base_uri": "https://localhost:8080/",
          "height": 468
        },
        "id": "ow0HC1koOJwD",
        "outputId": "fd1bf5f9-dbeb-4f00-d0ed-b0b412bc53f4"
      },
      "execution_count": null,
      "outputs": [
        {
          "output_type": "execute_result",
          "data": {
            "text/plain": [
              "Text(0, 0.5, 'total_fat')"
            ]
          },
          "metadata": {},
          "execution_count": 272
        },
        {
          "output_type": "display_data",
          "data": {
            "text/plain": [
              "<Figure size 640x480 with 1 Axes>"
            ],
            "image/png": "[encoded data removed]"
          },
          "metadata": {}
        }
      ]
    },
    {
      "cell_type": "markdown",
      "source": [
        "***MULTIPLE REGRESSION***"
      ],
      "metadata": {
        "id": "ttdDspLTPIoX"
      }
    },
    {
      "cell_type": "code",
      "source": [
        "df1['restaurant']=df1['restaurant'].astype('category')\n",
        "df1['restaurant']=df1['restaurant'].cat.codes\n",
        "df1['item']=df1['item'].astype('category')\n",
        "df1['item']=df1['item'].cat.codes"
      ],
      "metadata": {
        "id": "7YH-qliJOW3d"
      },
      "execution_count": null,
      "outputs": []
    },
    {
      "cell_type": "code",
      "source": [
        "df1['fiber']=df1['fiber'].fillna(value=4)\n",
        "df1['vit_a']=df1['vit_a'].fillna(value=10)\n",
        "df1['vit_c']=df1['vit_c'].fillna(value=20)\n",
        "df1['calcium']=df1['calcium'].fillna(value=30)\n",
        "df1.dropna(inplace=True)"
      ],
      "metadata": {
        "id": "z5pNOvVtaO0T"
      },
      "execution_count": null,
      "outputs": []
    },
    {
      "cell_type": "code",
      "source": [
        "X3=df1.drop(['calories'],axis=1).values\n",
        "Y3=df1['calories'].values"
      ],
      "metadata": {
        "id": "BpG7Xt9IYCu3"
      },
      "execution_count": null,
      "outputs": []
    },
    {
      "cell_type": "code",
      "source": [
        "print(X3)"
      ],
      "metadata": {
        "colab": {
          "base_uri": "https://localhost:8080/"
        },
        "id": "lv1WPX9OX3zZ",
        "outputId": "0fb2d926-c01a-4b2d-8c8b-8dc6226dd15f"
      },
      "execution_count": null,
      "outputs": [
        {
          "output_type": "stream",
          "name": "stdout",
          "text": [
            "[[  4.  91.  60. ...  20.   1.  12.]\n",
            " [  4. 420. 410. ...  20.   0.  12.]\n",
            " [  4. 242. 600. ...  50.   0.  20.]\n",
            " ...\n",
            " [  7. 259. 380. ...   0.   0.  17.]\n",
            " [  7. 260. 320. ...   0.   0.  17.]\n",
            " [  7. 261. 320. ...   0.   0.  17.]]\n"
          ]
        }
      ]
    },
    {
      "cell_type": "code",
      "source": [
        "print(Y3)"
      ],
      "metadata": {
        "colab": {
          "base_uri": "https://localhost:8080/"
        },
        "id": "Wo4FmPc5YfFP",
        "outputId": "c4f21965-9df9-4385-add4-07d19526a3df"
      },
      "execution_count": null,
      "outputs": [
        {
          "output_type": "stream",
          "name": "stdout",
          "text": [
            "[ 380  840 1130  750  920  540  300  510  430  770  380  620  530  700\n",
            "  250  290  640  580  740  350  380  480  580  520  680  570  530  530\n",
            "  670  560  730  690  630  800  370  480  760 1210 1510 2430  180  270\n",
            "  440  890 1770  640  960 1600  140  270  490  190  320  490  220  350\n",
            "  520  430  310  270  120  230  350  470  500  130  190  260  390  970\n",
            "  490  440   70  110  140  210  430  450  500  450  540  350  860  720\n",
            "  710  640  340  410  380  450  600  870  640  650  740  710  720  800\n",
            " 1280 1120 1130 1220 1120  450  450  450  610  680  430  570  450  280\n",
            "  470  740 1000 1350  380  560  350  610  970 1080 1190  330  440  550\n",
            "  730  100  370  430  410  340  320  500  210  830  320  330  400  450\n",
            "  630  650  690  690  540  650  690  550  540  360  510  640  480  710\n",
            "  740  750  610  300  680  710  840  240  360  600  680  550  710  520\n",
            "  800  620  740  590  600  430  650 1030  730  470  980  290  290  220\n",
            "  210  240  300  240  200   70  430  420  230  720 1550 1000  330  290\n",
            " 1040  730 1100  300  520  450  360  900  580 1220  260  550  990  940\n",
            "  310 1250  730  970 1100  770  900  990  660  760  340  380  590  720\n",
            "  550  690  530  670  560  700  320  450  220  230  830  440  530  410\n",
            "  480  730  290  190  290  950  470  570  580  430  670  470  330  310\n",
            "  300  630  340  410  840  210  530  410  700  760 1000  800  630  540\n",
            "  570  400  630 1030 1260  420  390  380  330  290  350  310  250  550\n",
            " 1050  760  260  470  400  640  540  350  780  580  910  350  500  640\n",
            "  520  280  600  350  380  150  360  280   20  550  320  640  430  860\n",
            "  580 1160  500 1000  180  290  580  330  660  570 1140  570 1140  460\n",
            "  920  370  740  470  940  410  820  550 1100  480  960  320  640  200\n",
            "  320  640  350  700  480  960  380  760  310  620  370  740  420  840\n",
            "  380  760  470  940  390  780  180  280  560  280  560  490  980  150\n",
            "  230  460  390  780  300  150  400  330  110  360  280  150  510  180\n",
            "  220  230  230  310  140  140  310  210  140  200  200  310  110  110\n",
            "   50  760  730  810  740  680  790  820  540  460  510  370  550  440\n",
            "  410  420  390  390  760  780  740  420  380  610  610  630  550  620\n",
            "  630  650  400  710  650  670  540  550  570  410  880  830  820  170\n",
            "  320  160  200  170  200  320  350  340  350  380  320  170  200  250\n",
            "  320  170  200  230  200  250  340  340  370  600  420  440  600  350\n",
            "  340  340  150  140  150  170  490  490  490  490  570  300  270  270\n",
            "  710  760  430  320  260  410  210  420  430  560  580  540  480  190\n",
            "  520  620  380  290  650  540  270  580  470  540  270  440  440  460\n",
            "  180  400  200  390  520  700  780  580  780  720  720]\n"
          ]
        }
      ]
    },
    {
      "cell_type": "code",
      "source": [
        "from sklearn.model_selection import train_test_split\n",
        "X3_train,X3_test ,Y3_train,Y3_test= train_test_split(X3,Y3, test_size=0.3, random_state=0)"
      ],
      "metadata": {
        "id": "elhZwqgnYiP6"
      },
      "execution_count": null,
      "outputs": []
    },
    {
      "cell_type": "code",
      "source": [
        "from sklearn.linear_model import LinearRegression\n",
        "lr = LinearRegression()\n",
        "lr.fit(X3_train, Y3_train)"
      ],
      "metadata": {
        "colab": {
          "base_uri": "https://localhost:8080/",
          "height": 74
        },
        "id": "e97kRtH4Ysor",
        "outputId": "b6b1852e-46ae-46bd-bdce-8e211afad16d"
      },
      "execution_count": null,
      "outputs": [
        {
          "output_type": "execute_result",
          "data": {
            "text/plain": [
              "LinearRegression()"
            ],
            "text/html": [
              "<style>#sk-container-id-19 {color: black;background-color: white;}#sk-container-id-19 pre{padding: 0;}#sk-container-id-19 div.sk-toggleable {background-color: white;}#sk-container-id-19 label.sk-toggleable__label {cursor: pointer;display: block;width: 100%;margin-bottom: 0;padding: 0.3em;box-sizing: border-box;text-align: center;}#sk-container-id-19 label.sk-toggleable__label-arrow:before {content: \"▸\";float: left;margin-right: 0.25em;color: #696969;}#sk-container-id-19 label.sk-toggleable__label-arrow:hover:before {color: black;}#sk-container-id-19 div.sk-estimator:hover label.sk-toggleable__label-arrow:before {color: black;}#sk-container-id-19 div.sk-toggleable__content {max-height: 0;max-width: 0;overflow: hidden;text-align: left;background-color: #f0f8ff;}#sk-container-id-19 div.sk-toggleable__content pre {margin: 0.2em;color: black;border-radius: 0.25em;background-color: #f0f8ff;}#sk-container-id-19 input.sk-toggleable__control:checked~div.sk-toggleable__content {max-height: 200px;max-width: 100%;overflow: auto;}#sk-container-id-19 input.sk-toggleable__control:checked~label.sk-toggleable__label-arrow:before {content: \"▾\";}#sk-container-id-19 div.sk-estimator input.sk-toggleable__control:checked~label.sk-toggleable__label {background-color: #d4ebff;}#sk-container-id-19 div.sk-label input.sk-toggleable__control:checked~label.sk-toggleable__label {background-color: #d4ebff;}#sk-container-id-19 input.sk-hidden--visually {border: 0;clip: rect(1px 1px 1px 1px);clip: rect(1px, 1px, 1px, 1px);height: 1px;margin: -1px;overflow: hidden;padding: 0;position: absolute;width: 1px;}#sk-container-id-19 div.sk-estimator {font-family: monospace;background-color: #f0f8ff;border: 1px dotted black;border-radius: 0.25em;box-sizing: border-box;margin-bottom: 0.5em;}#sk-container-id-19 div.sk-estimator:hover {background-color: #d4ebff;}#sk-container-id-19 div.sk-parallel-item::after {content: \"\";width: 100%;border-bottom: 1px solid gray;flex-grow: 1;}#sk-container-id-19 div.sk-label:hover label.sk-toggleable__label {background-color: #d4ebff;}#sk-container-id-19 div.sk-serial::before {content: \"\";position: absolute;border-left: 1px solid gray;box-sizing: border-box;top: 0;bottom: 0;left: 50%;z-index: 0;}#sk-container-id-19 div.sk-serial {display: flex;flex-direction: column;align-items: center;background-color: white;padding-right: 0.2em;padding-left: 0.2em;position: relative;}#sk-container-id-19 div.sk-item {position: relative;z-index: 1;}#sk-container-id-19 div.sk-parallel {display: flex;align-items: stretch;justify-content: center;background-color: white;position: relative;}#sk-container-id-19 div.sk-item::before, #sk-container-id-19 div.sk-parallel-item::before {content: \"\";position: absolute;border-left: 1px solid gray;box-sizing: border-box;top: 0;bottom: 0;left: 50%;z-index: -1;}#sk-container-id-19 div.sk-parallel-item {display: flex;flex-direction: column;z-index: 1;position: relative;background-color: white;}#sk-container-id-19 div.sk-parallel-item:first-child::after {align-self: flex-end;width: 50%;}#sk-container-id-19 div.sk-parallel-item:last-child::after {align-self: flex-start;width: 50%;}#sk-container-id-19 div.sk-parallel-item:only-child::after {width: 0;}#sk-container-id-19 div.sk-dashed-wrapped {border: 1px dashed gray;margin: 0 0.4em 0.5em 0.4em;box-sizing: border-box;padding-bottom: 0.4em;background-color: white;}#sk-container-id-19 div.sk-label label {font-family: monospace;font-weight: bold;display: inline-block;line-height: 1.2em;}#sk-container-id-19 div.sk-label-container {text-align: center;}#sk-container-id-19 div.sk-container {/* jupyter's `normalize.less` sets `[hidden] { display: none; }` but bootstrap.min.css set `[hidden] { display: none !important; }` so we also need the `!important` here to be able to override the default hidden behavior on the sphinx rendered scikit-learn.org. See: https://github.com/scikit-learn/scikit-learn/issues/21755 */display: inline-block !important;position: relative;}#sk-container-id-19 div.sk-text-repr-fallback {display: none;}</style><div id=\"sk-container-id-19\" class=\"sk-top-container\"><div class=\"sk-text-repr-fallback\"><pre>LinearRegression()</pre><b>In a Jupyter environment, please rerun this cell to show the HTML representation or trust the notebook. <br />On GitHub, the HTML representation is unable to render, please try loading this page with nbviewer.org.</b></div><div class=\"sk-container\" hidden><div class=\"sk-item\"><div class=\"sk-estimator sk-toggleable\"><input class=\"sk-toggleable__control sk-hidden--visually\" id=\"sk-estimator-id-19\" type=\"checkbox\" checked><label for=\"sk-estimator-id-19\" class=\"sk-toggleable__label sk-toggleable__label-arrow\">LinearRegression</label><div class=\"sk-toggleable__content\"><pre>LinearRegression()</pre></div></div></div></div></div>"
            ]
          },
          "metadata": {},
          "execution_count": 433
        }
      ]
    },
    {
      "cell_type": "code",
      "source": [
        "Y3_pred_train=lr.predict(X3_train)"
      ],
      "metadata": {
        "id": "hdp1EkjCePKT"
      },
      "execution_count": null,
      "outputs": []
    },
    {
      "cell_type": "code",
      "source": [
        "Y3_pred=lr.predict(X3_test)\n",
        "print(Y3_pred)"
      ],
      "metadata": {
        "colab": {
          "base_uri": "https://localhost:8080/"
        },
        "id": "ZKqmQRNKYz1L",
        "outputId": "3f536ef2-1943-4797-9f35-671ffc26c0cb"
      },
      "execution_count": null,
      "outputs": [
        {
          "output_type": "stream",
          "name": "stdout",
          "text": [
            "[ 381.76599461 1104.78597637 1207.02094587  960.77820315  327.39271823\n",
            "  596.71926889  489.71121077  270.2903603   343.10609201  229.95864706\n",
            "  329.41785307  697.81840906  474.10236155  325.56638457  194.56894984\n",
            "  465.2245776   697.27672014  241.695828    318.27292104  650.35700063\n",
            "  442.06459061  418.86846121  391.64223087  416.85648967  465.09912162\n",
            " 1002.43866308  975.53424661  359.3359087   722.80536333 1143.69945445\n",
            "  623.32710083  326.08498009  301.93075566  962.45269074  218.39792402\n",
            "   18.45259874 1036.89479026  783.75588415  365.38200226  675.72587868\n",
            "  337.56705385  770.79917346  414.74099545  702.77060015  763.81174029\n",
            "  395.27685797  228.02192575  347.45938766  330.14806525  827.97331566\n",
            "  803.76758827  243.97739049  423.14451639  547.27526723  951.40135771\n",
            "  755.02860042  512.49059579  703.6602224   424.14161023  527.34542461\n",
            "  532.41829576  539.89153053  431.88690256  554.68509876 1088.37699397\n",
            "  273.21121611  416.89045228  367.36661799  584.97506276  543.6466549\n",
            "  361.95112491  621.05429058  446.04991711  690.98830336  458.78889964\n",
            "  137.26228662  386.59965547  769.47912958  387.03183574  526.80001141\n",
            " 1137.33497718  293.05781584  768.00755961  484.47325966  730.61367937\n",
            "  768.29152982  425.49685175  328.27798647  629.09513999  482.22838648\n",
            "  169.69270727  643.67611647  631.30944164  220.95623894  687.97411704\n",
            "  753.74751685  384.42309278  797.34331816  515.47143269  137.99897357\n",
            "  506.10644931  431.11457409  132.1236443   392.83266318  491.30374999\n",
            "  154.28762146  444.62259501  730.33003993  302.10655691  542.18246489\n",
            "  747.01870139  293.72421791  576.74201831  696.21393022  491.3931715\n",
            "  506.71655912  307.99231549  425.91952457  585.8693105   189.62291264\n",
            "  214.28192425  606.35330419  529.22822704  350.34455775  320.50167117\n",
            "  270.42375401  260.78334689  447.33209949  440.33745063  387.03183574\n",
            "  262.8436662   497.27496132  436.46308673  539.35695094  199.66992416\n",
            "  419.40117126  699.75759407  357.68982591  939.06137252  550.87743387\n",
            "  295.91721399  471.27668857  639.21947456  710.45033807  768.01963021\n",
            "  346.65480362  150.37635702  522.65992845  300.18342937  904.06513891\n",
            "  412.17656364  467.90554154  332.94614778  531.31947635  656.15310384]\n"
          ]
        }
      ]
    },
    {
      "cell_type": "code",
      "source": [
        "from sklearn.metrics import r2_score\n",
        "r2_score(Y2_test, Y2_pred)"
      ],
      "metadata": {
        "colab": {
          "base_uri": "https://localhost:8080/"
        },
        "id": "NVMVbc52cciF",
        "outputId": "8a9121ad-6a97-4247-a7f5-d782728c2715"
      },
      "execution_count": null,
      "outputs": [
        {
          "output_type": "execute_result",
          "data": {
            "text/plain": [
              "0.7961110382079515"
            ]
          },
          "metadata": {},
          "execution_count": 436
        }
      ]
    },
    {
      "cell_type": "code",
      "source": [
        "plt.scatter(Y3_train, Y3_pred_train,color='mediumspringgreen')\n",
        "plt.xlabel(\"Actual\")\n",
        "plt.ylabel(\"Predicted\")\n",
        "plt.title(\"Actual vs Predicted (Training)\")\n",
        "plt.show()"
      ],
      "metadata": {
        "colab": {
          "base_uri": "https://localhost:8080/",
          "height": 472
        },
        "id": "sDFmFbAccjFU",
        "outputId": "f6444c51-9647-4ea7-9c74-0ae50ef580f6"
      },
      "execution_count": null,
      "outputs": [
        {
          "output_type": "display_data",
          "data": {
            "text/plain": [
              "<Figure size 640x480 with 1 Axes>"
            ],
            "image/png": "[encoded data removed]"
          },
          "metadata": {}
        }
      ]
    },
    {
      "cell_type": "code",
      "source": [
        "plt.scatter(Y3_test, Y3_pred,color='violet')\n",
        "plt.xlabel(\"Actual \")\n",
        "plt.ylabel(\"Predicted\")\n",
        "plt.title(\"Actual vs Predicted (Testing)\")\n",
        "plt.show()"
      ],
      "metadata": {
        "colab": {
          "base_uri": "https://localhost:8080/",
          "height": 472
        },
        "id": "3yppLhGqd0At",
        "outputId": "18e5fd62-1fa3-4ee7-def2-5d6e6b20ef08"
      },
      "execution_count": null,
      "outputs": [
        {
          "output_type": "display_data",
          "data": {
            "text/plain": [
              "<Figure size 640x480 with 1 Axes>"
            ],
            "image/png": "[encoded data removed]"
          },
          "metadata": {}
        }
      ]
    },
    {
      "cell_type": "code",
      "source": [
        "pred_Y3_df1=pd.DataFrame({\"Actual Value\":Y3_test,'Predicted Value':Y3_pred,'Difference':Y3_test-Y3_pred})\n",
        "pred_Y3_df1[0:10]"
      ],
      "metadata": {
        "colab": {
          "base_uri": "https://localhost:8080/",
          "height": 363
        },
        "id": "Zx1NFrgPd8_T",
        "outputId": "7a8700aa-6cbb-4bb1-8a46-2d5f783d420e"
      },
      "execution_count": null,
      "outputs": [
        {
          "output_type": "execute_result",
          "data": {
            "text/plain": [
              "   Actual Value  Predicted Value  Difference\n",
              "0           400       381.765995   18.234005\n",
              "1          1130      1104.785976   25.214024\n",
              "2          1210      1207.020946    2.979054\n",
              "3           960       960.778203   -0.778203\n",
              "4           340       327.392718   12.607282\n",
              "5           600       596.719269    3.280731\n",
              "6           480       489.711211   -9.711211\n",
              "7           290       270.290360   19.709640\n",
              "8           330       343.106092  -13.106092\n",
              "9           230       229.958647    0.041353"
            ],
            "text/html": [
              "\n",
              "  <div id=\"df-668a6fac-aa07-4423-822c-3418b8cf30a3\" class=\"colab-df-container\">\n",
              "    <div>\n",
              "<style scoped>\n",
              "    .dataframe tbody tr th:only-of-type {\n",
              "        vertical-align: middle;\n",
              "    }\n",
              "\n",
              "    .dataframe tbody tr th {\n",
              "        vertical-align: top;\n",
              "    }\n",
              "\n",
              "    .dataframe thead th {\n",
              "        text-align: right;\n",
              "    }\n",
              "</style>\n",
              "<table border=\"1\" class=\"dataframe\">\n",
              "  <thead>\n",
              "    <tr style=\"text-align: right;\">\n",
              "      <th></th>\n",
              "      <th>Actual Value</th>\n",
              "      <th>Predicted Value</th>\n",
              "      <th>Difference</th>\n",
              "    </tr>\n",
              "  </thead>\n",
              "  <tbody>\n",
              "    <tr>\n",
              "      <th>0</th>\n",
              "      <td>400</td>\n",
              "      <td>381.765995</td>\n",
              "      <td>18.234005</td>\n",
              "    </tr>\n",
              "    <tr>\n",
              "      <th>1</th>\n",
              "      <td>1130</td>\n",
              "      <td>1104.785976</td>\n",
              "      <td>25.214024</td>\n",
              "    </tr>\n",
              "    <tr>\n",
              "      <th>2</th>\n",
              "      <td>1210</td>\n",
              "      <td>1207.020946</td>\n",
              "      <td>2.979054</td>\n",
              "    </tr>\n",
              "    <tr>\n",
              "      <th>3</th>\n",
              "      <td>960</td>\n",
              "      <td>960.778203</td>\n",
              "      <td>-0.778203</td>\n",
              "    </tr>\n",
              "    <tr>\n",
              "      <th>4</th>\n",
              "      <td>340</td>\n",
              "      <td>327.392718</td>\n",
              "      <td>12.607282</td>\n",
              "    </tr>\n",
              "    <tr>\n",
              "      <th>5</th>\n",
              "      <td>600</td>\n",
              "      <td>596.719269</td>\n",
              "      <td>3.280731</td>\n",
              "    </tr>\n",
              "    <tr>\n",
              "      <th>6</th>\n",
              "      <td>480</td>\n",
              "      <td>489.711211</td>\n",
              "      <td>-9.711211</td>\n",
              "    </tr>\n",
              "    <tr>\n",
              "      <th>7</th>\n",
              "      <td>290</td>\n",
              "      <td>270.290360</td>\n",
              "      <td>19.709640</td>\n",
              "    </tr>\n",
              "    <tr>\n",
              "      <th>8</th>\n",
              "      <td>330</td>\n",
              "      <td>343.106092</td>\n",
              "      <td>-13.106092</td>\n",
              "    </tr>\n",
              "    <tr>\n",
              "      <th>9</th>\n",
              "      <td>230</td>\n",
              "      <td>229.958647</td>\n",
              "      <td>0.041353</td>\n",
              "    </tr>\n",
              "  </tbody>\n",
              "</table>\n",
              "</div>\n",
              "    <div class=\"colab-df-buttons\">\n",
              "\n",
              "  <div class=\"colab-df-container\">\n",
              "    <button class=\"colab-df-convert\" onclick=\"convertToInteractive('df-668a6fac-aa07-4423-822c-3418b8cf30a3')\"\n",
              "            title=\"Convert this dataframe to an interactive table.\"\n",
              "            style=\"display:none;\">\n",
              "\n",
              "  <svg xmlns=\"http://www.w3.org/2000/svg\" height=\"24px\" viewBox=\"0 -960 960 960\">\n",
              "    <path d=\"M120-120v-720h720v720H120Zm60-500h600v-160H180v160Zm220 220h160v-160H400v160Zm0 220h160v-160H400v160ZM180-400h160v-160H180v160Zm440 0h160v-160H620v160ZM180-180h160v-160H180v160Zm440 0h160v-160H620v160Z\"/>\n",
              "  </svg>\n",
              "    </button>\n",
              "\n",
              "  <style>\n",
              "    .colab-df-container {\n",
              "      display:flex;\n",
              "      gap: 12px;\n",
              "    }\n",
              "\n",
              "    .colab-df-convert {\n",
              "      background-color: #E8F0FE;\n",
              "      border: none;\n",
              "      border-radius: 50%;\n",
              "      cursor: pointer;\n",
              "      display: none;\n",
              "      fill: #1967D2;\n",
              "      height: 32px;\n",
              "      padding: 0 0 0 0;\n",
              "      width: 32px;\n",
              "    }\n",
              "\n",
              "    .colab-df-convert:hover {\n",
              "      background-color: #E2EBFA;\n",
              "      box-shadow: 0px 1px 2px rgba(60, 64, 67, 0.3), 0px 1px 3px 1px rgba(60, 64, 67, 0.15);\n",
              "      fill: #174EA6;\n",
              "    }\n",
              "\n",
              "    .colab-df-buttons div {\n",
              "      margin-bottom: 4px;\n",
              "    }\n",
              "\n",
              "    [theme=dark] .colab-df-convert {\n",
              "      background-color: #3B4455;\n",
              "      fill: #D2E3FC;\n",
              "    }\n",
              "\n",
              "    [theme=dark] .colab-df-convert:hover {\n",
              "      background-color: #434B5C;\n",
              "      box-shadow: 0px 1px 3px 1px rgba(0, 0, 0, 0.15);\n",
              "      filter: drop-shadow(0px 1px 2px rgba(0, 0, 0, 0.3));\n",
              "      fill: #FFFFFF;\n",
              "    }\n",
              "  </style>\n",
              "\n",
              "    <script>\n",
              "      const buttonEl =\n",
              "        document.querySelector('#df-668a6fac-aa07-4423-822c-3418b8cf30a3 button.colab-df-convert');\n",
              "      buttonEl.style.display =\n",
              "        google.colab.kernel.accessAllowed ? 'block' : 'none';\n",
              "\n",
              "      async function convertToInteractive(key) {\n",
              "        const element = document.querySelector('#df-668a6fac-aa07-4423-822c-3418b8cf30a3');\n",
              "        const dataTable =\n",
              "          await google.colab.kernel.invokeFunction('convertToInteractive',\n",
              "                                                    [key], {});\n",
              "        if (!dataTable) return;\n",
              "\n",
              "        const docLinkHtml = 'Like what you see? Visit the ' +\n",
              "          '<a target=\"_blank\" href=https://colab.research.google.com/notebooks/data_table.ipynb>data table notebook</a>'\n",
              "          + ' to learn more about interactive tables.';\n",
              "        element.innerHTML = '';\n",
              "        dataTable['output_type'] = 'display_data';\n",
              "        await google.colab.output.renderOutput(dataTable, element);\n",
              "        const docLink = document.createElement('div');\n",
              "        docLink.innerHTML = docLinkHtml;\n",
              "        element.appendChild(docLink);\n",
              "      }\n",
              "    </script>\n",
              "  </div>\n",
              "\n",
              "\n",
              "<div id=\"df-a18d6ad4-acbc-4407-8f8a-4b30d38a68b1\">\n",
              "  <button class=\"colab-df-quickchart\" onclick=\"quickchart('df-a18d6ad4-acbc-4407-8f8a-4b30d38a68b1')\"\n",
              "            title=\"Suggest charts.\"\n",
              "            style=\"display:none;\">\n",
              "\n",
              "<svg xmlns=\"http://www.w3.org/2000/svg\" height=\"24px\"viewBox=\"0 0 24 24\"\n",
              "     width=\"24px\">\n",
              "    <g>\n",
              "        <path d=\"M19 3H5c-1.1 0-2 .9-2 2v14c0 1.1.9 2 2 2h14c1.1 0 2-.9 2-2V5c0-1.1-.9-2-2-2zM9 17H7v-7h2v7zm4 0h-2V7h2v10zm4 0h-2v-4h2v4z\"/>\n",
              "    </g>\n",
              "</svg>\n",
              "  </button>\n",
              "\n",
              "<style>\n",
              "  .colab-df-quickchart {\n",
              "      --bg-color: #E8F0FE;\n",
              "      --fill-color: #1967D2;\n",
              "      --hover-bg-color: #E2EBFA;\n",
              "      --hover-fill-color: #174EA6;\n",
              "      --disabled-fill-color: #AAA;\n",
              "      --disabled-bg-color: #DDD;\n",
              "  }\n",
              "\n",
              "  [theme=dark] .colab-df-quickchart {\n",
              "      --bg-color: #3B4455;\n",
              "      --fill-color: #D2E3FC;\n",
              "      --hover-bg-color: #434B5C;\n",
              "      --hover-fill-color: #FFFFFF;\n",
              "      --disabled-bg-color: #3B4455;\n",
              "      --disabled-fill-color: #666;\n",
              "  }\n",
              "\n",
              "  .colab-df-quickchart {\n",
              "    background-color: var(--bg-color);\n",
              "    border: none;\n",
              "    border-radius: 50%;\n",
              "    cursor: pointer;\n",
              "    display: none;\n",
              "    fill: var(--fill-color);\n",
              "    height: 32px;\n",
              "    padding: 0;\n",
              "    width: 32px;\n",
              "  }\n",
              "\n",
              "  .colab-df-quickchart:hover {\n",
              "    background-color: var(--hover-bg-color);\n",
              "    box-shadow: 0 1px 2px rgba(60, 64, 67, 0.3), 0 1px 3px 1px rgba(60, 64, 67, 0.15);\n",
              "    fill: var(--button-hover-fill-color);\n",
              "  }\n",
              "\n",
              "  .colab-df-quickchart-complete:disabled,\n",
              "  .colab-df-quickchart-complete:disabled:hover {\n",
              "    background-color: var(--disabled-bg-color);\n",
              "    fill: var(--disabled-fill-color);\n",
              "    box-shadow: none;\n",
              "  }\n",
              "\n",
              "  .colab-df-spinner {\n",
              "    border: 2px solid var(--fill-color);\n",
              "    border-color: transparent;\n",
              "    border-bottom-color: var(--fill-color);\n",
              "    animation:\n",
              "      spin 1s steps(1) infinite;\n",
              "  }\n",
              "\n",
              "  @keyframes spin {\n",
              "    0% {\n",
              "      border-color: transparent;\n",
              "      border-bottom-color: var(--fill-color);\n",
              "      border-left-color: var(--fill-color);\n",
              "    }\n",
              "    20% {\n",
              "      border-color: transparent;\n",
              "      border-left-color: var(--fill-color);\n",
              "      border-top-color: var(--fill-color);\n",
              "    }\n",
              "    30% {\n",
              "      border-color: transparent;\n",
              "      border-left-color: var(--fill-color);\n",
              "      border-top-color: var(--fill-color);\n",
              "      border-right-color: var(--fill-color);\n",
              "    }\n",
              "    40% {\n",
              "      border-color: transparent;\n",
              "      border-right-color: var(--fill-color);\n",
              "      border-top-color: var(--fill-color);\n",
              "    }\n",
              "    60% {\n",
              "      border-color: transparent;\n",
              "      border-right-color: var(--fill-color);\n",
              "    }\n",
              "    80% {\n",
              "      border-color: transparent;\n",
              "      border-right-color: var(--fill-color);\n",
              "      border-bottom-color: var(--fill-color);\n",
              "    }\n",
              "    90% {\n",
              "      border-color: transparent;\n",
              "      border-bottom-color: var(--fill-color);\n",
              "    }\n",
              "  }\n",
              "</style>\n",
              "\n",
              "  <script>\n",
              "    async function quickchart(key) {\n",
              "      const quickchartButtonEl =\n",
              "        document.querySelector('#' + key + ' button');\n",
              "      quickchartButtonEl.disabled = true;  // To prevent multiple clicks.\n",
              "      quickchartButtonEl.classList.add('colab-df-spinner');\n",
              "      try {\n",
              "        const charts = await google.colab.kernel.invokeFunction(\n",
              "            'suggestCharts', [key], {});\n",
              "      } catch (error) {\n",
              "        console.error('Error during call to suggestCharts:', error);\n",
              "      }\n",
              "      quickchartButtonEl.classList.remove('colab-df-spinner');\n",
              "      quickchartButtonEl.classList.add('colab-df-quickchart-complete');\n",
              "    }\n",
              "    (() => {\n",
              "      let quickchartButtonEl =\n",
              "        document.querySelector('#df-a18d6ad4-acbc-4407-8f8a-4b30d38a68b1 button');\n",
              "      quickchartButtonEl.style.display =\n",
              "        google.colab.kernel.accessAllowed ? 'block' : 'none';\n",
              "    })();\n",
              "  </script>\n",
              "</div>\n",
              "    </div>\n",
              "  </div>\n"
            ]
          },
          "metadata": {},
          "execution_count": 439
        }
      ]
    },
    {
      "cell_type": "markdown",
      "source": [
        "***LOGISTIC REGRESSION***"
      ],
      "metadata": {
        "id": "MmfMTd1ZfMHp"
      }
    },
    {
      "cell_type": "code",
      "source": [
        "x4=df1.drop(columns='Healthy')\n",
        "y4=df1['Healthy']"
      ],
      "metadata": {
        "id": "mP8sKMkYeVJv"
      },
      "execution_count": null,
      "outputs": []
    },
    {
      "cell_type": "code",
      "source": [
        "from sklearn.model_selection import train_test_split\n",
        "x4_train, x4_test, y4_train, y4_test=train_test_split(x4, y4, test_size=0.3, random_state=21)"
      ],
      "metadata": {
        "id": "02LM6A8hnrwQ"
      },
      "execution_count": null,
      "outputs": []
    },
    {
      "cell_type": "code",
      "source": [
        "from sklearn.preprocessing import StandardScaler\n",
        "scaler=StandardScaler()"
      ],
      "metadata": {
        "id": "q54Zcumznzng"
      },
      "execution_count": null,
      "outputs": []
    },
    {
      "cell_type": "code",
      "source": [
        "x4_train_=scaler.fit_transform(x4_train)\n",
        "x4_test_=scaler.transform(x4_test)"
      ],
      "metadata": {
        "id": "U0XpnAAbn91t"
      },
      "execution_count": null,
      "outputs": []
    },
    {
      "cell_type": "code",
      "source": [
        "from sklearn.linear_model import LogisticRegression\n",
        "lr=LogisticRegression(random_state=0).fit(x4_train_, y4_train)\n",
        "print(\"Predicted values of health TRAINING: \\n\", lr.predict(x4_train_))\n",
        "\n",
        "print(\"Predicted values of health TESTING: \\n\", lr.predict(x4_test_))\n"
      ],
      "metadata": {
        "colab": {
          "base_uri": "https://localhost:8080/"
        },
        "id": "GqiSeAeDoKfF",
        "outputId": "cab885d1-7dd8-414f-9809-b9d95e88eec1"
      },
      "execution_count": null,
      "outputs": [
        {
          "output_type": "stream",
          "name": "stdout",
          "text": [
            "Predicted values of health TRAINING: \n",
            " [0 0 1 0 0 1 1 0 0 0 0 1 1 1 0 0 0 0 0 1 0 1 0 0 1 1 0 0 1 0 1 0 1 1 1 0 0\n",
            " 1 1 0 0 0 1 0 0 1 1 0 0 0 0 1 0 0 1 1 1 1 1 0 1 1 1 0 0 1 1 1 0 0 1 0 0 0\n",
            " 1 0 0 0 1 0 0 0 0 1 0 0 0 0 0 0 1 0 1 0 1 0 1 1 0 1 1 1 0 0 1 0 1 1 0 1 0\n",
            " 1 0 1 0 0 0 0 0 0 1 1 1 0 0 1 1 1 0 1 0 1 0 0 0 0 1 0 1 0 1 1 0 1 1 1 0 1\n",
            " 1 0 0 1 1 1 0 0 1 0 1 0 0 1 0 0 1 0 1 1 1 0 0 1 1 0 0 0 1 0 0 1 0 1 1 1 0\n",
            " 0 1 1 1 0 0 1 0 1 0 1 1 1 0 1 1 1 1 1 1 1 0 1 0 0 1 0 1 0 1 1 0 1 0 0 0 1\n",
            " 0 1 0 1 1 0 1 0 1 1 1 1 1 1 1 1 1 1 1 0 0 1 1 1 1 0 1 0 1 0 0 0 0 1 1 1 1\n",
            " 1 1 0 1 0 1 0 0 0 0 1 1 0 0 0 0 0 0 1 1 1 0 1 0 0 1 0 1 1 0 0 1 0 1 0 1 1\n",
            " 1 0 0 1 1 1 0 1 1 0 1 1 0 1 1 0 1 1 0 0 0 0 1 0 0 0 0 0 1 0 1 1 0 0 0 1 0\n",
            " 1 0 1 0 1 1 0 1 0 0 1 1 0 0 0 1 1 0 1 1 0 0 0 0 1 1 0]\n",
            "Predicted values of health TESTING: \n",
            " [0 0 0 0 0 1 1 0 1 1 0 1 1 1 1 1 1 1 0 0 1 0 1 1 1 1 1 0 1 1 1 1 0 0 1 1 1\n",
            " 1 1 0 0 0 0 0 0 1 1 0 0 1 0 1 1 0 0 0 1 1 1 0 0 1 1 1 1 0 0 1 1 1 1 1 1 1\n",
            " 1 0 0 0 0 1 0 1 0 0 1 1 0 0 1 1 0 1 1 0 1 0 0 1 1 0 1 0 1 1 1 0 1 1 1 0 0\n",
            " 0 1 0 0 0 1 1 1 0 0 1 0 1 1 0 1 1 0 1 0 0 0 0 1 0 1 1 0 1 0 0 1 0 1 0 0 1\n",
            " 0 1 0 0 0 0 0]\n"
          ]
        }
      ]
    },
    {
      "cell_type": "code",
      "source": [
        "lr.score(x4_train_, y4_train)"
      ],
      "metadata": {
        "colab": {
          "base_uri": "https://localhost:8080/"
        },
        "id": "6hMS77oBxrk5",
        "outputId": "d22120f6-8b0e-4223-a1b9-26776583a097"
      },
      "execution_count": null,
      "outputs": [
        {
          "output_type": "execute_result",
          "data": {
            "text/plain": [
              "0.95"
            ]
          },
          "metadata": {},
          "execution_count": 460
        }
      ]
    },
    {
      "cell_type": "code",
      "source": [
        "lr.score(x4_test_, y4_test)"
      ],
      "metadata": {
        "colab": {
          "base_uri": "https://localhost:8080/"
        },
        "id": "LcPH-QJTxkv-",
        "outputId": "1e3b5cad-586a-4dac-8632-43ba6b06be96"
      },
      "execution_count": null,
      "outputs": [
        {
          "output_type": "execute_result",
          "data": {
            "text/plain": [
              "0.9419354838709677"
            ]
          },
          "metadata": {},
          "execution_count": 461
        }
      ]
    },
    {
      "cell_type": "code",
      "source": [
        "lr1=LogisticRegression(random_state=0, C=1, fit_intercept=True).fit(x4_train_, y4_train)\n",
        "print(\"Predicted values of health TRAINING: \\n\", lr1.predict(x4_train_))\n",
        "\n",
        "print(\"Predicted values of health TESTING: \\n\", lr1.predict(x4_test_))"
      ],
      "metadata": {
        "colab": {
          "base_uri": "https://localhost:8080/"
        },
        "id": "6FgU0HFSpZU_",
        "outputId": "9bbeffcf-4183-4e08-d2f5-4806610b0628"
      },
      "execution_count": null,
      "outputs": [
        {
          "output_type": "stream",
          "name": "stdout",
          "text": [
            "Predicted values of health TRAINING: \n",
            " [0 0 1 0 0 1 1 0 0 0 0 1 1 1 0 0 0 0 0 1 0 1 0 0 1 1 0 0 1 0 1 0 1 1 1 0 0\n",
            " 1 1 0 0 0 1 0 0 1 1 0 0 0 0 1 0 0 1 1 1 1 1 0 1 1 1 0 0 1 1 1 0 0 1 0 0 0\n",
            " 1 0 0 0 1 0 0 0 0 1 0 0 0 0 0 0 1 0 1 0 1 0 1 1 0 1 1 1 0 0 1 0 1 1 0 1 0\n",
            " 1 0 1 0 0 0 0 0 0 1 1 1 0 0 1 1 1 0 1 0 1 0 0 0 0 1 0 1 0 1 1 0 1 1 1 0 1\n",
            " 1 0 0 1 1 1 0 0 1 0 1 0 0 1 0 0 1 0 1 1 1 0 0 1 1 0 0 0 1 0 0 1 0 1 1 1 0\n",
            " 0 1 1 1 0 0 1 0 1 0 1 1 1 0 1 1 1 1 1 1 1 0 1 0 0 1 0 1 0 1 1 0 1 0 0 0 1\n",
            " 0 1 0 1 1 0 1 0 1 1 1 1 1 1 1 1 1 1 1 0 0 1 1 1 1 0 1 0 1 0 0 0 0 1 1 1 1\n",
            " 1 1 0 1 0 1 0 0 0 0 1 1 0 0 0 0 0 0 1 1 1 0 1 0 0 1 0 1 1 0 0 1 0 1 0 1 1\n",
            " 1 0 0 1 1 1 0 1 1 0 1 1 0 1 1 0 1 1 0 0 0 0 1 0 0 0 0 0 1 0 1 1 0 0 0 1 0\n",
            " 1 0 1 0 1 1 0 1 0 0 1 1 0 0 0 1 1 0 1 1 0 0 0 0 1 1 0]\n",
            "Predicted values of health TESTING: \n",
            " [0 0 0 0 0 1 1 0 1 1 0 1 1 1 1 1 1 1 0 0 1 0 1 1 1 1 1 0 1 1 1 1 0 0 1 1 1\n",
            " 1 1 0 0 0 0 0 0 1 1 0 0 1 0 1 1 0 0 0 1 1 1 0 0 1 1 1 1 0 0 1 1 1 1 1 1 1\n",
            " 1 0 0 0 0 1 0 1 0 0 1 1 0 0 1 1 0 1 1 0 1 0 0 1 1 0 1 0 1 1 1 0 1 1 1 0 0\n",
            " 0 1 0 0 0 1 1 1 0 0 1 0 1 1 0 1 1 0 1 0 0 0 0 1 0 1 1 0 1 0 0 1 0 1 0 0 1\n",
            " 0 1 0 0 0 0 0]\n"
          ]
        }
      ]
    },
    {
      "cell_type": "code",
      "source": [
        "lr1.score(x4_train_, y4_train)"
      ],
      "metadata": {
        "colab": {
          "base_uri": "https://localhost:8080/"
        },
        "id": "8BNfRwi6yRxE",
        "outputId": "ca6527a6-3331-4f85-a3c4-9fbb5fd7b37e"
      },
      "execution_count": null,
      "outputs": [
        {
          "output_type": "execute_result",
          "data": {
            "text/plain": [
              "0.95"
            ]
          },
          "metadata": {},
          "execution_count": 462
        }
      ]
    },
    {
      "cell_type": "code",
      "source": [
        "lr1.score(x4_test_, y4_test)"
      ],
      "metadata": {
        "colab": {
          "base_uri": "https://localhost:8080/"
        },
        "id": "O1ekEO1NySas",
        "outputId": "aba3a566-9abe-491a-dbec-b098a6b4d35f"
      },
      "execution_count": null,
      "outputs": [
        {
          "output_type": "execute_result",
          "data": {
            "text/plain": [
              "0.9419354838709677"
            ]
          },
          "metadata": {},
          "execution_count": 464
        }
      ]
    }
  ]
}