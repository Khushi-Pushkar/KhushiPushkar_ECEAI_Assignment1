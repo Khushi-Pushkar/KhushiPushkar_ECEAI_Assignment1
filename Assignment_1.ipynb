{
  "nbformat": 4,
  "nbformat_minor": 0,
  "metadata": {
    "colab": {
      "provenance": [],
      "mount_file_id": "1Z-GfFZQ9-OIgk-D4rlKWE49xWkNbG-8o",
      "authorship_tag": "ABX9TyMVEMD4PGV479098sHT68TR",
      "include_colab_link": true
    },
    "kernelspec": {
      "name": "python3",
      "display_name": "Python 3"
    },
    "language_info": {
      "name": "python"
    }
  },
  "cells": [
    {
      "cell_type": "markdown",
      "metadata": {
        "id": "view-in-github",
        "colab_type": "text"
      },
      "source": [
        "<a href=\"https://colab.research.google.com/github/Khushi-Pushkar/KhushiPushkar_ECEAI_Assignment1/blob/main/Assignment_1.ipynb\" target=\"_parent\"><img src=\"https://colab.research.google.com/assets/colab-badge.svg\" alt=\"Open In Colab\"/></a>"
      ]
    },
    {
      "cell_type": "markdown",
      "source": [
        "\n",
        "# EDA\n",
        "**Hi everyone, This is your first assignment for week 1... So in this assignment you have to perform EDA on the below dataset. The problem statements are given below. Just write a code for them...**"
      ],
      "metadata": {
        "id": "LyeNVE6VBhd8"
      }
    },
    {
      "cell_type": "code",
      "execution_count": 66,
      "metadata": {
        "id": "DN1-AX-pydTv"
      },
      "outputs": [],
      "source": [
        "import pandas as pd\n",
        "import matplotlib.pyplot as plt\n",
        "import seaborn as sns\n",
        "import numpy as np\n",
        "import warnings\n",
        "warnings.filterwarnings('ignore')"
      ]
    },
    {
      "cell_type": "code",
      "execution_count": 67,
      "metadata": {
        "id": "MC89QfHwiMFp"
      },
      "outputs": [],
      "source": [
        "path=\"/content/drive/MyDrive/KhushiPushkar.Ece-ai/TABLE.zip\""
      ]
    },
    {
      "cell_type": "code",
      "source": [
        "data=pd.read_csv(path)"
      ],
      "metadata": {
        "id": "wY9O7fD6ymbn"
      },
      "execution_count": 68,
      "outputs": []
    },
    {
      "cell_type": "code",
      "source": [
        "df=pd.DataFrame(data)"
      ],
      "metadata": {
        "id": "a3f1_s_LzPTS"
      },
      "execution_count": 69,
      "outputs": []
    },
    {
      "cell_type": "code",
      "source": [
        "df"
      ],
      "metadata": {
        "colab": {
          "base_uri": "https://localhost:8080/",
          "height": 1000
        },
        "id": "WoqJG_wGMIjJ",
        "outputId": "a5be435d-8057-44f6-d024-a3ac923ab448"
      },
      "execution_count": 70,
      "outputs": [
        {
          "output_type": "execute_result",
          "data": {
            "text/plain": [
              "             Restaurant_Name  \\\n",
              "0                   Rustom's   \n",
              "1                  Cafe Lota   \n",
              "2     Dum-Pukht - ITC Maurya   \n",
              "3                Burma Burma   \n",
              "4              The Big Chill   \n",
              "...                      ...   \n",
              "1960          Bablu Chic-Inn   \n",
              "1961               Kovilakam   \n",
              "1962        Krips Restaurant   \n",
              "1963                Cafe 147   \n",
              "1964                Pizzasia   \n",
              "\n",
              "                                               Category  Pricing_for_2  \\\n",
              "0     Parsi, Street Food, North Indian, Desserts, Be...           2100   \n",
              "1           Cafe, South Indian, North Indian, Beverages           1200   \n",
              "2                       Mughlai, North Indian, Desserts           5000   \n",
              "3           Asian, Burmese, Bubble Tea, Desserts, Salad           1600   \n",
              "4                        Continental, American, Italian           1500   \n",
              "...                                                 ...            ...   \n",
              "1960          Mughlai, North Indian, Chinese, Fast Food            500   \n",
              "1961                                       South Indian            350   \n",
              "1962                     North Indian, Chinese, Mughlai            900   \n",
              "1963  Cafe, North Indian, Chinese, Kashmiri, Rolls, ...            800   \n",
              "1964                        Pizza, Fast Food, Beverages            500   \n",
              "\n",
              "                                         Locality  Dining_Rating  \\\n",
              "0                                  ITO, New Delhi            4.9   \n",
              "1                       Pragati Maidan, New Delhi            4.9   \n",
              "2             ITC Maurya, Chanakyapuri, New Delhi            4.9   \n",
              "3              Cyber Hub, DLF Cyber City, Gurgaon            4.9   \n",
              "4                          Khan Market, New Delhi            4.9   \n",
              "...                                           ...            ...   \n",
              "1960               Ashok Vihar Phase 3, New Delhi            3.9   \n",
              "1961                    Dilshad Garden, New Delhi            3.9   \n",
              "1962   Basant Lok Market, Vasant Vihar, New Delhi            3.9   \n",
              "1963                      Sainik Farms, New Delhi            3.9   \n",
              "1964                   Gaur City 2, Greater Noida            3.9   \n",
              "\n",
              "      Dining_Review_Count  Delivery_Rating  Delivery_Rating_Count  \\\n",
              "0                    1885              4.4                   1844   \n",
              "1                    3748              3.9                     37   \n",
              "2                    1371              NaN                      0   \n",
              "3                    2636              4.4                   1238   \n",
              "4                    6487              NaN                      0   \n",
              "...                   ...              ...                    ...   \n",
              "1960                  183              4.1                    545   \n",
              "1961                  114              NaN                      1   \n",
              "1962                  316              3.9                   2977   \n",
              "1963                  120              3.8                    196   \n",
              "1964                  165              3.9                   5196   \n",
              "\n",
              "                                                Website  \\\n",
              "0      https://www.zomato.com/ncr/rustoms-ito-new-delhi   \n",
              "1     https://www.zomato.com/ncr/cafe-lota-pragati-m...   \n",
              "2     https://www.zomato.com/ncr/dum-pukht-itc-maury...   \n",
              "3     https://www.zomato.com/ncr/burma-burma-dlf-cyb...   \n",
              "4     https://www.zomato.com/ncr/the-big-chill-khan-...   \n",
              "...                                                 ...   \n",
              "1960  https://www.zomato.com/ncr/bablu-chic-inn-asho...   \n",
              "1961  https://www.zomato.com/ncr/kovilakam-dilshad-g...   \n",
              "1962  https://www.zomato.com/ncr/krips-restaurant-va...   \n",
              "1963  https://www.zomato.com/ncr/cafe-147-sainik-far...   \n",
              "1964  https://www.zomato.com/ncr/pizzasia-gaur-city-...   \n",
              "\n",
              "                                                Address     Phone_No  \\\n",
              "0     Delhi Parsi Anjuman, LNJP Colony, Bahadur Shah...   9.1991E+11   \n",
              "1     National Crafts Museum, Gate 2, Bhairon Marg, ...  9.17839E+11   \n",
              "2                   ITC Maurya, Chanakyapuri, New Delhi  9.11146E+11   \n",
              "3     Shop 6, Ground Floor, Building 8, Tower C, Cyb...  9.11244E+11   \n",
              "4                          68-A, Khan Market, New Delhi  9.11142E+11   \n",
              "...                                                 ...          ...   \n",
              "1960  Shop 9, Pocket B, DDA Market, Ashok Vihar Phas...      9.2E+11   \n",
              "1961  F-1, Lower Ground 2, Mrignaini Chowk, Dilshad ...  9.19654E+11   \n",
              "1962  59, Community Centre, Basant Lok Market, Vasan...  9.11141E+11   \n",
              "1963  Shop A1/7, Ground Floor, Main IGNOU Road, Neb ...  9.19812E+11   \n",
              "1964  Shop 14, Ground Floor, Bhawishya India Tower, ...  9.18861E+11   \n",
              "\n",
              "       Latitude  Longitude                                         Known_For2  \\\n",
              "0     28.638167  77.240472                                                NaN   \n",
              "1     28.613429  77.242471  Pondicherry Fish Curry, Coconut Rabdi, Sabudan...   \n",
              "2     28.598200  77.173661  Royal ambiance and Mughlai cuisine, also recei...   \n",
              "3     28.494464  77.088532  Coconut Milk Dessert, Honey Caviar, Kaffir Lim...   \n",
              "4     28.600350  77.227493  Irish Cream Tiramisu, Penne Vodka, Mississippi...   \n",
              "...         ...        ...                                                ...   \n",
              "1960  28.692473  77.178004  Great Recommendations, Tamper Proof Packaging,...   \n",
              "1961  28.684101  77.326725  Kerala Parotta, Roasted Chicken, Chicken Curry...   \n",
              "1962  28.557310  77.163943  Excellent Food, Good Ambience, Courteous Staff...   \n",
              "1963  28.510338  77.202056  Pool, Live Music, Cafe, Environment, Good Plac...   \n",
              "1964  28.618250  77.427417  Cordial Staff, Great Recommendations, Mouth Wa...   \n",
              "\n",
              "                                            Known_For22  \n",
              "0                                                   NaN  \n",
              "1     Artistic Decor, The Service, Natural Ambience,...  \n",
              "2                                                   NaN  \n",
              "3     Knowledgeable Staff, Authentic, Soothing Ambie...  \n",
              "4     Retro Ambience, Yummy Desserts, Big Portions, ...  \n",
              "...                                                 ...  \n",
              "1960                                                NaN  \n",
              "1961  Lip Smacking Food, Amazing Food, Owner, Good P...  \n",
              "1962                                                NaN  \n",
              "1963                                                NaN  \n",
              "1964                                                NaN  \n",
              "\n",
              "[1965 rows x 15 columns]"
            ],
            "text/html": [
              "\n",
              "  <div id=\"df-a691eb70-0482-4a4c-b9f5-013b8284ad52\" class=\"colab-df-container\">\n",
              "    <div>\n",
              "<style scoped>\n",
              "    .dataframe tbody tr th:only-of-type {\n",
              "        vertical-align: middle;\n",
              "    }\n",
              "\n",
              "    .dataframe tbody tr th {\n",
              "        vertical-align: top;\n",
              "    }\n",
              "\n",
              "    .dataframe thead th {\n",
              "        text-align: right;\n",
              "    }\n",
              "</style>\n",
              "<table border=\"1\" class=\"dataframe\">\n",
              "  <thead>\n",
              "    <tr style=\"text-align: right;\">\n",
              "      <th></th>\n",
              "      <th>Restaurant_Name</th>\n",
              "      <th>Category</th>\n",
              "      <th>Pricing_for_2</th>\n",
              "      <th>Locality</th>\n",
              "      <th>Dining_Rating</th>\n",
              "      <th>Dining_Review_Count</th>\n",
              "      <th>Delivery_Rating</th>\n",
              "      <th>Delivery_Rating_Count</th>\n",
              "      <th>Website</th>\n",
              "      <th>Address</th>\n",
              "      <th>Phone_No</th>\n",
              "      <th>Latitude</th>\n",
              "      <th>Longitude</th>\n",
              "      <th>Known_For2</th>\n",
              "      <th>Known_For22</th>\n",
              "    </tr>\n",
              "  </thead>\n",
              "  <tbody>\n",
              "    <tr>\n",
              "      <th>0</th>\n",
              "      <td>Rustom's</td>\n",
              "      <td>Parsi, Street Food, North Indian, Desserts, Be...</td>\n",
              "      <td>2100</td>\n",
              "      <td>ITO, New Delhi</td>\n",
              "      <td>4.9</td>\n",
              "      <td>1885</td>\n",
              "      <td>4.4</td>\n",
              "      <td>1844</td>\n",
              "      <td>https://www.zomato.com/ncr/rustoms-ito-new-delhi</td>\n",
              "      <td>Delhi Parsi Anjuman, LNJP Colony, Bahadur Shah...</td>\n",
              "      <td>9.1991E+11</td>\n",
              "      <td>28.638167</td>\n",
              "      <td>77.240472</td>\n",
              "      <td>NaN</td>\n",
              "      <td>NaN</td>\n",
              "    </tr>\n",
              "    <tr>\n",
              "      <th>1</th>\n",
              "      <td>Cafe Lota</td>\n",
              "      <td>Cafe, South Indian, North Indian, Beverages</td>\n",
              "      <td>1200</td>\n",
              "      <td>Pragati Maidan, New Delhi</td>\n",
              "      <td>4.9</td>\n",
              "      <td>3748</td>\n",
              "      <td>3.9</td>\n",
              "      <td>37</td>\n",
              "      <td>https://www.zomato.com/ncr/cafe-lota-pragati-m...</td>\n",
              "      <td>National Crafts Museum, Gate 2, Bhairon Marg, ...</td>\n",
              "      <td>9.17839E+11</td>\n",
              "      <td>28.613429</td>\n",
              "      <td>77.242471</td>\n",
              "      <td>Pondicherry Fish Curry, Coconut Rabdi, Sabudan...</td>\n",
              "      <td>Artistic Decor, The Service, Natural Ambience,...</td>\n",
              "    </tr>\n",
              "    <tr>\n",
              "      <th>2</th>\n",
              "      <td>Dum-Pukht - ITC Maurya</td>\n",
              "      <td>Mughlai, North Indian, Desserts</td>\n",
              "      <td>5000</td>\n",
              "      <td>ITC Maurya, Chanakyapuri, New Delhi</td>\n",
              "      <td>4.9</td>\n",
              "      <td>1371</td>\n",
              "      <td>NaN</td>\n",
              "      <td>0</td>\n",
              "      <td>https://www.zomato.com/ncr/dum-pukht-itc-maury...</td>\n",
              "      <td>ITC Maurya, Chanakyapuri, New Delhi</td>\n",
              "      <td>9.11146E+11</td>\n",
              "      <td>28.598200</td>\n",
              "      <td>77.173661</td>\n",
              "      <td>Royal ambiance and Mughlai cuisine, also recei...</td>\n",
              "      <td>NaN</td>\n",
              "    </tr>\n",
              "    <tr>\n",
              "      <th>3</th>\n",
              "      <td>Burma Burma</td>\n",
              "      <td>Asian, Burmese, Bubble Tea, Desserts, Salad</td>\n",
              "      <td>1600</td>\n",
              "      <td>Cyber Hub, DLF Cyber City, Gurgaon</td>\n",
              "      <td>4.9</td>\n",
              "      <td>2636</td>\n",
              "      <td>4.4</td>\n",
              "      <td>1238</td>\n",
              "      <td>https://www.zomato.com/ncr/burma-burma-dlf-cyb...</td>\n",
              "      <td>Shop 6, Ground Floor, Building 8, Tower C, Cyb...</td>\n",
              "      <td>9.11244E+11</td>\n",
              "      <td>28.494464</td>\n",
              "      <td>77.088532</td>\n",
              "      <td>Coconut Milk Dessert, Honey Caviar, Kaffir Lim...</td>\n",
              "      <td>Knowledgeable Staff, Authentic, Soothing Ambie...</td>\n",
              "    </tr>\n",
              "    <tr>\n",
              "      <th>4</th>\n",
              "      <td>The Big Chill</td>\n",
              "      <td>Continental, American, Italian</td>\n",
              "      <td>1500</td>\n",
              "      <td>Khan Market, New Delhi</td>\n",
              "      <td>4.9</td>\n",
              "      <td>6487</td>\n",
              "      <td>NaN</td>\n",
              "      <td>0</td>\n",
              "      <td>https://www.zomato.com/ncr/the-big-chill-khan-...</td>\n",
              "      <td>68-A, Khan Market, New Delhi</td>\n",
              "      <td>9.11142E+11</td>\n",
              "      <td>28.600350</td>\n",
              "      <td>77.227493</td>\n",
              "      <td>Irish Cream Tiramisu, Penne Vodka, Mississippi...</td>\n",
              "      <td>Retro Ambience, Yummy Desserts, Big Portions, ...</td>\n",
              "    </tr>\n",
              "    <tr>\n",
              "      <th>...</th>\n",
              "      <td>...</td>\n",
              "      <td>...</td>\n",
              "      <td>...</td>\n",
              "      <td>...</td>\n",
              "      <td>...</td>\n",
              "      <td>...</td>\n",
              "      <td>...</td>\n",
              "      <td>...</td>\n",
              "      <td>...</td>\n",
              "      <td>...</td>\n",
              "      <td>...</td>\n",
              "      <td>...</td>\n",
              "      <td>...</td>\n",
              "      <td>...</td>\n",
              "      <td>...</td>\n",
              "    </tr>\n",
              "    <tr>\n",
              "      <th>1960</th>\n",
              "      <td>Bablu Chic-Inn</td>\n",
              "      <td>Mughlai, North Indian, Chinese, Fast Food</td>\n",
              "      <td>500</td>\n",
              "      <td>Ashok Vihar Phase 3, New Delhi</td>\n",
              "      <td>3.9</td>\n",
              "      <td>183</td>\n",
              "      <td>4.1</td>\n",
              "      <td>545</td>\n",
              "      <td>https://www.zomato.com/ncr/bablu-chic-inn-asho...</td>\n",
              "      <td>Shop 9, Pocket B, DDA Market, Ashok Vihar Phas...</td>\n",
              "      <td>9.2E+11</td>\n",
              "      <td>28.692473</td>\n",
              "      <td>77.178004</td>\n",
              "      <td>Great Recommendations, Tamper Proof Packaging,...</td>\n",
              "      <td>NaN</td>\n",
              "    </tr>\n",
              "    <tr>\n",
              "      <th>1961</th>\n",
              "      <td>Kovilakam</td>\n",
              "      <td>South Indian</td>\n",
              "      <td>350</td>\n",
              "      <td>Dilshad Garden, New Delhi</td>\n",
              "      <td>3.9</td>\n",
              "      <td>114</td>\n",
              "      <td>NaN</td>\n",
              "      <td>1</td>\n",
              "      <td>https://www.zomato.com/ncr/kovilakam-dilshad-g...</td>\n",
              "      <td>F-1, Lower Ground 2, Mrignaini Chowk, Dilshad ...</td>\n",
              "      <td>9.19654E+11</td>\n",
              "      <td>28.684101</td>\n",
              "      <td>77.326725</td>\n",
              "      <td>Kerala Parotta, Roasted Chicken, Chicken Curry...</td>\n",
              "      <td>Lip Smacking Food, Amazing Food, Owner, Good P...</td>\n",
              "    </tr>\n",
              "    <tr>\n",
              "      <th>1962</th>\n",
              "      <td>Krips Restaurant</td>\n",
              "      <td>North Indian, Chinese, Mughlai</td>\n",
              "      <td>900</td>\n",
              "      <td>Basant Lok Market, Vasant Vihar, New Delhi</td>\n",
              "      <td>3.9</td>\n",
              "      <td>316</td>\n",
              "      <td>3.9</td>\n",
              "      <td>2977</td>\n",
              "      <td>https://www.zomato.com/ncr/krips-restaurant-va...</td>\n",
              "      <td>59, Community Centre, Basant Lok Market, Vasan...</td>\n",
              "      <td>9.11141E+11</td>\n",
              "      <td>28.557310</td>\n",
              "      <td>77.163943</td>\n",
              "      <td>Excellent Food, Good Ambience, Courteous Staff...</td>\n",
              "      <td>NaN</td>\n",
              "    </tr>\n",
              "    <tr>\n",
              "      <th>1963</th>\n",
              "      <td>Cafe 147</td>\n",
              "      <td>Cafe, North Indian, Chinese, Kashmiri, Rolls, ...</td>\n",
              "      <td>800</td>\n",
              "      <td>Sainik Farms, New Delhi</td>\n",
              "      <td>3.9</td>\n",
              "      <td>120</td>\n",
              "      <td>3.8</td>\n",
              "      <td>196</td>\n",
              "      <td>https://www.zomato.com/ncr/cafe-147-sainik-far...</td>\n",
              "      <td>Shop A1/7, Ground Floor, Main IGNOU Road, Neb ...</td>\n",
              "      <td>9.19812E+11</td>\n",
              "      <td>28.510338</td>\n",
              "      <td>77.202056</td>\n",
              "      <td>Pool, Live Music, Cafe, Environment, Good Plac...</td>\n",
              "      <td>NaN</td>\n",
              "    </tr>\n",
              "    <tr>\n",
              "      <th>1964</th>\n",
              "      <td>Pizzasia</td>\n",
              "      <td>Pizza, Fast Food, Beverages</td>\n",
              "      <td>500</td>\n",
              "      <td>Gaur City 2, Greater Noida</td>\n",
              "      <td>3.9</td>\n",
              "      <td>165</td>\n",
              "      <td>3.9</td>\n",
              "      <td>5196</td>\n",
              "      <td>https://www.zomato.com/ncr/pizzasia-gaur-city-...</td>\n",
              "      <td>Shop 14, Ground Floor, Bhawishya India Tower, ...</td>\n",
              "      <td>9.18861E+11</td>\n",
              "      <td>28.618250</td>\n",
              "      <td>77.427417</td>\n",
              "      <td>Cordial Staff, Great Recommendations, Mouth Wa...</td>\n",
              "      <td>NaN</td>\n",
              "    </tr>\n",
              "  </tbody>\n",
              "</table>\n",
              "<p>1965 rows × 15 columns</p>\n",
              "</div>\n",
              "    <div class=\"colab-df-buttons\">\n",
              "\n",
              "  <div class=\"colab-df-container\">\n",
              "    <button class=\"colab-df-convert\" onclick=\"convertToInteractive('df-a691eb70-0482-4a4c-b9f5-013b8284ad52')\"\n",
              "            title=\"Convert this dataframe to an interactive table.\"\n",
              "            style=\"display:none;\">\n",
              "\n",
              "  <svg xmlns=\"http://www.w3.org/2000/svg\" height=\"24px\" viewBox=\"0 -960 960 960\">\n",
              "    <path d=\"M120-120v-720h720v720H120Zm60-500h600v-160H180v160Zm220 220h160v-160H400v160Zm0 220h160v-160H400v160ZM180-400h160v-160H180v160Zm440 0h160v-160H620v160ZM180-180h160v-160H180v160Zm440 0h160v-160H620v160Z\"/>\n",
              "  </svg>\n",
              "    </button>\n",
              "\n",
              "  <style>\n",
              "    .colab-df-container {\n",
              "      display:flex;\n",
              "      gap: 12px;\n",
              "    }\n",
              "\n",
              "    .colab-df-convert {\n",
              "      background-color: #E8F0FE;\n",
              "      border: none;\n",
              "      border-radius: 50%;\n",
              "      cursor: pointer;\n",
              "      display: none;\n",
              "      fill: #1967D2;\n",
              "      height: 32px;\n",
              "      padding: 0 0 0 0;\n",
              "      width: 32px;\n",
              "    }\n",
              "\n",
              "    .colab-df-convert:hover {\n",
              "      background-color: #E2EBFA;\n",
              "      box-shadow: 0px 1px 2px rgba(60, 64, 67, 0.3), 0px 1px 3px 1px rgba(60, 64, 67, 0.15);\n",
              "      fill: #174EA6;\n",
              "    }\n",
              "\n",
              "    .colab-df-buttons div {\n",
              "      margin-bottom: 4px;\n",
              "    }\n",
              "\n",
              "    [theme=dark] .colab-df-convert {\n",
              "      background-color: #3B4455;\n",
              "      fill: #D2E3FC;\n",
              "    }\n",
              "\n",
              "    [theme=dark] .colab-df-convert:hover {\n",
              "      background-color: #434B5C;\n",
              "      box-shadow: 0px 1px 3px 1px rgba(0, 0, 0, 0.15);\n",
              "      filter: drop-shadow(0px 1px 2px rgba(0, 0, 0, 0.3));\n",
              "      fill: #FFFFFF;\n",
              "    }\n",
              "  </style>\n",
              "\n",
              "    <script>\n",
              "      const buttonEl =\n",
              "        document.querySelector('#df-a691eb70-0482-4a4c-b9f5-013b8284ad52 button.colab-df-convert');\n",
              "      buttonEl.style.display =\n",
              "        google.colab.kernel.accessAllowed ? 'block' : 'none';\n",
              "\n",
              "      async function convertToInteractive(key) {\n",
              "        const element = document.querySelector('#df-a691eb70-0482-4a4c-b9f5-013b8284ad52');\n",
              "        const dataTable =\n",
              "          await google.colab.kernel.invokeFunction('convertToInteractive',\n",
              "                                                    [key], {});\n",
              "        if (!dataTable) return;\n",
              "\n",
              "        const docLinkHtml = 'Like what you see? Visit the ' +\n",
              "          '<a target=\"_blank\" href=https://colab.research.google.com/notebooks/data_table.ipynb>data table notebook</a>'\n",
              "          + ' to learn more about interactive tables.';\n",
              "        element.innerHTML = '';\n",
              "        dataTable['output_type'] = 'display_data';\n",
              "        await google.colab.output.renderOutput(dataTable, element);\n",
              "        const docLink = document.createElement('div');\n",
              "        docLink.innerHTML = docLinkHtml;\n",
              "        element.appendChild(docLink);\n",
              "      }\n",
              "    </script>\n",
              "  </div>\n",
              "\n",
              "\n",
              "<div id=\"df-b53f972e-ed68-4f1c-acc0-91bb5b87e47f\">\n",
              "  <button class=\"colab-df-quickchart\" onclick=\"quickchart('df-b53f972e-ed68-4f1c-acc0-91bb5b87e47f')\"\n",
              "            title=\"Suggest charts.\"\n",
              "            style=\"display:none;\">\n",
              "\n",
              "<svg xmlns=\"http://www.w3.org/2000/svg\" height=\"24px\"viewBox=\"0 0 24 24\"\n",
              "     width=\"24px\">\n",
              "    <g>\n",
              "        <path d=\"M19 3H5c-1.1 0-2 .9-2 2v14c0 1.1.9 2 2 2h14c1.1 0 2-.9 2-2V5c0-1.1-.9-2-2-2zM9 17H7v-7h2v7zm4 0h-2V7h2v10zm4 0h-2v-4h2v4z\"/>\n",
              "    </g>\n",
              "</svg>\n",
              "  </button>\n",
              "\n",
              "<style>\n",
              "  .colab-df-quickchart {\n",
              "      --bg-color: #E8F0FE;\n",
              "      --fill-color: #1967D2;\n",
              "      --hover-bg-color: #E2EBFA;\n",
              "      --hover-fill-color: #174EA6;\n",
              "      --disabled-fill-color: #AAA;\n",
              "      --disabled-bg-color: #DDD;\n",
              "  }\n",
              "\n",
              "  [theme=dark] .colab-df-quickchart {\n",
              "      --bg-color: #3B4455;\n",
              "      --fill-color: #D2E3FC;\n",
              "      --hover-bg-color: #434B5C;\n",
              "      --hover-fill-color: #FFFFFF;\n",
              "      --disabled-bg-color: #3B4455;\n",
              "      --disabled-fill-color: #666;\n",
              "  }\n",
              "\n",
              "  .colab-df-quickchart {\n",
              "    background-color: var(--bg-color);\n",
              "    border: none;\n",
              "    border-radius: 50%;\n",
              "    cursor: pointer;\n",
              "    display: none;\n",
              "    fill: var(--fill-color);\n",
              "    height: 32px;\n",
              "    padding: 0;\n",
              "    width: 32px;\n",
              "  }\n",
              "\n",
              "  .colab-df-quickchart:hover {\n",
              "    background-color: var(--hover-bg-color);\n",
              "    box-shadow: 0 1px 2px rgba(60, 64, 67, 0.3), 0 1px 3px 1px rgba(60, 64, 67, 0.15);\n",
              "    fill: var(--button-hover-fill-color);\n",
              "  }\n",
              "\n",
              "  .colab-df-quickchart-complete:disabled,\n",
              "  .colab-df-quickchart-complete:disabled:hover {\n",
              "    background-color: var(--disabled-bg-color);\n",
              "    fill: var(--disabled-fill-color);\n",
              "    box-shadow: none;\n",
              "  }\n",
              "\n",
              "  .colab-df-spinner {\n",
              "    border: 2px solid var(--fill-color);\n",
              "    border-color: transparent;\n",
              "    border-bottom-color: var(--fill-color);\n",
              "    animation:\n",
              "      spin 1s steps(1) infinite;\n",
              "  }\n",
              "\n",
              "  @keyframes spin {\n",
              "    0% {\n",
              "      border-color: transparent;\n",
              "      border-bottom-color: var(--fill-color);\n",
              "      border-left-color: var(--fill-color);\n",
              "    }\n",
              "    20% {\n",
              "      border-color: transparent;\n",
              "      border-left-color: var(--fill-color);\n",
              "      border-top-color: var(--fill-color);\n",
              "    }\n",
              "    30% {\n",
              "      border-color: transparent;\n",
              "      border-left-color: var(--fill-color);\n",
              "      border-top-color: var(--fill-color);\n",
              "      border-right-color: var(--fill-color);\n",
              "    }\n",
              "    40% {\n",
              "      border-color: transparent;\n",
              "      border-right-color: var(--fill-color);\n",
              "      border-top-color: var(--fill-color);\n",
              "    }\n",
              "    60% {\n",
              "      border-color: transparent;\n",
              "      border-right-color: var(--fill-color);\n",
              "    }\n",
              "    80% {\n",
              "      border-color: transparent;\n",
              "      border-right-color: var(--fill-color);\n",
              "      border-bottom-color: var(--fill-color);\n",
              "    }\n",
              "    90% {\n",
              "      border-color: transparent;\n",
              "      border-bottom-color: var(--fill-color);\n",
              "    }\n",
              "  }\n",
              "</style>\n",
              "\n",
              "  <script>\n",
              "    async function quickchart(key) {\n",
              "      const quickchartButtonEl =\n",
              "        document.querySelector('#' + key + ' button');\n",
              "      quickchartButtonEl.disabled = true;  // To prevent multiple clicks.\n",
              "      quickchartButtonEl.classList.add('colab-df-spinner');\n",
              "      try {\n",
              "        const charts = await google.colab.kernel.invokeFunction(\n",
              "            'suggestCharts', [key], {});\n",
              "      } catch (error) {\n",
              "        console.error('Error during call to suggestCharts:', error);\n",
              "      }\n",
              "      quickchartButtonEl.classList.remove('colab-df-spinner');\n",
              "      quickchartButtonEl.classList.add('colab-df-quickchart-complete');\n",
              "    }\n",
              "    (() => {\n",
              "      let quickchartButtonEl =\n",
              "        document.querySelector('#df-b53f972e-ed68-4f1c-acc0-91bb5b87e47f button');\n",
              "      quickchartButtonEl.style.display =\n",
              "        google.colab.kernel.accessAllowed ? 'block' : 'none';\n",
              "    })();\n",
              "  </script>\n",
              "</div>\n",
              "    </div>\n",
              "  </div>\n"
            ]
          },
          "metadata": {},
          "execution_count": 70
        }
      ]
    },
    {
      "cell_type": "markdown",
      "source": [
        "***Ques 1 . Are they any null value in the dataset? If yes then fill them***"
      ],
      "metadata": {
        "id": "YjBu2upw0SFT"
      }
    },
    {
      "cell_type": "code",
      "source": [
        "df.isnull().sum()"
      ],
      "metadata": {
        "colab": {
          "base_uri": "https://localhost:8080/"
        },
        "id": "LGSvbJaIzjr3",
        "outputId": "dee9be5f-e1c7-4962-bd01-90266da267ad"
      },
      "execution_count": 71,
      "outputs": [
        {
          "output_type": "execute_result",
          "data": {
            "text/plain": [
              "Restaurant_Name            0\n",
              "Category                   0\n",
              "Pricing_for_2              0\n",
              "Locality                   0\n",
              "Dining_Rating              0\n",
              "Dining_Review_Count        0\n",
              "Delivery_Rating          402\n",
              "Delivery_Rating_Count      0\n",
              "Website                    0\n",
              "Address                    0\n",
              "Phone_No                   0\n",
              "Latitude                   0\n",
              "Longitude                  0\n",
              "Known_For2               405\n",
              "Known_For22              841\n",
              "dtype: int64"
            ]
          },
          "metadata": {},
          "execution_count": 71
        }
      ]
    },
    {
      "cell_type": "code",
      "source": [
        "df['Delivery_Rating'].mean()"
      ],
      "metadata": {
        "colab": {
          "base_uri": "https://localhost:8080/"
        },
        "id": "szqA5dVvzwtu",
        "outputId": "de40cf01-ad74-4122-8cfe-65fab1d19cea"
      },
      "execution_count": 72,
      "outputs": [
        {
          "output_type": "execute_result",
          "data": {
            "text/plain": [
              "3.964299424184261"
            ]
          },
          "metadata": {},
          "execution_count": 72
        }
      ]
    },
    {
      "cell_type": "code",
      "source": [
        "df[\"Known_For22\"].value_counts()"
      ],
      "metadata": {
        "colab": {
          "base_uri": "https://localhost:8080/"
        },
        "id": "_zE5qOLL9y60",
        "outputId": "4adce659-af2c-4c99-fe58-e5580afb0799"
      },
      "execution_count": 73,
      "outputs": [
        {
          "output_type": "execute_result",
          "data": {
            "text/plain": [
              "Pretty Decor, Perfect Presentation, Tamper Proof Packaging, Worth the Money, Packing, Food Quality                     2\n",
              "Artistic Decor, The Service, Natural Ambience, Fusion Menu, Serene Ambience, Fusion Food                               1\n",
              "Excellent Place, Great Value, Nice Service, Recommended Place, Good Quality Food, Amazing Taste                        1\n",
              "Amazing Food and Experience, Delivery Instructions, Genuine Price, Faster Delivery, Worth the Price, Food Packaging    1\n",
              "Budget Food, Good for Large Groups, Packed on Weekends, Portions, Good Taste, Main Course                              1\n",
              "                                                                                                                      ..\n",
              "Classy Decor, Wonderful Service, Chinese, Server, Excellent Food, Hospitality                                          1\n",
              "Pocket Friendly, Nice Crowd, Great Ambiance, Polite Staff, Prompt Service, Worth the Money                             1\n",
              "Happy Hour Menu, Balcony Area, Affordable Food, Outdoor Sitting, Good Vibe, Helpful Staff                              1\n",
              "Surrounding, Calm, Beautiful Place, Cafe, Owner, Decor                                                                 1\n",
              "Lip Smacking Food, Amazing Food, Owner, Good Place, Good Food, Quality                                                 1\n",
              "Name: Known_For22, Length: 1123, dtype: int64"
            ]
          },
          "metadata": {},
          "execution_count": 73
        }
      ]
    },
    {
      "cell_type": "code",
      "source": [
        "df[\"Known_For2\"].value_counts()"
      ],
      "metadata": {
        "colab": {
          "base_uri": "https://localhost:8080/"
        },
        "id": "UgApTkED1l8D",
        "outputId": "a1cfa296-2781-4249-816a-f45293f92fb4"
      },
      "execution_count": 74,
      "outputs": [
        {
          "output_type": "execute_result",
          "data": {
            "text/plain": [
              "Get a complimentary night, earn up to 50% of spends as points at 250+ restaurants & much more. Know more    15\n",
              "Finger Food, Continental, Mediterranean, Italian, Asian                                                      9\n",
              "Continental, Italian, Fast Food, North Indian, Beverages, Coffee                                             7\n",
              "Chinese, Asian, Continental, North Indian, Beverages                                                         2\n",
              "Butterscotch Pastry, Truffle Pastry, Chocolate Truffle Cake, Pastries, Waffle, Cakes                         2\n",
              "                                                                                                            ..\n",
              "Passion Fruit Ice Tea, Cardamom Tea, Bun Tikki, Earl Grey Tea, Rose Tea, Smoked Chicken Pasta                1\n",
              "Chicken Crostini, Blackberry Mojito, Butter Maggi, Peri Fries, Masala Tea, Hot Coffee                        1\n",
              "Chicken Thai Curry, Iced Lemon Tea, Pizza Alle Verdure, Veggie Delight, Stroganoff, Chicken Shawarama        1\n",
              "Paneer Birbali, Tomato Soup, Butter Chicken, Dal Makhani, Kadhai Paneer, Shahi Paneer                        1\n",
              "Cordial Staff, Great Recommendations, Mouth Watering Food, Reasonable Prices, Quantity, Ambience             1\n",
              "Name: Known_For2, Length: 1530, dtype: int64"
            ]
          },
          "metadata": {},
          "execution_count": 74
        }
      ]
    },
    {
      "cell_type": "code",
      "source": [
        "df['Known_For2']=df['Known_For2'].fillna(value=\"Get a complimentary night, earn up to 50% of spends as points at 250+ restaurants & much more. Know more\")"
      ],
      "metadata": {
        "id": "8STcC865QTDp"
      },
      "execution_count": 75,
      "outputs": []
    },
    {
      "cell_type": "code",
      "source": [
        "df['Known_For22']=df['Known_For22'].fillna(value=\"Pretty Decor, Perfect Presentation, Tamper Proof Packaging, Worth the Money, Packing, Food Quality \")"
      ],
      "metadata": {
        "id": "URzu_w0ZRPan"
      },
      "execution_count": 76,
      "outputs": []
    },
    {
      "cell_type": "code",
      "source": [
        "df['Delivery_Rating']=df['Delivery_Rating'].fillna(value=3.1)"
      ],
      "metadata": {
        "id": "eHU88PIxsY7A"
      },
      "execution_count": 77,
      "outputs": []
    },
    {
      "cell_type": "code",
      "source": [
        "df.isnull().sum()"
      ],
      "metadata": {
        "colab": {
          "base_uri": "https://localhost:8080/"
        },
        "id": "f8fvOZrnE5js",
        "outputId": "f449d346-e07e-4ed6-f57f-73cfea2b9ac2"
      },
      "execution_count": 78,
      "outputs": [
        {
          "output_type": "execute_result",
          "data": {
            "text/plain": [
              "Restaurant_Name          0\n",
              "Category                 0\n",
              "Pricing_for_2            0\n",
              "Locality                 0\n",
              "Dining_Rating            0\n",
              "Dining_Review_Count      0\n",
              "Delivery_Rating          0\n",
              "Delivery_Rating_Count    0\n",
              "Website                  0\n",
              "Address                  0\n",
              "Phone_No                 0\n",
              "Latitude                 0\n",
              "Longitude                0\n",
              "Known_For2               0\n",
              "Known_For22              0\n",
              "dtype: int64"
            ]
          },
          "metadata": {},
          "execution_count": 78
        }
      ]
    },
    {
      "cell_type": "code",
      "source": [
        "df"
      ],
      "metadata": {
        "colab": {
          "base_uri": "https://localhost:8080/",
          "height": 1000
        },
        "id": "AP_h_SZLIDyw",
        "outputId": "13dbd71c-5ed5-4b81-9ce9-e70b2b5dd419"
      },
      "execution_count": 79,
      "outputs": [
        {
          "output_type": "execute_result",
          "data": {
            "text/plain": [
              "             Restaurant_Name  \\\n",
              "0                   Rustom's   \n",
              "1                  Cafe Lota   \n",
              "2     Dum-Pukht - ITC Maurya   \n",
              "3                Burma Burma   \n",
              "4              The Big Chill   \n",
              "...                      ...   \n",
              "1960          Bablu Chic-Inn   \n",
              "1961               Kovilakam   \n",
              "1962        Krips Restaurant   \n",
              "1963                Cafe 147   \n",
              "1964                Pizzasia   \n",
              "\n",
              "                                               Category  Pricing_for_2  \\\n",
              "0     Parsi, Street Food, North Indian, Desserts, Be...           2100   \n",
              "1           Cafe, South Indian, North Indian, Beverages           1200   \n",
              "2                       Mughlai, North Indian, Desserts           5000   \n",
              "3           Asian, Burmese, Bubble Tea, Desserts, Salad           1600   \n",
              "4                        Continental, American, Italian           1500   \n",
              "...                                                 ...            ...   \n",
              "1960          Mughlai, North Indian, Chinese, Fast Food            500   \n",
              "1961                                       South Indian            350   \n",
              "1962                     North Indian, Chinese, Mughlai            900   \n",
              "1963  Cafe, North Indian, Chinese, Kashmiri, Rolls, ...            800   \n",
              "1964                        Pizza, Fast Food, Beverages            500   \n",
              "\n",
              "                                         Locality  Dining_Rating  \\\n",
              "0                                  ITO, New Delhi            4.9   \n",
              "1                       Pragati Maidan, New Delhi            4.9   \n",
              "2             ITC Maurya, Chanakyapuri, New Delhi            4.9   \n",
              "3              Cyber Hub, DLF Cyber City, Gurgaon            4.9   \n",
              "4                          Khan Market, New Delhi            4.9   \n",
              "...                                           ...            ...   \n",
              "1960               Ashok Vihar Phase 3, New Delhi            3.9   \n",
              "1961                    Dilshad Garden, New Delhi            3.9   \n",
              "1962   Basant Lok Market, Vasant Vihar, New Delhi            3.9   \n",
              "1963                      Sainik Farms, New Delhi            3.9   \n",
              "1964                   Gaur City 2, Greater Noida            3.9   \n",
              "\n",
              "      Dining_Review_Count  Delivery_Rating  Delivery_Rating_Count  \\\n",
              "0                    1885              4.4                   1844   \n",
              "1                    3748              3.9                     37   \n",
              "2                    1371              3.1                      0   \n",
              "3                    2636              4.4                   1238   \n",
              "4                    6487              3.1                      0   \n",
              "...                   ...              ...                    ...   \n",
              "1960                  183              4.1                    545   \n",
              "1961                  114              3.1                      1   \n",
              "1962                  316              3.9                   2977   \n",
              "1963                  120              3.8                    196   \n",
              "1964                  165              3.9                   5196   \n",
              "\n",
              "                                                Website  \\\n",
              "0      https://www.zomato.com/ncr/rustoms-ito-new-delhi   \n",
              "1     https://www.zomato.com/ncr/cafe-lota-pragati-m...   \n",
              "2     https://www.zomato.com/ncr/dum-pukht-itc-maury...   \n",
              "3     https://www.zomato.com/ncr/burma-burma-dlf-cyb...   \n",
              "4     https://www.zomato.com/ncr/the-big-chill-khan-...   \n",
              "...                                                 ...   \n",
              "1960  https://www.zomato.com/ncr/bablu-chic-inn-asho...   \n",
              "1961  https://www.zomato.com/ncr/kovilakam-dilshad-g...   \n",
              "1962  https://www.zomato.com/ncr/krips-restaurant-va...   \n",
              "1963  https://www.zomato.com/ncr/cafe-147-sainik-far...   \n",
              "1964  https://www.zomato.com/ncr/pizzasia-gaur-city-...   \n",
              "\n",
              "                                                Address     Phone_No  \\\n",
              "0     Delhi Parsi Anjuman, LNJP Colony, Bahadur Shah...   9.1991E+11   \n",
              "1     National Crafts Museum, Gate 2, Bhairon Marg, ...  9.17839E+11   \n",
              "2                   ITC Maurya, Chanakyapuri, New Delhi  9.11146E+11   \n",
              "3     Shop 6, Ground Floor, Building 8, Tower C, Cyb...  9.11244E+11   \n",
              "4                          68-A, Khan Market, New Delhi  9.11142E+11   \n",
              "...                                                 ...          ...   \n",
              "1960  Shop 9, Pocket B, DDA Market, Ashok Vihar Phas...      9.2E+11   \n",
              "1961  F-1, Lower Ground 2, Mrignaini Chowk, Dilshad ...  9.19654E+11   \n",
              "1962  59, Community Centre, Basant Lok Market, Vasan...  9.11141E+11   \n",
              "1963  Shop A1/7, Ground Floor, Main IGNOU Road, Neb ...  9.19812E+11   \n",
              "1964  Shop 14, Ground Floor, Bhawishya India Tower, ...  9.18861E+11   \n",
              "\n",
              "       Latitude  Longitude                                         Known_For2  \\\n",
              "0     28.638167  77.240472  Get a complimentary night, earn up to 50% of s...   \n",
              "1     28.613429  77.242471  Pondicherry Fish Curry, Coconut Rabdi, Sabudan...   \n",
              "2     28.598200  77.173661  Royal ambiance and Mughlai cuisine, also recei...   \n",
              "3     28.494464  77.088532  Coconut Milk Dessert, Honey Caviar, Kaffir Lim...   \n",
              "4     28.600350  77.227493  Irish Cream Tiramisu, Penne Vodka, Mississippi...   \n",
              "...         ...        ...                                                ...   \n",
              "1960  28.692473  77.178004  Great Recommendations, Tamper Proof Packaging,...   \n",
              "1961  28.684101  77.326725  Kerala Parotta, Roasted Chicken, Chicken Curry...   \n",
              "1962  28.557310  77.163943  Excellent Food, Good Ambience, Courteous Staff...   \n",
              "1963  28.510338  77.202056  Pool, Live Music, Cafe, Environment, Good Plac...   \n",
              "1964  28.618250  77.427417  Cordial Staff, Great Recommendations, Mouth Wa...   \n",
              "\n",
              "                                            Known_For22  \n",
              "0     Pretty Decor, Perfect Presentation, Tamper Pro...  \n",
              "1     Artistic Decor, The Service, Natural Ambience,...  \n",
              "2     Pretty Decor, Perfect Presentation, Tamper Pro...  \n",
              "3     Knowledgeable Staff, Authentic, Soothing Ambie...  \n",
              "4     Retro Ambience, Yummy Desserts, Big Portions, ...  \n",
              "...                                                 ...  \n",
              "1960  Pretty Decor, Perfect Presentation, Tamper Pro...  \n",
              "1961  Lip Smacking Food, Amazing Food, Owner, Good P...  \n",
              "1962  Pretty Decor, Perfect Presentation, Tamper Pro...  \n",
              "1963  Pretty Decor, Perfect Presentation, Tamper Pro...  \n",
              "1964  Pretty Decor, Perfect Presentation, Tamper Pro...  \n",
              "\n",
              "[1965 rows x 15 columns]"
            ],
            "text/html": [
              "\n",
              "  <div id=\"df-f5e27097-f121-42bb-bc7a-d5c54571f954\" class=\"colab-df-container\">\n",
              "    <div>\n",
              "<style scoped>\n",
              "    .dataframe tbody tr th:only-of-type {\n",
              "        vertical-align: middle;\n",
              "    }\n",
              "\n",
              "    .dataframe tbody tr th {\n",
              "        vertical-align: top;\n",
              "    }\n",
              "\n",
              "    .dataframe thead th {\n",
              "        text-align: right;\n",
              "    }\n",
              "</style>\n",
              "<table border=\"1\" class=\"dataframe\">\n",
              "  <thead>\n",
              "    <tr style=\"text-align: right;\">\n",
              "      <th></th>\n",
              "      <th>Restaurant_Name</th>\n",
              "      <th>Category</th>\n",
              "      <th>Pricing_for_2</th>\n",
              "      <th>Locality</th>\n",
              "      <th>Dining_Rating</th>\n",
              "      <th>Dining_Review_Count</th>\n",
              "      <th>Delivery_Rating</th>\n",
              "      <th>Delivery_Rating_Count</th>\n",
              "      <th>Website</th>\n",
              "      <th>Address</th>\n",
              "      <th>Phone_No</th>\n",
              "      <th>Latitude</th>\n",
              "      <th>Longitude</th>\n",
              "      <th>Known_For2</th>\n",
              "      <th>Known_For22</th>\n",
              "    </tr>\n",
              "  </thead>\n",
              "  <tbody>\n",
              "    <tr>\n",
              "      <th>0</th>\n",
              "      <td>Rustom's</td>\n",
              "      <td>Parsi, Street Food, North Indian, Desserts, Be...</td>\n",
              "      <td>2100</td>\n",
              "      <td>ITO, New Delhi</td>\n",
              "      <td>4.9</td>\n",
              "      <td>1885</td>\n",
              "      <td>4.4</td>\n",
              "      <td>1844</td>\n",
              "      <td>https://www.zomato.com/ncr/rustoms-ito-new-delhi</td>\n",
              "      <td>Delhi Parsi Anjuman, LNJP Colony, Bahadur Shah...</td>\n",
              "      <td>9.1991E+11</td>\n",
              "      <td>28.638167</td>\n",
              "      <td>77.240472</td>\n",
              "      <td>Get a complimentary night, earn up to 50% of s...</td>\n",
              "      <td>Pretty Decor, Perfect Presentation, Tamper Pro...</td>\n",
              "    </tr>\n",
              "    <tr>\n",
              "      <th>1</th>\n",
              "      <td>Cafe Lota</td>\n",
              "      <td>Cafe, South Indian, North Indian, Beverages</td>\n",
              "      <td>1200</td>\n",
              "      <td>Pragati Maidan, New Delhi</td>\n",
              "      <td>4.9</td>\n",
              "      <td>3748</td>\n",
              "      <td>3.9</td>\n",
              "      <td>37</td>\n",
              "      <td>https://www.zomato.com/ncr/cafe-lota-pragati-m...</td>\n",
              "      <td>National Crafts Museum, Gate 2, Bhairon Marg, ...</td>\n",
              "      <td>9.17839E+11</td>\n",
              "      <td>28.613429</td>\n",
              "      <td>77.242471</td>\n",
              "      <td>Pondicherry Fish Curry, Coconut Rabdi, Sabudan...</td>\n",
              "      <td>Artistic Decor, The Service, Natural Ambience,...</td>\n",
              "    </tr>\n",
              "    <tr>\n",
              "      <th>2</th>\n",
              "      <td>Dum-Pukht - ITC Maurya</td>\n",
              "      <td>Mughlai, North Indian, Desserts</td>\n",
              "      <td>5000</td>\n",
              "      <td>ITC Maurya, Chanakyapuri, New Delhi</td>\n",
              "      <td>4.9</td>\n",
              "      <td>1371</td>\n",
              "      <td>3.1</td>\n",
              "      <td>0</td>\n",
              "      <td>https://www.zomato.com/ncr/dum-pukht-itc-maury...</td>\n",
              "      <td>ITC Maurya, Chanakyapuri, New Delhi</td>\n",
              "      <td>9.11146E+11</td>\n",
              "      <td>28.598200</td>\n",
              "      <td>77.173661</td>\n",
              "      <td>Royal ambiance and Mughlai cuisine, also recei...</td>\n",
              "      <td>Pretty Decor, Perfect Presentation, Tamper Pro...</td>\n",
              "    </tr>\n",
              "    <tr>\n",
              "      <th>3</th>\n",
              "      <td>Burma Burma</td>\n",
              "      <td>Asian, Burmese, Bubble Tea, Desserts, Salad</td>\n",
              "      <td>1600</td>\n",
              "      <td>Cyber Hub, DLF Cyber City, Gurgaon</td>\n",
              "      <td>4.9</td>\n",
              "      <td>2636</td>\n",
              "      <td>4.4</td>\n",
              "      <td>1238</td>\n",
              "      <td>https://www.zomato.com/ncr/burma-burma-dlf-cyb...</td>\n",
              "      <td>Shop 6, Ground Floor, Building 8, Tower C, Cyb...</td>\n",
              "      <td>9.11244E+11</td>\n",
              "      <td>28.494464</td>\n",
              "      <td>77.088532</td>\n",
              "      <td>Coconut Milk Dessert, Honey Caviar, Kaffir Lim...</td>\n",
              "      <td>Knowledgeable Staff, Authentic, Soothing Ambie...</td>\n",
              "    </tr>\n",
              "    <tr>\n",
              "      <th>4</th>\n",
              "      <td>The Big Chill</td>\n",
              "      <td>Continental, American, Italian</td>\n",
              "      <td>1500</td>\n",
              "      <td>Khan Market, New Delhi</td>\n",
              "      <td>4.9</td>\n",
              "      <td>6487</td>\n",
              "      <td>3.1</td>\n",
              "      <td>0</td>\n",
              "      <td>https://www.zomato.com/ncr/the-big-chill-khan-...</td>\n",
              "      <td>68-A, Khan Market, New Delhi</td>\n",
              "      <td>9.11142E+11</td>\n",
              "      <td>28.600350</td>\n",
              "      <td>77.227493</td>\n",
              "      <td>Irish Cream Tiramisu, Penne Vodka, Mississippi...</td>\n",
              "      <td>Retro Ambience, Yummy Desserts, Big Portions, ...</td>\n",
              "    </tr>\n",
              "    <tr>\n",
              "      <th>...</th>\n",
              "      <td>...</td>\n",
              "      <td>...</td>\n",
              "      <td>...</td>\n",
              "      <td>...</td>\n",
              "      <td>...</td>\n",
              "      <td>...</td>\n",
              "      <td>...</td>\n",
              "      <td>...</td>\n",
              "      <td>...</td>\n",
              "      <td>...</td>\n",
              "      <td>...</td>\n",
              "      <td>...</td>\n",
              "      <td>...</td>\n",
              "      <td>...</td>\n",
              "      <td>...</td>\n",
              "    </tr>\n",
              "    <tr>\n",
              "      <th>1960</th>\n",
              "      <td>Bablu Chic-Inn</td>\n",
              "      <td>Mughlai, North Indian, Chinese, Fast Food</td>\n",
              "      <td>500</td>\n",
              "      <td>Ashok Vihar Phase 3, New Delhi</td>\n",
              "      <td>3.9</td>\n",
              "      <td>183</td>\n",
              "      <td>4.1</td>\n",
              "      <td>545</td>\n",
              "      <td>https://www.zomato.com/ncr/bablu-chic-inn-asho...</td>\n",
              "      <td>Shop 9, Pocket B, DDA Market, Ashok Vihar Phas...</td>\n",
              "      <td>9.2E+11</td>\n",
              "      <td>28.692473</td>\n",
              "      <td>77.178004</td>\n",
              "      <td>Great Recommendations, Tamper Proof Packaging,...</td>\n",
              "      <td>Pretty Decor, Perfect Presentation, Tamper Pro...</td>\n",
              "    </tr>\n",
              "    <tr>\n",
              "      <th>1961</th>\n",
              "      <td>Kovilakam</td>\n",
              "      <td>South Indian</td>\n",
              "      <td>350</td>\n",
              "      <td>Dilshad Garden, New Delhi</td>\n",
              "      <td>3.9</td>\n",
              "      <td>114</td>\n",
              "      <td>3.1</td>\n",
              "      <td>1</td>\n",
              "      <td>https://www.zomato.com/ncr/kovilakam-dilshad-g...</td>\n",
              "      <td>F-1, Lower Ground 2, Mrignaini Chowk, Dilshad ...</td>\n",
              "      <td>9.19654E+11</td>\n",
              "      <td>28.684101</td>\n",
              "      <td>77.326725</td>\n",
              "      <td>Kerala Parotta, Roasted Chicken, Chicken Curry...</td>\n",
              "      <td>Lip Smacking Food, Amazing Food, Owner, Good P...</td>\n",
              "    </tr>\n",
              "    <tr>\n",
              "      <th>1962</th>\n",
              "      <td>Krips Restaurant</td>\n",
              "      <td>North Indian, Chinese, Mughlai</td>\n",
              "      <td>900</td>\n",
              "      <td>Basant Lok Market, Vasant Vihar, New Delhi</td>\n",
              "      <td>3.9</td>\n",
              "      <td>316</td>\n",
              "      <td>3.9</td>\n",
              "      <td>2977</td>\n",
              "      <td>https://www.zomato.com/ncr/krips-restaurant-va...</td>\n",
              "      <td>59, Community Centre, Basant Lok Market, Vasan...</td>\n",
              "      <td>9.11141E+11</td>\n",
              "      <td>28.557310</td>\n",
              "      <td>77.163943</td>\n",
              "      <td>Excellent Food, Good Ambience, Courteous Staff...</td>\n",
              "      <td>Pretty Decor, Perfect Presentation, Tamper Pro...</td>\n",
              "    </tr>\n",
              "    <tr>\n",
              "      <th>1963</th>\n",
              "      <td>Cafe 147</td>\n",
              "      <td>Cafe, North Indian, Chinese, Kashmiri, Rolls, ...</td>\n",
              "      <td>800</td>\n",
              "      <td>Sainik Farms, New Delhi</td>\n",
              "      <td>3.9</td>\n",
              "      <td>120</td>\n",
              "      <td>3.8</td>\n",
              "      <td>196</td>\n",
              "      <td>https://www.zomato.com/ncr/cafe-147-sainik-far...</td>\n",
              "      <td>Shop A1/7, Ground Floor, Main IGNOU Road, Neb ...</td>\n",
              "      <td>9.19812E+11</td>\n",
              "      <td>28.510338</td>\n",
              "      <td>77.202056</td>\n",
              "      <td>Pool, Live Music, Cafe, Environment, Good Plac...</td>\n",
              "      <td>Pretty Decor, Perfect Presentation, Tamper Pro...</td>\n",
              "    </tr>\n",
              "    <tr>\n",
              "      <th>1964</th>\n",
              "      <td>Pizzasia</td>\n",
              "      <td>Pizza, Fast Food, Beverages</td>\n",
              "      <td>500</td>\n",
              "      <td>Gaur City 2, Greater Noida</td>\n",
              "      <td>3.9</td>\n",
              "      <td>165</td>\n",
              "      <td>3.9</td>\n",
              "      <td>5196</td>\n",
              "      <td>https://www.zomato.com/ncr/pizzasia-gaur-city-...</td>\n",
              "      <td>Shop 14, Ground Floor, Bhawishya India Tower, ...</td>\n",
              "      <td>9.18861E+11</td>\n",
              "      <td>28.618250</td>\n",
              "      <td>77.427417</td>\n",
              "      <td>Cordial Staff, Great Recommendations, Mouth Wa...</td>\n",
              "      <td>Pretty Decor, Perfect Presentation, Tamper Pro...</td>\n",
              "    </tr>\n",
              "  </tbody>\n",
              "</table>\n",
              "<p>1965 rows × 15 columns</p>\n",
              "</div>\n",
              "    <div class=\"colab-df-buttons\">\n",
              "\n",
              "  <div class=\"colab-df-container\">\n",
              "    <button class=\"colab-df-convert\" onclick=\"convertToInteractive('df-f5e27097-f121-42bb-bc7a-d5c54571f954')\"\n",
              "            title=\"Convert this dataframe to an interactive table.\"\n",
              "            style=\"display:none;\">\n",
              "\n",
              "  <svg xmlns=\"http://www.w3.org/2000/svg\" height=\"24px\" viewBox=\"0 -960 960 960\">\n",
              "    <path d=\"M120-120v-720h720v720H120Zm60-500h600v-160H180v160Zm220 220h160v-160H400v160Zm0 220h160v-160H400v160ZM180-400h160v-160H180v160Zm440 0h160v-160H620v160ZM180-180h160v-160H180v160Zm440 0h160v-160H620v160Z\"/>\n",
              "  </svg>\n",
              "    </button>\n",
              "\n",
              "  <style>\n",
              "    .colab-df-container {\n",
              "      display:flex;\n",
              "      gap: 12px;\n",
              "    }\n",
              "\n",
              "    .colab-df-convert {\n",
              "      background-color: #E8F0FE;\n",
              "      border: none;\n",
              "      border-radius: 50%;\n",
              "      cursor: pointer;\n",
              "      display: none;\n",
              "      fill: #1967D2;\n",
              "      height: 32px;\n",
              "      padding: 0 0 0 0;\n",
              "      width: 32px;\n",
              "    }\n",
              "\n",
              "    .colab-df-convert:hover {\n",
              "      background-color: #E2EBFA;\n",
              "      box-shadow: 0px 1px 2px rgba(60, 64, 67, 0.3), 0px 1px 3px 1px rgba(60, 64, 67, 0.15);\n",
              "      fill: #174EA6;\n",
              "    }\n",
              "\n",
              "    .colab-df-buttons div {\n",
              "      margin-bottom: 4px;\n",
              "    }\n",
              "\n",
              "    [theme=dark] .colab-df-convert {\n",
              "      background-color: #3B4455;\n",
              "      fill: #D2E3FC;\n",
              "    }\n",
              "\n",
              "    [theme=dark] .colab-df-convert:hover {\n",
              "      background-color: #434B5C;\n",
              "      box-shadow: 0px 1px 3px 1px rgba(0, 0, 0, 0.15);\n",
              "      filter: drop-shadow(0px 1px 2px rgba(0, 0, 0, 0.3));\n",
              "      fill: #FFFFFF;\n",
              "    }\n",
              "  </style>\n",
              "\n",
              "    <script>\n",
              "      const buttonEl =\n",
              "        document.querySelector('#df-f5e27097-f121-42bb-bc7a-d5c54571f954 button.colab-df-convert');\n",
              "      buttonEl.style.display =\n",
              "        google.colab.kernel.accessAllowed ? 'block' : 'none';\n",
              "\n",
              "      async function convertToInteractive(key) {\n",
              "        const element = document.querySelector('#df-f5e27097-f121-42bb-bc7a-d5c54571f954');\n",
              "        const dataTable =\n",
              "          await google.colab.kernel.invokeFunction('convertToInteractive',\n",
              "                                                    [key], {});\n",
              "        if (!dataTable) return;\n",
              "\n",
              "        const docLinkHtml = 'Like what you see? Visit the ' +\n",
              "          '<a target=\"_blank\" href=https://colab.research.google.com/notebooks/data_table.ipynb>data table notebook</a>'\n",
              "          + ' to learn more about interactive tables.';\n",
              "        element.innerHTML = '';\n",
              "        dataTable['output_type'] = 'display_data';\n",
              "        await google.colab.output.renderOutput(dataTable, element);\n",
              "        const docLink = document.createElement('div');\n",
              "        docLink.innerHTML = docLinkHtml;\n",
              "        element.appendChild(docLink);\n",
              "      }\n",
              "    </script>\n",
              "  </div>\n",
              "\n",
              "\n",
              "<div id=\"df-f9388201-42ac-4e5b-9985-b25896858d7e\">\n",
              "  <button class=\"colab-df-quickchart\" onclick=\"quickchart('df-f9388201-42ac-4e5b-9985-b25896858d7e')\"\n",
              "            title=\"Suggest charts.\"\n",
              "            style=\"display:none;\">\n",
              "\n",
              "<svg xmlns=\"http://www.w3.org/2000/svg\" height=\"24px\"viewBox=\"0 0 24 24\"\n",
              "     width=\"24px\">\n",
              "    <g>\n",
              "        <path d=\"M19 3H5c-1.1 0-2 .9-2 2v14c0 1.1.9 2 2 2h14c1.1 0 2-.9 2-2V5c0-1.1-.9-2-2-2zM9 17H7v-7h2v7zm4 0h-2V7h2v10zm4 0h-2v-4h2v4z\"/>\n",
              "    </g>\n",
              "</svg>\n",
              "  </button>\n",
              "\n",
              "<style>\n",
              "  .colab-df-quickchart {\n",
              "      --bg-color: #E8F0FE;\n",
              "      --fill-color: #1967D2;\n",
              "      --hover-bg-color: #E2EBFA;\n",
              "      --hover-fill-color: #174EA6;\n",
              "      --disabled-fill-color: #AAA;\n",
              "      --disabled-bg-color: #DDD;\n",
              "  }\n",
              "\n",
              "  [theme=dark] .colab-df-quickchart {\n",
              "      --bg-color: #3B4455;\n",
              "      --fill-color: #D2E3FC;\n",
              "      --hover-bg-color: #434B5C;\n",
              "      --hover-fill-color: #FFFFFF;\n",
              "      --disabled-bg-color: #3B4455;\n",
              "      --disabled-fill-color: #666;\n",
              "  }\n",
              "\n",
              "  .colab-df-quickchart {\n",
              "    background-color: var(--bg-color);\n",
              "    border: none;\n",
              "    border-radius: 50%;\n",
              "    cursor: pointer;\n",
              "    display: none;\n",
              "    fill: var(--fill-color);\n",
              "    height: 32px;\n",
              "    padding: 0;\n",
              "    width: 32px;\n",
              "  }\n",
              "\n",
              "  .colab-df-quickchart:hover {\n",
              "    background-color: var(--hover-bg-color);\n",
              "    box-shadow: 0 1px 2px rgba(60, 64, 67, 0.3), 0 1px 3px 1px rgba(60, 64, 67, 0.15);\n",
              "    fill: var(--button-hover-fill-color);\n",
              "  }\n",
              "\n",
              "  .colab-df-quickchart-complete:disabled,\n",
              "  .colab-df-quickchart-complete:disabled:hover {\n",
              "    background-color: var(--disabled-bg-color);\n",
              "    fill: var(--disabled-fill-color);\n",
              "    box-shadow: none;\n",
              "  }\n",
              "\n",
              "  .colab-df-spinner {\n",
              "    border: 2px solid var(--fill-color);\n",
              "    border-color: transparent;\n",
              "    border-bottom-color: var(--fill-color);\n",
              "    animation:\n",
              "      spin 1s steps(1) infinite;\n",
              "  }\n",
              "\n",
              "  @keyframes spin {\n",
              "    0% {\n",
              "      border-color: transparent;\n",
              "      border-bottom-color: var(--fill-color);\n",
              "      border-left-color: var(--fill-color);\n",
              "    }\n",
              "    20% {\n",
              "      border-color: transparent;\n",
              "      border-left-color: var(--fill-color);\n",
              "      border-top-color: var(--fill-color);\n",
              "    }\n",
              "    30% {\n",
              "      border-color: transparent;\n",
              "      border-left-color: var(--fill-color);\n",
              "      border-top-color: var(--fill-color);\n",
              "      border-right-color: var(--fill-color);\n",
              "    }\n",
              "    40% {\n",
              "      border-color: transparent;\n",
              "      border-right-color: var(--fill-color);\n",
              "      border-top-color: var(--fill-color);\n",
              "    }\n",
              "    60% {\n",
              "      border-color: transparent;\n",
              "      border-right-color: var(--fill-color);\n",
              "    }\n",
              "    80% {\n",
              "      border-color: transparent;\n",
              "      border-right-color: var(--fill-color);\n",
              "      border-bottom-color: var(--fill-color);\n",
              "    }\n",
              "    90% {\n",
              "      border-color: transparent;\n",
              "      border-bottom-color: var(--fill-color);\n",
              "    }\n",
              "  }\n",
              "</style>\n",
              "\n",
              "  <script>\n",
              "    async function quickchart(key) {\n",
              "      const quickchartButtonEl =\n",
              "        document.querySelector('#' + key + ' button');\n",
              "      quickchartButtonEl.disabled = true;  // To prevent multiple clicks.\n",
              "      quickchartButtonEl.classList.add('colab-df-spinner');\n",
              "      try {\n",
              "        const charts = await google.colab.kernel.invokeFunction(\n",
              "            'suggestCharts', [key], {});\n",
              "      } catch (error) {\n",
              "        console.error('Error during call to suggestCharts:', error);\n",
              "      }\n",
              "      quickchartButtonEl.classList.remove('colab-df-spinner');\n",
              "      quickchartButtonEl.classList.add('colab-df-quickchart-complete');\n",
              "    }\n",
              "    (() => {\n",
              "      let quickchartButtonEl =\n",
              "        document.querySelector('#df-f9388201-42ac-4e5b-9985-b25896858d7e button');\n",
              "      quickchartButtonEl.style.display =\n",
              "        google.colab.kernel.accessAllowed ? 'block' : 'none';\n",
              "    })();\n",
              "  </script>\n",
              "</div>\n",
              "    </div>\n",
              "  </div>\n"
            ]
          },
          "metadata": {},
          "execution_count": 79
        }
      ]
    },
    {
      "cell_type": "markdown",
      "source": [
        "***Ques 2.Which restaurant is the best one having ratings more than 4.5 for delivery***"
      ],
      "metadata": {
        "id": "LSog6HPRERRz"
      }
    },
    {
      "cell_type": "code",
      "source": [
        "a=df['Restaurant_Name'][(df['Delivery_Rating']>=4.5)]\n",
        "a\n"
      ],
      "metadata": {
        "colab": {
          "base_uri": "https://localhost:8080/"
        },
        "id": "e4EVLYvpE4SR",
        "outputId": "dbcd5f12-fa6b-4794-f6ee-b8fe96e2a1c5"
      },
      "execution_count": 80,
      "outputs": [
        {
          "output_type": "execute_result",
          "data": {
            "text/plain": [
              "7                          Natural Ice Cream\n",
              "152     The Haven International Coffee House\n",
              "249                            Sibang Bakery\n",
              "269                                BreadTalk\n",
              "829                                Krua Thai\n",
              "1342                 KAP's Restro Bar & Cafe\n",
              "1445                                Choko La\n",
              "1505                          Twist of Italy\n",
              "Name: Restaurant_Name, dtype: object"
            ]
          },
          "metadata": {},
          "execution_count": 80
        }
      ]
    },
    {
      "cell_type": "code",
      "source": [
        "sns.barplot(x='Delivery_Rating',y=a,data=data)"
      ],
      "metadata": {
        "id": "LJQWGM2JNZE5",
        "colab": {
          "base_uri": "https://localhost:8080/",
          "height": 468
        },
        "outputId": "b3fa3d21-2066-4c0f-e7f2-92142f6cb3e4"
      },
      "execution_count": 81,
      "outputs": [
        {
          "output_type": "execute_result",
          "data": {
            "text/plain": [
              "<Axes: xlabel='Delivery_Rating', ylabel='Restaurant_Name'>"
            ]
          },
          "metadata": {},
          "execution_count": 81
        },
        {
          "output_type": "display_data",
          "data": {
            "text/plain": [
              "<Figure size 640x480 with 1 Axes>"
            ],
            "image/png": "[encoded data removed]"
          },
          "metadata": {}
        }
      ]
    },
    {
      "cell_type": "markdown",
      "source": [
        " Best Restaurant Rating more than 4.5 is Natural Ice Cream"
      ],
      "metadata": {
        "id": "jSl599DieACj"
      }
    },
    {
      "cell_type": "markdown",
      "source": [
        "***Ques 3.What type of food is most preffered by the customers?***"
      ],
      "metadata": {
        "id": "tvo7bP0jb2gG"
      }
    },
    {
      "cell_type": "code",
      "source": [
        "t=data['Category'].value_counts()\n",
        "t"
      ],
      "metadata": {
        "colab": {
          "base_uri": "https://localhost:8080/"
        },
        "id": "bWCzgfhgb7A3",
        "outputId": "3fc63420-5a08-4436-fa65-cfab4ed6e0bb"
      },
      "execution_count": 82,
      "outputs": [
        {
          "output_type": "execute_result",
          "data": {
            "text/plain": [
              "North Indian                                                      88\n",
              "North Indian, Chinese                                             39\n",
              "North Indian, Mughlai                                             37\n",
              "Pizza, Fast Food                                                  19\n",
              "North Indian, Chinese, Mughlai                                    17\n",
              "                                                                  ..\n",
              "North Indian, Kebab, Mughlai, Biryani, Beverages                   1\n",
              "North Indian, Continental, Italian, Chinese                        1\n",
              "North Indian, Continental, Asian, Chinese                          1\n",
              "Afghan, Iranian, Awadhi, Beverages                                 1\n",
              "Cafe, North Indian, Chinese, Kashmiri, Rolls, Pizza, Beverages     1\n",
              "Name: Category, Length: 1355, dtype: int64"
            ]
          },
          "metadata": {},
          "execution_count": 82
        }
      ]
    },
    {
      "cell_type": "code",
      "source": [
        "plt.hist(t,bins=100,width=1)\n",
        "plt.show()"
      ],
      "metadata": {
        "colab": {
          "base_uri": "https://localhost:8080/",
          "height": 430
        },
        "id": "RPhlWawKcHJl",
        "outputId": "5d5fe2e7-a1c8-4dc9-8c85-1d760062299c"
      },
      "execution_count": 83,
      "outputs": [
        {
          "output_type": "display_data",
          "data": {
            "text/plain": [
              "<Figure size 640x480 with 1 Axes>"
            ],
            "image/png": "[encoded data removed]"
          },
          "metadata": {}
        }
      ]
    },
    {
      "cell_type": "markdown",
      "source": [
        " *Most Preffered food by Customer is North Indian*"
      ],
      "metadata": {
        "id": "uww-p7F6dszi"
      }
    },
    {
      "cell_type": "markdown",
      "source": [
        "***Ques 4.How many people prefer delivery rather than dining ?***"
      ],
      "metadata": {
        "id": "fCII-oyYerSE"
      }
    },
    {
      "cell_type": "code",
      "source": [
        "df['Dining_Review_Count'].value_counts()\n"
      ],
      "metadata": {
        "colab": {
          "base_uri": "https://localhost:8080/"
        },
        "id": "FiNuGAdRd6AB",
        "outputId": "3efa1e98-0118-4feb-9a31-4cd9f546488a"
      },
      "execution_count": 84,
      "outputs": [
        {
          "output_type": "execute_result",
          "data": {
            "text/plain": [
              "180     9\n",
              "330     8\n",
              "216     8\n",
              "272     7\n",
              "257     7\n",
              "       ..\n",
              "1359    1\n",
              "876     1\n",
              "655     1\n",
              "537     1\n",
              "312     1\n",
              "Name: Dining_Review_Count, Length: 1056, dtype: int64"
            ]
          },
          "metadata": {},
          "execution_count": 84
        }
      ]
    },
    {
      "cell_type": "code",
      "source": [
        "st=(df[\"Delivery_Rating_Count\"]-df['Dining_Review_Count']).sum()\n",
        "st"
      ],
      "metadata": {
        "colab": {
          "base_uri": "https://localhost:8080/"
        },
        "id": "sJRifYVVlm8k",
        "outputId": "3ff941b2-5159-4859-f6c3-5753379c82b8"
      },
      "execution_count": 85,
      "outputs": [
        {
          "output_type": "execute_result",
          "data": {
            "text/plain": [
              "4534427"
            ]
          },
          "metadata": {},
          "execution_count": 85
        }
      ]
    },
    {
      "cell_type": "code",
      "source": [
        "xa=data['Delivery_Rating']\n",
        "ya=data['Delivery_Rating_Count']\n",
        "x2=data['Dining_Rating']\n",
        "y2=data['Dining_Review_Count']\n",
        "plt.scatter(xa,ya,c='g')\n",
        "plt.scatter(x2,y2,c='b')\n",
        "plt.show()"
      ],
      "metadata": {
        "colab": {
          "base_uri": "https://localhost:8080/",
          "height": 430
        },
        "id": "lr9R8rCa1z4O",
        "outputId": "1878590b-b145-4b2d-a4ed-6d05636b2c69"
      },
      "execution_count": 86,
      "outputs": [
        {
          "output_type": "display_data",
          "data": {
            "text/plain": [
              "<Figure size 640x480 with 1 Axes>"
            ],
            "image/png": "[encoded data removed]"
          },
          "metadata": {}
        }
      ]
    },
    {
      "cell_type": "markdown",
      "source": [
        "*4534427  People prefer Delivery rather than Dining*"
      ],
      "metadata": {
        "id": "8b9GTssZ50pG"
      }
    },
    {
      "cell_type": "markdown",
      "source": [
        "Ques 5.Which restaurant is the best one having ratings more than 4.5 for dining?"
      ],
      "metadata": {
        "id": "hwYUTvj9f_R_"
      }
    },
    {
      "cell_type": "code",
      "source": [
        "maxValues = df['Dining_Rating'].max()\n",
        "maxValues"
      ],
      "metadata": {
        "colab": {
          "base_uri": "https://localhost:8080/"
        },
        "id": "OREWKKHdvX6_",
        "outputId": "276cb81c-044f-4d10-a735-89d574988169"
      },
      "execution_count": 87,
      "outputs": [
        {
          "output_type": "execute_result",
          "data": {
            "text/plain": [
              "4.9"
            ]
          },
          "metadata": {},
          "execution_count": 87
        }
      ]
    },
    {
      "cell_type": "code",
      "source": [
        "df['Dining_Rating'].value_counts().plot(kind='bar')"
      ],
      "metadata": {
        "colab": {
          "base_uri": "https://localhost:8080/",
          "height": 456
        },
        "id": "AoyDwOtSfTz0",
        "outputId": "0d8aa217-d452-424a-f3ee-fc3cdf14ad0e"
      },
      "execution_count": 88,
      "outputs": [
        {
          "output_type": "execute_result",
          "data": {
            "text/plain": [
              "<Axes: >"
            ]
          },
          "metadata": {},
          "execution_count": 88
        },
        {
          "output_type": "display_data",
          "data": {
            "text/plain": [
              "<Figure size 640x480 with 1 Axes>"
            ],
            "image/png": "[encoded data removed]"
          },
          "metadata": {}
        }
      ]
    },
    {
      "cell_type": "code",
      "source": [
        "p=df['Dining_Rating']*df[\"Dining_Review_Count\"]\n",
        "order = df['Restaurant_Name'].value_counts().index\n",
        "ax=sns.barplot(x=p,y=df[\"Restaurant_Name\"] ,order=order[:28])"
      ],
      "metadata": {
        "id": "vVlUDCtzgEmv",
        "colab": {
          "base_uri": "https://localhost:8080/",
          "height": 430
        },
        "outputId": "f42b2506-86a0-4a0e-9fa2-711c1134847b"
      },
      "execution_count": 89,
      "outputs": [
        {
          "output_type": "display_data",
          "data": {
            "text/plain": [
              "<Figure size 640x480 with 1 Axes>"
            ],
            "image/png": "[encoded data removed]"
          },
          "metadata": {}
        }
      ]
    },
    {
      "cell_type": "markdown",
      "source": [
        "*Best Restaurant Rating more than 4.5 is \"The Big Chill*\""
      ],
      "metadata": {
        "id": "_nUkX70ryOJk"
      }
    },
    {
      "cell_type": "markdown",
      "source": [
        "***Q6.Compare different delivery rating counts of different restaurants. Also tell that which restaurants has got the highest rating counts. Do this by creating a barplot***"
      ],
      "metadata": {
        "id": "AvChjGeu6pKl"
      }
    },
    {
      "cell_type": "code",
      "source": [
        "data.sort_values('Delivery_Rating_Count', ascending=False, inplace=True)"
      ],
      "metadata": {
        "id": "mTTzjHOM7hrs"
      },
      "execution_count": 90,
      "outputs": []
    },
    {
      "cell_type": "code",
      "source": [
        "M=data['Restaurant_Name'].head()\n",
        "plt.figure(figsize=(13,3))\n",
        "sns.barplot(x=M, y='Delivery_Rating_Count', data=data)\n",
        "plt.show()"
      ],
      "metadata": {
        "colab": {
          "base_uri": "https://localhost:8080/",
          "height": 311
        },
        "id": "PLT6YEdH7kGu",
        "outputId": "63554db7-17d8-43db-e4ff-0ad289171172"
      },
      "execution_count": 103,
      "outputs": [
        {
          "output_type": "display_data",
          "data": {
            "text/plain": [
              "<Figure size 1300x300 with 1 Axes>"
            ],
            "image/png": "[encoded data removed]"
          },
          "metadata": {}
        }
      ]
    },
    {
      "cell_type": "markdown",
      "source": [
        "*Punjabi Angithi got the highest rating counts*"
      ],
      "metadata": {
        "id": "qzYdOfQAHLEl"
      }
    }
  ]
}